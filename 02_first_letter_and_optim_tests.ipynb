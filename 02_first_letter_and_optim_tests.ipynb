{
 "cells": [
  {
   "cell_type": "code",
   "execution_count": 9,
   "metadata": {},
   "outputs": [
    {
     "name": "stderr",
     "output_type": "stream",
     "text": [
      "/Users/kallejarvenpaa/opt/miniconda3/envs/ai-font-p3.9/lib/python3.9/site-packages/fastai/callback/core.py:51: UserWarning: You are shadowing an attribute (__class__) that exists in the learner. Use `self.learn.__class__` to avoid this\n",
      "  warn(f\"You are shadowing an attribute ({name}) that exists in the learner. Use `self.learn.{name}` to avoid this\")\n"
     ]
    },
    {
     "name": "stdout",
     "output_type": "stream",
     "text": [
      "The autoreload extension is already loaded. To reload it, use:\n",
      "  %reload_ext autoreload\n"
     ]
    }
   ],
   "source": [
    "# default_exp first_letter_and_optim_test\n",
    "%load_ext autoreload\n",
    "%autoreload 2"
   ]
  },
  {
   "cell_type": "markdown",
   "metadata": {},
   "source": [
    "# Creating the First Letter Vector Model and Testing Optimisation\n",
    "\n",
    "> Creating the `VectorRenderLayer` for the first letter of the uppercase sans-serif alphabet. The parameters are based on the list [Sans-serif uppercase font parameters](https://docs.google.com/spreadsheets/d/1myiVDPCNNRzwTSw9VFKqdw26Bk8wPQNQXa9ix_EL_CA/edit?usp=sharing). Also, testing different optimisation methods and analysing the results."
   ]
  },
  {
   "cell_type": "code",
   "execution_count": 10,
   "metadata": {},
   "outputs": [],
   "source": [
    "#export\n",
    "from aifont.core import *\n",
    "from aifont.fontlearner import *\n",
    "from aifont.ocrlearner import *\n",
    "from collections import OrderedDict\n",
    "from fastai.data.all import *\n",
    "from fastai.vision.all import *\n",
    "import gc\n",
    "from nbdev.showdoc import *\n",
    "from pandas import DataFrame\n",
    "import pydiffvg\n",
    "import torch\n",
    "from typing import Callable, List, Protocol, Tuple, Union"
   ]
  },
  {
   "cell_type": "markdown",
   "metadata": {},
   "source": [
    "## To Do\n",
    "\n",
    "* Gradient clipping so we can use a large enough LR to capture the small local variations in loss\n",
    "  * See https://docs.fast.ai/callback.training.html#GradientClip\n",
    "* Test thickness\n",
    "* Remove dls loading from ocr_learner, just load state_dict\n",
    "* Fix learner shadow attribute\n",
    "\n",
    "Fix training problem\n",
    "\n",
    "Check that has TrainEvalCallback which sets learn.training\n",
    "\n",
    "Check that dls has n_inp"
   ]
  },
  {
   "cell_type": "markdown",
   "metadata": {},
   "source": [
    "## Letter Model"
   ]
  },
  {
   "cell_type": "code",
   "execution_count": 11,
   "metadata": {},
   "outputs": [],
   "source": [
    "#export\n",
    "\n",
    "DEFAULT_FONT_PARAM_SPECS = OrderedDict({\n",
    "    \"Height\":       PRANGE_NONZERO,\n",
    "    \"Slant\":        PRANGE_BIDIR,\n",
    "    \"Midline\":      PRANGE_DEFAULT,\n",
    "    \"Width, AV\":    PRANGE_NONZERO,\n",
    "    \"Offset xp from symmetry, AXZ\": PRANGE_BIDIR_S,\n",
    "    \"Overshoot, AMNVW\": PRANGE_ASYM_S, # An option is to allow negative values for this\n",
    "    \"Crossbar y offset, A\": PRANGE_BIDIR_H,\n",
    "    \"Stroke width\": PRANGE_STROKE,\n",
    "    })\n",
    "\n",
    "# Letter groups\n",
    "# Crop the ends of strokes going beyond cap height or baseline\n",
    "LETTERS_CROP_BOTH        = \"AB DE FHI KLMN P R T VWXYZ\"\n",
    "LETTERS_CROP_TOP_ONLY    = \"         J          U     \"\n",
    "# Pad vertex points by half stroke width\n",
    "LETTERS_PAD_LEFT         = \"ABCDEFGHIJKLMNOPQRS UVWXYZ\"\n",
    "LETTERS_PAD_RIGHT        = \"ABCD  GHIJK MNOPQRS UVWXY \"\n",
    "LETTERS_PAD_TOP          = \" BCDEFG       OPQRST     Z\"\n",
    "LETTERS_PAD_BOTTOM       = \" BCDE G  J L  O Q S U    Z\"\n",
    "# The directions to apply overshoot to\n",
    "LETTERS_OVERSHOOT_TOP    = \"A C   G       O Q S       \"\n",
    "LETTERS_OVERSHOOT_BOTTOM = \"  C   G  J    O Q S UVW   \"\n",
    "\n",
    "class SansSerifFontARL(VectorRenderLayerBase):\n",
    "    \"\"\"A model for rendering a whole sans serif font. Init takes `vocab`\n",
    "       to define which letters are allowed. `param_specs` defines the \n",
    "       value ranges for the parameters (see source).\"\"\"\n",
    "    \n",
    "    def __init__(self, param_specs: OrderedDict = DEFAULT_FONT_PARAM_SPECS, max_distance=1.0, **kwargs):\n",
    "        assert param_specs is not None\n",
    "        assert max_distance == 1.0, \"Do not use max_distance with SansSerifFontARL\"\n",
    "        # Note that we allow the full range for stroke_width as it's restrictions are\n",
    "        # done in param_specs \n",
    "        super(SansSerifFontARL, self).__init__(param_specs=param_specs, max_distance=max_distance,\n",
    "                                              stroke_width = (0., 1.), **kwargs)\n",
    "\n",
    "    def crop_box(self, p1=tensor(0., 0.), p2=tensor(1., 1.), expand_distance=True) -> pydiffvg.Rect:\n",
    "        \"\"\"Create a cropping box with corner points `p1` and `p2`.\"\"\"\n",
    "        return pydiffvg.Rect(self.expand_distance(p1) if expand_distance else p1, \n",
    "                             self.expand_distance(p2) if expand_distance else p2, \n",
    "                             stroke_width=tensor(0.))\n",
    "\n",
    "    def create_scenes(self) -> None:\n",
    "        \"\"\"Create scenes for rendering for the whole batch contained in `self.x`.\"\"\"\n",
    "        for i in range(self.bs):\n",
    "            self.i = i\n",
    "            letter = self.get_letter()\n",
    "\n",
    "            # General params\n",
    "            p_height   = self.get_param_value(\"Height\")\n",
    "            # p_slant  = self.get_param_value(\"Slant\") # NOT USED\n",
    "            p_midline  = self.get_param_value(\"Midline\")\n",
    "            p_stroke_w = self.get_param_value(\"Stroke width\")\n",
    "\n",
    "            # Precalculated properties\n",
    "            top_y = (1 - p_height) / 2\n",
    "            baseline_y = top_y + p_height\n",
    "            expanded_stroke_w = self.expand_stroke_width(p_stroke_w)\n",
    "\n",
    "            shapes = None\n",
    "\n",
    "            def get_bbox(p_width, p_overshoot = tensor(0.)) -> Tensor:\n",
    "                \"\"\"Calculate the coordinates for the bounding box of vertices.\n",
    "                    NB. Needs access to global params.\"\"\"\n",
    "                w = p_height * p_width\n",
    "                x1 = (1 - w) / 2\n",
    "                x2 = x1 + w\n",
    "                y1 = (1 - p_height) / 2\n",
    "                y2 = y1 + p_height\n",
    "                dw = p_stroke_w / 2\n",
    "                if letter in LETTERS_PAD_LEFT:         x1 += dw\n",
    "                if letter in LETTERS_PAD_RIGHT:        x2 -= dw\n",
    "                if letter in LETTERS_PAD_TOP:          y1 += dw\n",
    "                if letter in LETTERS_PAD_BOTTOM:       y2 -= dw\n",
    "                if letter in LETTERS_OVERSHOOT_TOP:    y1 -= p_overshoot\n",
    "                if letter in LETTERS_OVERSHOOT_BOTTOM: y2 += p_overshoot\n",
    "                return concat_tensors(x1, y1, x2, y2, x2 - x1, y2 - y1).reshape(3, 2)\n",
    "\n",
    "            if letter == \"A\":\n",
    "                # Consists of an inverted V shape and the crossbar\n",
    "                # The angles of the V can be asymmetrically slanted\n",
    "\n",
    "                # Local params\n",
    "                p_width            = self.get_param_value(\"Width, AV\")\n",
    "                p_asymmetry_offset = self.get_param_value(\"Offset xp from symmetry, AXZ\")\n",
    "                p_overshoot        = self.get_param_value(\"Overshoot, AMNVW\")\n",
    "                p_crossbar_offset  = self.get_param_value(\"Crossbar y offset, A\")\n",
    "\n",
    "                # Get vertex bounding box [[xmin, ymin], [xmax, ymax], [width, height]]\n",
    "                bbox = get_bbox(p_width, p_overshoot)\n",
    "                w, h = bbox[2][0], bbox[2][1]\n",
    "\n",
    "                # Get iV relative center\n",
    "                center_dx = bbox[2][0] / 2 + p_asymmetry_offset\n",
    "\n",
    "                # Calc iV x/y ratios bc we need to extend the strokes beyond the baseline\n",
    "                # so that the rounded ends aren't shown. We extend them so that their\n",
    "                # y coordinates are half stroke_w below the baseline.\n",
    "                ratio_l = center_dx / h\n",
    "                ratio_r = (w - center_dx) / h\n",
    "                iv_dy   = p_stroke_w / 2\n",
    "                iv_dx_l = iv_dy * ratio_l * -1\n",
    "                iv_dx_r = iv_dy * ratio_r\n",
    "\n",
    "                # Calc crossbar coordinates as offsets from the bottom corners\n",
    "                bar_dy   = (1 - p_midline + p_crossbar_offset) * h * -1\n",
    "                bar_dx_l = bar_dy * ratio_l * -1\n",
    "                bar_dx_r = bar_dy * ratio_r\n",
    "\n",
    "                # Create points tensors\n",
    "                pts_iv = concat_tensors(\n",
    "                    bbox[0][0] + iv_dx_l,   bbox[1][1] + iv_dy, \n",
    "                    bbox[0][0] + center_dx, bbox[0][1],\n",
    "                    bbox[1][0] + iv_dx_r,   bbox[1][1] + iv_dy,\n",
    "                    ).reshape(3, 2)\n",
    "                pts_bar = concat_tensors(\n",
    "                    bbox[0][0] + bar_dx_l,  bbox[1][1] + bar_dy, \n",
    "                    bbox[1][0] + bar_dx_r,  bbox[1][1] + bar_dy\n",
    "                    ).reshape(2, 2)\n",
    "                \n",
    "                # Add shapes\n",
    "                shapes = self.points_to_polygons(pts_iv, pts_bar, \n",
    "                                                 stroke_width=expanded_stroke_w, expand_distance=True)\n",
    "\n",
    "                if self.debug: \n",
    "                    print(f\"iv_dy: {iv_dy.item()} • iv_dx_l: {iv_dx_l.item()} • iv_dx_r: {iv_dx_r.item()}\")\n",
    "                    print(\"Bbox:\", bbox)\n",
    "                    for i, s in enumerate(shapes): print(f\"Shape {i}\", {s.points})\n",
    "            \n",
    "            else: raise NotImplementedError(f\"Letter '{letter}' not implemented.\")\n",
    "\n",
    "            crop_boxes = []\n",
    "\n",
    "            # Crop from above and/or below\n",
    "            if letter in LETTERS_CROP_BOTH or letter in LETTERS_CROP_TOP_ONLY:\n",
    "                crop_boxes.append(self.crop_box(p2=tensor(1., top_y)))\n",
    "            if letter in LETTERS_CROP_BOTH:\n",
    "                crop_boxes.append(self.crop_box(p1=tensor(0., baseline_y)))\n",
    "\n",
    "            # We need to add bg color to get rid of artefacts at the edges of the crop boxes\n",
    "            self.scenes[self.i] = self.create_mixed_scene(line_shapes=shapes, fill_shapes=crop_boxes, \n",
    "                                                          bg_color=COLOR_WHITE, fill_color=COLOR_WHITE)\n",
    "            # self.scenes[self.i] = self.create_mixed_scene(line_shapes=[], fill_shapes=crop_boxes, fill_color=COLOR_WHITE)"
   ]
  },
  {
   "cell_type": "markdown",
   "metadata": {},
   "source": [
    "## Vector Learner Factory"
   ]
  },
  {
   "cell_type": "code",
   "execution_count": 12,
   "metadata": {},
   "outputs": [],
   "source": [
    "#export\n",
    "\n",
    "def create_vector_learner(bs = 1, epoch_len = 10, cut = 5, img_size = None, ocr_learner = None, \n",
    "                          folder = \"results/test_3c_ATI\", normalise = True, vector_class = SansSerifFontARL, \n",
    "                          n_colors_out = 1, eps = None, lr = 1e-2, debug = False, cbs = None, seed = None, \n",
    "                          init_range = 2.):\n",
    "\n",
    "    if eps is not None: warn(f\"Using eps {eps}\")\n",
    "\n",
    "    if ocr_learner is None:\n",
    "        ocr_learner = get_ocr_model(cut=cut,\n",
    "                                    img_size=img_size)\n",
    "    ocr_model = ocr_learner.model\n",
    "    vocab = get_vocab(ocr_learner)\n",
    "    raster_norm = ocr_learner.dls.train.after_batch[1] if normalise else None\n",
    "    ocr_img = ocr_learner.dls.train_ds[0][0]\n",
    "    canvas_width = ocr_img.width\n",
    "    canvas_height = ocr_img.height\n",
    "\n",
    "    def get_dl():\n",
    "        return LetterDL(vocab=vocab, \n",
    "                        letters=(\"A\",),\n",
    "                        epoch_len=epoch_len,\n",
    "                        bs=bs)\n",
    "    dls = DataLoaders(get_dl(), get_dl())\n",
    "\n",
    "    image_saver = ImageSaver(folder=folder)\n",
    "    render_layer = vector_class(vocab=vocab,\n",
    "                                raster_norm=raster_norm, \n",
    "                                rendered_callback=image_saver,\n",
    "                                canvas_width=canvas_width, \n",
    "                                canvas_height=canvas_height,\n",
    "                                n_colors_out=n_colors_out,\n",
    "                                seed=seed,\n",
    "                                # max_distance=max_distance, \n",
    "                                eps=eps,\n",
    "                                init_range=init_range)\n",
    "    if debug: render_layer.debug = debug\n",
    "    font_model = render_layer # torch.nn.Sequential(render_layer, Debugger())\n",
    "\n",
    "    # Params will be added by Learner\n",
    "    get_optim = partial(Adam, lr=lr,\n",
    "                              mom=.5,\n",
    "                              sqr_mom=.9,\n",
    "                              wd=0.) # NB. Eps can be also modified\n",
    "\n",
    "    loss = OCRAndParamLoss(ocr_model=ocr_model,\n",
    "                           vector_model=render_layer,\n",
    "                           debug=debug)\n",
    "\n",
    "    vector_learner = VectorLearner(dls=dls,\n",
    "                                   model=font_model,\n",
    "                                   loss_func=loss,\n",
    "                                   opt_func=get_optim,\n",
    "                                   cbs=cbs,\n",
    "                                   image_saver=image_saver)\n",
    "\n",
    "    return vector_learner, image_saver"
   ]
  },
  {
   "cell_type": "markdown",
   "metadata": {},
   "source": [
    "## Optimisation Utility Functions"
   ]
  },
  {
   "cell_type": "code",
   "execution_count": 63,
   "metadata": {},
   "outputs": [],
   "source": [
    "#export\n",
    "def fit_pvals_naively(\n",
    "    learner, \n",
    "    epochs = 10, \n",
    "    smooth_loss_dist = 6, \n",
    "    apply_pval_immediately = True,\n",
    "    exclude = [\"Slant\"]\n",
    "    ) -> DataFrame:\n",
    "    \"\"\"\"Iteratively calculate losses for different param values and apply them.\"\"\"\n",
    "    param_names = [x for x in learner.model.param_names if x not in exclude]\n",
    "    res = []\n",
    "    for e in range(epochs):\n",
    "        p_losses = {}\n",
    "        p_vals = {}\n",
    "        random.shuffle(param_names)\n",
    "        for p in param_names:\n",
    "            df = learner.calculate_losses(p, plot=False, smooth_loss_dist=smooth_loss_dist)\n",
    "            opt_val = get_argmin(df)\n",
    "            loss = df.loss.min()\n",
    "            p_losses[p] = loss\n",
    "            p_vals[p] = opt_val\n",
    "            if apply_pval_immediately: learner.set_param(p, opt_val)\n",
    "        img = learner.render_letter(\"A\", scale=5)\n",
    "        res.append({\n",
    "            \"values\": p_vals,\n",
    "            \"losses\": p_losses,\n",
    "            \"order\": list(param_names),\n",
    "            \"loss_at_end\": loss,\n",
    "            \"img\": img,\n",
    "            \"info\": f\"Epoch {e} • Loss {loss} (values applied {'immediately' if apply_pval_immediately else 'at end of epoch'})\"\n",
    "            })\n",
    "        if not apply_pval_immediately: \n",
    "            for p in param_names: learner.set_param(p, p_vals[p])\n",
    "    return res\n",
    "\n",
    "def reset_params_and_optimise(\n",
    "    learner,\n",
    "    n_iters = 10,\n",
    "    epochs = 5,\n",
    "    vocal = True,\n",
    "    ) -> Tuple[list, list[PILImage]]:\n",
    "    \"\"\"Reset learner parameters and naively optimise `n_iters` times.\n",
    "       Return results and initial renderings before optimisation.\"\"\"\n",
    "    all_res = []\n",
    "    init_imgs = []\n",
    "    for i in range(n_iters):\n",
    "        learner.reset_parameters()\n",
    "        init_img = learner.render_letter(\"A\", scale=5)\n",
    "        init_imgs.append(init_img)\n",
    "        res = fit_pvals_naively(learner, epochs=5)\n",
    "        all_res.append(res)\n",
    "        if vocal:\n",
    "            print(f\"Iteration {i} • Loss {res[-1]['loss_at_end']}\")\n",
    "            display(init_img)\n",
    "            display(res[-1][\"img\"])\n",
    "    return all_res, init_imgs\n",
    "\n",
    "import statistics\n",
    "def plot_param_values(\n",
    "    learner, \n",
    "    all_res,\n",
    "    figsize = (10,10),\n",
    "    vary_marker_size = True,\n",
    "    marker_size_factor = 20.,\n",
    "    marker_size_max_sd = 2.,\n",
    "    marker_size_min = 1.\n",
    "    ) -> None:\n",
    "    \"\"\"Plot the param values in all_res with size modulated by loss.\"\"\"\n",
    "    plt.figure(figsize=figsize)\n",
    "    losses = [x[-1][\"loss_at_end\"] for x in all_res]\n",
    "    loss_sd = statistics.stdev(losses)\n",
    "    min_loss = min(losses)\n",
    "    p_names = [x for x in learner.model.param_names if x in all_res[0][0][\"values\"]]\n",
    "    for res in all_res:\n",
    "        vals = [res[-1][\"values\"][k] for k in p_names]\n",
    "        loss = res[-1][\"loss_at_end\"]\n",
    "        loss_dist = (loss - min_loss) / loss_sd\n",
    "        size = (marker_size_max_sd - loss_dist) / marker_size_max_sd if vary_marker_size else 1.\n",
    "        size = size * marker_size_factor if size > 0 else 0\n",
    "        size += marker_size_min\n",
    "        plt.scatter(p_names, vals, s=size)\n",
    "\n",
    "def filter_imgs(\n",
    "    all_res: list,\n",
    "    **kwargs\n",
    "    ) -> List[Image.Image]:\n",
    "    \"\"\"Filter all results by loss `sd_dist` standard deviations from minimum\n",
    "       and results the rendered images for those. Use this with `image_grid`.\"\"\"\n",
    "    return get_imgs(filter_results(all_res, **kwargs))\n",
    "\n",
    "def filter_results(\n",
    "    all_res: list,\n",
    "    sd_dist =  1.,\n",
    "    sort = True\n",
    "    ) -> list:\n",
    "    \"\"\"Filter all results by loss `sd_dist` standard deviations from minimum.\"\"\"\n",
    "    losses = [x[-1][\"loss_at_end\"] for x in all_res]\n",
    "    loss_sd = statistics.stdev(losses)\n",
    "    min_loss = min(losses)\n",
    "    if sort: all_res = sorted(all_res, key = lambda x: x[-1][\"loss_at_end\"])\n",
    "    return [x for x in all_res if \\\n",
    "            sd_dist is None or x[-1][\"loss_at_end\"] - min_loss <= sd_dist * loss_sd]\n",
    "\n",
    "def get_imgs(all_res: list) -> List[Image.Image]:\n",
    "    \"\"\"Extract final images from all results.\"\"\"\n",
    "    return [x[-1][\"img\"] for x in all_res]\n",
    "\n",
    "def get_losses_and_activations(\n",
    "    learner,\n",
    "    res_file = \"results/test_6_letter_A_all_params/all_res_2.pkl\",\n",
    "    sd_dist = .05,\n",
    "    letter = \"A\",\n",
    "    re_loss_weight = 0.\n",
    "    ) -> list[dict]:\n",
    "    \"\"\"Load pickled esults returned by, e.g., `reset_params_and_optimise`,\n",
    "       filter by loss SD of max `sd_dist` from min and return a list of\n",
    "       dicts containing the loss, activations tensor and rendered image\n",
    "       for each.\"\"\"\n",
    "    naive_results = pickle.load(open(res_file, \"rb\"))\n",
    "    letter_i = learner.vocab.index(letter)\n",
    "    losses_and_activations = []\n",
    "    inp = tensor([0] * len(learner.vocab))\n",
    "    inp[letter_i] = tensor(1)\n",
    "    # inp.unsqueeze_(0)\n",
    "    m = learner.model\n",
    "    m_inp = tensor([letter_i])\n",
    "    with eval_model(m):\n",
    "        with torch.no_grad(): \n",
    "            with debug(learner.loss_func.ocr_loss):\n",
    "                for r in filter_results(naive_results, sd_dist=sd_dist):\n",
    "                    for p, v in r[-1][\"values\"].items(): learner.set_param(p, v)\n",
    "                    img_tensor = m(m_inp)\n",
    "                    learner.loss_func.ocr_loss(img_tensor, m_inp)\n",
    "                    s = learner.loss_func.ocr_loss.stored[-1]\n",
    "                    xe = s[0]\n",
    "                    act = s[3]\n",
    "                    re = residual_entropy(act, inp, softmax=True)\n",
    "                    losses_and_activations.append({\n",
    "                        \"loss\": (1 - re_loss_weight) * xe + re_loss_weight * re,\n",
    "                        \"xe_loss\": xe,\n",
    "                        \"re_loss\": re,\n",
    "                        \"activations\": act,\n",
    "                        \"img\": learner.render_letter(letter, scale=5)\n",
    "                        })\n",
    "    return losses_and_activations\n",
    "\n",
    "from torch.distributions import Categorical\n",
    "def residual_entropy(\n",
    "    input: Tensor,\n",
    "    target: Tensor = None,\n",
    "    softmax = False,\n",
    "    factor = 1/3,\n",
    "    invert = True\n",
    "    ) -> Tensor:\n",
    "    \"\"\"Calculate the entropy of the incorrect activations or others except the\n",
    "       highest one if `target` is not supplied. `input` should be softmaxed\n",
    "       or `softmax` set to True. `factor` is used to approximately normalise \n",
    "       the value. Note that we `invert` the value to suit our goals.\"\"\"\n",
    "    if softmax: input = F.softmax(input, dim=-1)\n",
    "    if target is not None: \n",
    "        test_close(target.sum(), 1.) # Expect one-hot tensor\n",
    "        input = (1 - target) * input\n",
    "    else: input = input.sort(descending=True)[0][1:]\n",
    "    ent = Categorical(probs=input).entropy() * factor\n",
    "    return 1 / (ent + 1e-10) if invert else ent\n",
    "\n",
    "def plot_activations(\n",
    "    losses_and_activations,\n",
    "    vocab,\n",
    "    softmax = False,\n",
    "    exclude: str = None,\n",
    "    figsize = (6, 6)\n",
    "    ) -> None:\n",
    "    \"\"\"Plot the activations.\"\"\"\n",
    "    plt.figure(figsize=figsize)\n",
    "    names = list(vocab)\n",
    "    if exclude is not None:\n",
    "        excl_i = names.index(exclude)\n",
    "        names.remove(exclude)\n",
    "    for res in losses_and_activations:\n",
    "        acts = res[\"activations\"]\n",
    "        if softmax: acts = F.softmax(acts, dim=-1)\n",
    "        if exclude is not None: acts = [x for i, x in enumerate(acts.numpy()) if i != excl_i]\n",
    "        plt.plot(names, acts)\n",
    "\n",
    "def plot_residual_entropy(\n",
    "    losses_and_activations,\n",
    "    target = None,\n",
    "    figsize = (6, 6)\n",
    "    ) -> Tuple[list, list]:\n",
    "    \"\"\"Plot the residual entropies exluding the highest activation against loss.\"\"\"\n",
    "    plt.figure(figsize=figsize)\n",
    "    losses = [x[\"loss\"] for x in losses_and_activations]\n",
    "    entrs =  [residual_entropy(x[\"activations\"], target=target, softmax=True) for x in losses_and_activations]\n",
    "    plt.scatter(losses, entrs)\n",
    "    return losses, entrs"
   ]
  },
  {
   "cell_type": "markdown",
   "metadata": {},
   "source": [
    "## Testing Letter Models"
   ]
  },
  {
   "cell_type": "markdown",
   "metadata": {},
   "source": [
    "### 6. Testing combined cross and residual entropy loss\n",
    "\n",
    "Let's calculate a combined cross and residual entropy loss for the same naïvely optimised examples as in test 5 and see how their order changes."
   ]
  },
  {
   "cell_type": "code",
   "execution_count": 14,
   "metadata": {},
   "outputs": [
    {
     "data": {
      "image/png": "[encoded data removed]",
      "text/plain": [
       "<PIL.Image.Image image mode=RGB size=140x140 at 0x13FEBF1C0>"
      ]
     },
     "execution_count": 14,
     "metadata": {},
     "output_type": "execute_result"
    }
   ],
   "source": [
    "# learn = None\n",
    "learner = None\n",
    "gc.collect()\n",
    "\n",
    "if 'ocr_learner' not in locals() or ocr_learner is None:\n",
    "    ocr_learner = get_ocr_learner_2(arch=kaggle_cnn_a_with_res, \n",
    "                              df=get_combined_az_and_tmnist_df, \n",
    "                              load_saved=True)\n",
    "\n",
    "cb = DebugCB(vocal=False)\n",
    "learner, _ = create_vector_learner(cbs=cb,\n",
    "                                   folder=\"results/test_x_resent_loss\",\n",
    "                                   ocr_learner=ocr_learner,\n",
    "                                   n_colors_out=1,\n",
    "                                   normalise=False,\n",
    "                                   lr=1e-2, \n",
    "                                   debug=False,\n",
    "                                   init_range=1., # Use smaller range to get values closer to mean\n",
    "                                   seed=42)\n",
    "\n",
    "learner.render_letter(\"A\", scale=5)"
   ]
  },
  {
   "cell_type": "code",
   "execution_count": 309,
   "metadata": {},
   "outputs": [
    {
     "name": "stderr",
     "output_type": "stream",
     "text": [
      "/Users/kallejarvenpaa/opt/miniconda3/envs/ai-font-p3.9/lib/python3.9/site-packages/torch/_tensor.py:1051: UserWarning: Implicit dimension choice for softmax has been deprecated. Change the call to include dim=X as an argument.\n",
      "  ret = func(*args, **kwargs)\n"
     ]
    },
    {
     "name": "stdout",
     "output_type": "stream",
     "text": [
      "Weight 0.0\n"
     ]
    },
    {
     "data": {
      "image/png": "[encoded data removed]",
      "text/plain": [
       "<PIL.Image.Image image mode=RGB size=980x1120 at 0x1462D4CD0>"
      ]
     },
     "metadata": {},
     "output_type": "display_data"
    },
    {
     "name": "stdout",
     "output_type": "stream",
     "text": [
      "Weight 0.1111111111111111\n"
     ]
    },
    {
     "data": {
      "image/png": "[encoded data removed]",
      "text/plain": [
       "<PIL.Image.Image image mode=RGB size=980x1120 at 0x1462D4E50>"
      ]
     },
     "metadata": {},
     "output_type": "display_data"
    },
    {
     "name": "stdout",
     "output_type": "stream",
     "text": [
      "Weight 0.2222222222222222\n"
     ]
    },
    {
     "data": {
      "image/png": "[encoded data removed]",
      "text/plain": [
       "<PIL.Image.Image image mode=RGB size=980x1120 at 0x1462D4550>"
      ]
     },
     "metadata": {},
     "output_type": "display_data"
    },
    {
     "name": "stdout",
     "output_type": "stream",
     "text": [
      "Weight 0.3333333333333333\n"
     ]
    },
    {
     "data": {
      "image/png": "[encoded data removed]",
      "text/plain": [
       "<PIL.Image.Image image mode=RGB size=980x1120 at 0x1462D4B50>"
      ]
     },
     "metadata": {},
     "output_type": "display_data"
    },
    {
     "name": "stdout",
     "output_type": "stream",
     "text": [
      "Weight 0.4444444444444444\n"
     ]
    },
    {
     "data": {
      "image/png": "[encoded data removed]",
      "text/plain": [
       "<PIL.Image.Image image mode=RGB size=980x1120 at 0x1462D4F40>"
      ]
     },
     "metadata": {},
     "output_type": "display_data"
    },
    {
     "name": "stdout",
     "output_type": "stream",
     "text": [
      "Weight 0.5555555555555556\n"
     ]
    },
    {
     "data": {
      "image/png": "[encoded data removed]",
      "text/plain": [
       "<PIL.Image.Image image mode=RGB size=980x1120 at 0x1462CD310>"
      ]
     },
     "metadata": {},
     "output_type": "display_data"
    },
    {
     "name": "stdout",
     "output_type": "stream",
     "text": [
      "Weight 0.6666666666666666\n"
     ]
    },
    {
     "data": {
      "image/png": "[encoded data removed]",
      "text/plain": [
       "<PIL.Image.Image image mode=RGB size=980x1120 at 0x1462CD130>"
      ]
     },
     "metadata": {},
     "output_type": "display_data"
    },
    {
     "name": "stdout",
     "output_type": "stream",
     "text": [
      "Weight 0.7777777777777778\n"
     ]
    },
    {
     "data": {
      "image/png": "[encoded data removed]",
      "text/plain": [
       "<PIL.Image.Image image mode=RGB size=980x1120 at 0x1462CDAC0>"
      ]
     },
     "metadata": {},
     "output_type": "display_data"
    },
    {
     "name": "stdout",
     "output_type": "stream",
     "text": [
      "Weight 0.8888888888888888\n"
     ]
    },
    {
     "data": {
      "image/png": "[encoded data removed]",
      "text/plain": [
       "<PIL.Image.Image image mode=RGB size=980x1120 at 0x1462CDE80>"
      ]
     },
     "metadata": {},
     "output_type": "display_data"
    },
    {
     "name": "stdout",
     "output_type": "stream",
     "text": [
      "Weight 1.0\n"
     ]
    },
    {
     "data": {
      "image/png": "[encoded data removed]",
      "text/plain": [
       "<PIL.Image.Image image mode=RGB size=980x1120 at 0x1462CAFD0>"
      ]
     },
     "metadata": {},
     "output_type": "display_data"
    }
   ],
   "source": [
    "losses_and_activations = get_losses_and_activations(learner, sd_dist=None)\n",
    "n_weights = 10\n",
    "img_grids = {}\n",
    "for i in range(n_weights):\n",
    "    w = i * 1/(n_weights - 1)\n",
    "    imgs = [x[\"img\"] for x in sorted(losses_and_activations, key=lambda y: ((1 - w) * y[\"xe_loss\"] + w * y[\"re_loss\"]).item())]\n",
    "    img_grids[w] = image_grid(imgs)\n",
    "for w, g in img_grids.items():\n",
    "    print(f\"Weight {w}\")\n",
    "    display(g)"
   ]
  },
  {
   "cell_type": "markdown",
   "metadata": {},
   "source": [
    "### 5. A closer look at activation spectra\n",
    "\n",
    "To see if there's another component in addition to pure cross entropy loss we might want to add to the OCR loss, let's study the activation spectra of the different results that have similar loss."
   ]
  },
  {
   "cell_type": "markdown",
   "metadata": {},
   "source": [
    "This is how the softmaxed activations excluding the correct category 'A' look like. We can see that there are some differences."
   ]
  },
  {
   "cell_type": "code",
   "execution_count": 18,
   "metadata": {},
   "outputs": [
    {
     "data": {
      "image/png": "[encoded data removed]",
      "text/plain": [
       "<Figure size 432x432 with 1 Axes>"
      ]
     },
     "metadata": {
      "needs_background": "light"
     },
     "output_type": "display_data"
    }
   ],
   "source": [
    "losses_and_activations = get_losses_and_activations(learner)\n",
    "vocab = VOCAB_UC if 'learner' not in locals() or learner is None else learner.vocab\n",
    "plot_activations(losses_and_activations, vocab, softmax=True, exclude=\"A\")"
   ]
  },
  {
   "cell_type": "markdown",
   "metadata": {},
   "source": [
    "If we have a look at the residual entropies, i.e. the entropy within the incorrect predictions, we see that they do not fall along a line when plotted against loss on the x-axis. This means, we might want leverage this as an additional part of OCR loss."
   ]
  },
  {
   "cell_type": "code",
   "execution_count": 21,
   "metadata": {},
   "outputs": [
    {
     "name": "stderr",
     "output_type": "stream",
     "text": [
      "/Users/kallejarvenpaa/opt/miniconda3/envs/ai-font-p3.9/lib/python3.9/site-packages/torch/_tensor.py:1051: UserWarning: Implicit dimension choice for softmax has been deprecated. Change the call to include dim=X as an argument.\n",
      "  ret = func(*args, **kwargs)\n"
     ]
    },
    {
     "data": {
      "image/png": "[encoded data removed]",
      "text/plain": [
       "<Figure size 432x432 with 1 Axes>"
      ]
     },
     "metadata": {
      "needs_background": "light"
     },
     "output_type": "display_data"
    }
   ],
   "source": [
    "_, entropies = plot_residual_entropy(losses_and_activations)"
   ]
  },
  {
   "cell_type": "markdown",
   "metadata": {},
   "source": [
    "Finally, let's see what if any visual differences are there in terms of residual entropy. They seem to fall into a somewhat understandable order, which is different from that based on loss. It remains to be seen whether the residual entropy signal is useful and what weight is should be given if one wishes to make it so.\n",
    "\n",
    "**NB.** we order the images in descending order of residual entropy, as we would prefer the entropy to be as high as possible i.e. the activations as evenly distributed among the incorrrect categories as possible."
   ]
  },
  {
   "cell_type": "code",
   "execution_count": 247,
   "metadata": {},
   "outputs": [
    {
     "data": {
      "image/png": "[encoded data removed]",
      "text/plain": [
       "<PIL.Image.Image image mode=RGB size=560x560 at 0x14457B9A0>"
      ]
     },
     "execution_count": 247,
     "metadata": {},
     "output_type": "execute_result"
    }
   ],
   "source": [
    "imgs_and_entropies = list(zip(entropies, [x[\"img\"] for x in losses_and_activations]))\n",
    "imgs_and_entropies.sort(key=lambda x: x[0], reverse=True) # Sort reverse!\n",
    "image_grid([x[1] for x in imgs_and_entropies])"
   ]
  },
  {
   "cell_type": "markdown",
   "metadata": {},
   "source": [
    "To double-check, let's plot the activation spectra for the results with the highest and lowest residual entropies. From the plot we can conclude that residual entropy is a suitable metric for the 'spikiness' of the activations."
   ]
  },
  {
   "cell_type": "code",
   "execution_count": 31,
   "metadata": {},
   "outputs": [
    {
     "data": {
      "image/png": "[encoded data removed]",
      "text/plain": [
       "<Figure size 432x432 with 1 Axes>"
      ]
     },
     "metadata": {
      "needs_background": "light"
     },
     "output_type": "display_data"
    }
   ],
   "source": [
    "# Note that the entropies are actually reversed, so argmax gets \n",
    "# the one with the higher res ent loss i.e. lower entropy\n",
    "extremes = [\n",
    "    losses_and_activations[np.argmax(entropies)],\n",
    "    losses_and_activations[np.argmin(entropies)]\n",
    "    ]\n",
    "plot_activations(extremes, vocab, softmax=True, exclude=\"A\")"
   ]
  },
  {
   "cell_type": "markdown",
   "metadata": {},
   "source": [
    "Finally, let's have a look at how the distribution of the residual activations contributes to the plain cross entropy loss, as it does have an effect on the denominator used by softmax. \n",
    "\n",
    "1. Pick the activations for the example with the highest res ent loss, i.e. the most spiky residual activations (blue line on the graph above).\n",
    "2. Make a copy of that and distribute the residual activations (before softmax) evenly amongst categories, thus yielding an exemplar with maximum residual entropy but with the same sum total of activations.\n",
    "3. Compare cross entropy and residual entropy losses for these.\n",
    "\n",
    "From the results we see that the higher residual entropy (and thus lower RE loss) is actually already reflected in the cross entropy loss. Thus, we might not want to use res ent loss after all."
   ]
  },
  {
   "cell_type": "code",
   "execution_count": 64,
   "metadata": {},
   "outputs": [
    {
     "name": "stdout",
     "output_type": "stream",
     "text": [
      "XE loss 0.03648417815566063 • RE loss 1.207586407661438\n",
      "XE loss 0.02167501114308834 • RE loss 0.9320025444030762\n"
     ]
    },
    {
     "data": {
      "image/png": "[encoded data removed]",
      "text/plain": [
       "<Figure size 432x432 with 1 Axes>"
      ]
     },
     "metadata": {
      "needs_background": "light"
     },
     "output_type": "display_data"
    }
   ],
   "source": [
    "low_entropy = extremes[0][\"activations\"]\n",
    "high_entropy = low_entropy.clone()\n",
    "high_entropy[1:] = torch.full_like(high_entropy[1:], high_entropy[1:].mean())\n",
    "assert (high_entropy.sum() - low_entropy.sum()).abs() < low_entropy.sum().abs() / 100\n",
    "loss = torch.nn.CrossEntropyLoss()\n",
    "target = tensor([0])\n",
    "plt.figure(figsize=(6,6))\n",
    "names = [x for x in learner.vocab if x != \"A\"]\n",
    "for acts in [low_entropy, high_entropy]:\n",
    "    print(f\"XE loss {loss(acts.unsqueeze(0), target)} • RE loss {residual_entropy(acts, softmax=True)}\")\n",
    "    acts = F.softmax(acts, dim=-1)\n",
    "    acts = acts.numpy()[1:]\n",
    "    plt.plot(names, acts)\n"
   ]
  },
  {
   "cell_type": "markdown",
   "metadata": {},
   "source": [
    "### 4. Interlude: Check how far SGD (or Adam) optimisation gets us\n",
    "\n",
    "After the naïve optimisation attempts, let's see how far we could've gotten with differential optimisation."
   ]
  },
  {
   "cell_type": "code",
   "execution_count": 174,
   "metadata": {},
   "outputs": [
    {
     "data": {
      "image/png": "[encoded data removed]",
      "text/plain": [
       "<PIL.Image.Image image mode=RGB size=140x140 at 0x12AFBEE80>"
      ]
     },
     "execution_count": 174,
     "metadata": {},
     "output_type": "execute_result"
    }
   ],
   "source": [
    "# learn = None\n",
    "vector_learner = None\n",
    "gc.collect()\n",
    "\n",
    "if 'ocr_learner' not in locals() or ocr_learner is None:\n",
    "    ocr_learner = get_ocr_learner_2(arch=kaggle_cnn_a_with_res, \n",
    "                              df=get_combined_az_and_tmnist_df, \n",
    "                              load_saved=True)\n",
    "\n",
    "cb = DebugCB(vocal=False)\n",
    "learner, _ = create_vector_learner(cbs=cb,\n",
    "                                   folder=\"results/test_7_letter_A_Adam\",\n",
    "                                   ocr_learner=ocr_learner,\n",
    "                                   n_colors_out=1,\n",
    "                                   normalise=False,\n",
    "                                   lr=1e-2, \n",
    "                                   debug=False,\n",
    "                                   init_range=1., # Use smaller range to get values closer to mean\n",
    "                                   seed=42)\n",
    "\n",
    "learner.render_letter(\"A\", scale=5)"
   ]
  },
  {
   "cell_type": "markdown",
   "metadata": {},
   "source": [
    "First, let's just try to optimise all parameters at once."
   ]
  },
  {
   "cell_type": "code",
   "execution_count": 8,
   "metadata": {},
   "outputs": [
    {
     "data": {
      "text/html": [
       "<table border=\"1\" class=\"dataframe\">\n",
       "  <thead>\n",
       "    <tr style=\"text-align: left;\">\n",
       "      <th>epoch</th>\n",
       "      <th>train_loss</th>\n",
       "      <th>valid_loss</th>\n",
       "      <th>time</th>\n",
       "    </tr>\n",
       "  </thead>\n",
       "  <tbody>\n",
       "    <tr>\n",
       "      <td>0</td>\n",
       "      <td>2.463664</td>\n",
       "      <td>2.461631</td>\n",
       "      <td>00:00</td>\n",
       "    </tr>\n",
       "    <tr>\n",
       "      <td>1</td>\n",
       "      <td>2.468741</td>\n",
       "      <td>2.466581</td>\n",
       "      <td>00:00</td>\n",
       "    </tr>\n",
       "    <tr>\n",
       "      <td>2</td>\n",
       "      <td>2.463943</td>\n",
       "      <td>2.438395</td>\n",
       "      <td>00:00</td>\n",
       "    </tr>\n",
       "    <tr>\n",
       "      <td>3</td>\n",
       "      <td>2.453895</td>\n",
       "      <td>2.418550</td>\n",
       "      <td>00:00</td>\n",
       "    </tr>\n",
       "    <tr>\n",
       "      <td>4</td>\n",
       "      <td>2.445214</td>\n",
       "      <td>2.410484</td>\n",
       "      <td>00:00</td>\n",
       "    </tr>\n",
       "    <tr>\n",
       "      <td>5</td>\n",
       "      <td>2.437356</td>\n",
       "      <td>2.413414</td>\n",
       "      <td>00:00</td>\n",
       "    </tr>\n",
       "    <tr>\n",
       "      <td>6</td>\n",
       "      <td>2.432550</td>\n",
       "      <td>2.412402</td>\n",
       "      <td>00:00</td>\n",
       "    </tr>\n",
       "    <tr>\n",
       "      <td>7</td>\n",
       "      <td>2.427456</td>\n",
       "      <td>2.410439</td>\n",
       "      <td>00:00</td>\n",
       "    </tr>\n",
       "    <tr>\n",
       "      <td>8</td>\n",
       "      <td>2.423170</td>\n",
       "      <td>2.395369</td>\n",
       "      <td>00:00</td>\n",
       "    </tr>\n",
       "    <tr>\n",
       "      <td>9</td>\n",
       "      <td>2.418095</td>\n",
       "      <td>2.403845</td>\n",
       "      <td>00:00</td>\n",
       "    </tr>\n",
       "  </tbody>\n",
       "</table>"
      ],
      "text/plain": [
       "<IPython.core.display.HTML object>"
      ]
     },
     "metadata": {},
     "output_type": "display_data"
    },
    {
     "data": {
      "image/png": "[encoded data removed]",
      "text/plain": [
       "<PIL.Image.Image image mode=RGB size=140x140 at 0x12B0C75B0>"
      ]
     },
     "execution_count": 8,
     "metadata": {},
     "output_type": "execute_result"
    }
   ],
   "source": [
    "lr = 1e-2\n",
    "learner.fit(10, lr=lr)\n",
    "learner.render_letter(\"A\", scale=5)"
   ]
  },
  {
   "cell_type": "code",
   "execution_count": 16,
   "metadata": {},
   "outputs": [
    {
     "data": {
      "text/html": [
       "<table border=\"1\" class=\"dataframe\">\n",
       "  <thead>\n",
       "    <tr style=\"text-align: left;\">\n",
       "      <th>epoch</th>\n",
       "      <th>train_loss</th>\n",
       "      <th>valid_loss</th>\n",
       "      <th>time</th>\n",
       "    </tr>\n",
       "  </thead>\n",
       "  <tbody>\n",
       "    <tr>\n",
       "      <td>0</td>\n",
       "      <td>2.376004</td>\n",
       "      <td>2.383774</td>\n",
       "      <td>00:00</td>\n",
       "    </tr>\n",
       "    <tr>\n",
       "      <td>1</td>\n",
       "      <td>2.377672</td>\n",
       "      <td>2.383474</td>\n",
       "      <td>00:00</td>\n",
       "    </tr>\n",
       "    <tr>\n",
       "      <td>2</td>\n",
       "      <td>2.377006</td>\n",
       "      <td>2.380571</td>\n",
       "      <td>00:00</td>\n",
       "    </tr>\n",
       "    <tr>\n",
       "      <td>3</td>\n",
       "      <td>2.376041</td>\n",
       "      <td>2.377157</td>\n",
       "      <td>00:00</td>\n",
       "    </tr>\n",
       "    <tr>\n",
       "      <td>4</td>\n",
       "      <td>2.376128</td>\n",
       "      <td>2.376878</td>\n",
       "      <td>00:00</td>\n",
       "    </tr>\n",
       "    <tr>\n",
       "      <td>5</td>\n",
       "      <td>2.376869</td>\n",
       "      <td>2.372841</td>\n",
       "      <td>00:00</td>\n",
       "    </tr>\n",
       "    <tr>\n",
       "      <td>6</td>\n",
       "      <td>2.376175</td>\n",
       "      <td>2.382202</td>\n",
       "      <td>00:00</td>\n",
       "    </tr>\n",
       "    <tr>\n",
       "      <td>7</td>\n",
       "      <td>2.376496</td>\n",
       "      <td>2.373649</td>\n",
       "      <td>00:00</td>\n",
       "    </tr>\n",
       "    <tr>\n",
       "      <td>8</td>\n",
       "      <td>2.375835</td>\n",
       "      <td>2.380657</td>\n",
       "      <td>00:00</td>\n",
       "    </tr>\n",
       "    <tr>\n",
       "      <td>9</td>\n",
       "      <td>2.375703</td>\n",
       "      <td>2.376138</td>\n",
       "      <td>00:00</td>\n",
       "    </tr>\n",
       "    <tr>\n",
       "      <td>10</td>\n",
       "      <td>2.376516</td>\n",
       "      <td>2.375574</td>\n",
       "      <td>00:00</td>\n",
       "    </tr>\n",
       "    <tr>\n",
       "      <td>11</td>\n",
       "      <td>2.376556</td>\n",
       "      <td>2.378559</td>\n",
       "      <td>00:00</td>\n",
       "    </tr>\n",
       "    <tr>\n",
       "      <td>12</td>\n",
       "      <td>2.375575</td>\n",
       "      <td>2.374681</td>\n",
       "      <td>00:00</td>\n",
       "    </tr>\n",
       "    <tr>\n",
       "      <td>13</td>\n",
       "      <td>2.375377</td>\n",
       "      <td>2.380162</td>\n",
       "      <td>00:00</td>\n",
       "    </tr>\n",
       "    <tr>\n",
       "      <td>14</td>\n",
       "      <td>2.376153</td>\n",
       "      <td>2.375807</td>\n",
       "      <td>00:00</td>\n",
       "    </tr>\n",
       "    <tr>\n",
       "      <td>15</td>\n",
       "      <td>2.376588</td>\n",
       "      <td>2.379353</td>\n",
       "      <td>00:00</td>\n",
       "    </tr>\n",
       "    <tr>\n",
       "      <td>16</td>\n",
       "      <td>2.376869</td>\n",
       "      <td>2.378054</td>\n",
       "      <td>00:00</td>\n",
       "    </tr>\n",
       "    <tr>\n",
       "      <td>17</td>\n",
       "      <td>2.377085</td>\n",
       "      <td>2.372935</td>\n",
       "      <td>00:00</td>\n",
       "    </tr>\n",
       "    <tr>\n",
       "      <td>18</td>\n",
       "      <td>2.377514</td>\n",
       "      <td>2.372212</td>\n",
       "      <td>00:00</td>\n",
       "    </tr>\n",
       "    <tr>\n",
       "      <td>19</td>\n",
       "      <td>2.377634</td>\n",
       "      <td>2.380700</td>\n",
       "      <td>00:00</td>\n",
       "    </tr>\n",
       "  </tbody>\n",
       "</table>"
      ],
      "text/plain": [
       "<IPython.core.display.HTML object>"
      ]
     },
     "metadata": {},
     "output_type": "display_data"
    },
    {
     "data": {
      "image/png": "[encoded data removed]",
      "text/plain": [
       "<PIL.Image.Image image mode=RGB size=140x140 at 0x12B03FBE0>"
      ]
     },
     "execution_count": 16,
     "metadata": {},
     "output_type": "execute_result"
    }
   ],
   "source": [
    "lr = 2e-3\n",
    "learner.fit(20, lr=lr)\n",
    "learner.render_letter(\"A\", scale=5)"
   ]
  },
  {
   "cell_type": "markdown",
   "metadata": {},
   "source": [
    "After quite a few epochs of training with decreasin learning rates (from `1e-2` to `2e-3`), we actually get quite satisfactory results, but we still can't get to the lowest loss ranges that we reach with naïve optimisation.\n",
    "\n",
    "Let's now try to try and optimise parameters individually.\n",
    "\n",
    "It seems that there's no difference between this approach and the regular one, which ought to be expected. The end result did not change with any learning rate except for the worse."
   ]
  },
  {
   "cell_type": "code",
   "execution_count": 21,
   "metadata": {},
   "outputs": [
    {
     "data": {
      "text/plain": [
       "{('Crossbar y offset, A', -0.07114353775978088),\n",
       " ('Height', 0.7137360572814941),\n",
       " ('Midline', 0.3865865468978882),\n",
       " ('Offset xp from symmetry, AXZ', -0.0487978458404541),\n",
       " ('Overshoot, AMNVW', 0.0),\n",
       " ('Slant', 0.39271318912506104),\n",
       " ('Stroke width', 0.13070808351039886),\n",
       " ('Width, AV', 0.9435300827026367)}"
      ]
     },
     "execution_count": 21,
     "metadata": {},
     "output_type": "execute_result"
    }
   ],
   "source": [
    "param_values = {(n, learner.get_param_value(n).item()) for n in learner.model.param_names}\n",
    "param_names = list(learner.model.param_names)\n",
    "param_values"
   ]
  },
  {
   "cell_type": "code",
   "execution_count": 31,
   "metadata": {},
   "outputs": [
    {
     "data": {
      "text/html": [
       "<table border=\"1\" class=\"dataframe\">\n",
       "  <thead>\n",
       "    <tr style=\"text-align: left;\">\n",
       "      <th>epoch</th>\n",
       "      <th>train_loss</th>\n",
       "      <th>valid_loss</th>\n",
       "      <th>time</th>\n",
       "    </tr>\n",
       "  </thead>\n",
       "  <tbody>\n",
       "    <tr>\n",
       "      <td>0</td>\n",
       "      <td>2.381314</td>\n",
       "      <td>2.391845</td>\n",
       "      <td>00:00</td>\n",
       "    </tr>\n",
       "    <tr>\n",
       "      <td>1</td>\n",
       "      <td>2.382238</td>\n",
       "      <td>2.383425</td>\n",
       "      <td>00:00</td>\n",
       "    </tr>\n",
       "    <tr>\n",
       "      <td>2</td>\n",
       "      <td>2.383502</td>\n",
       "      <td>2.385332</td>\n",
       "      <td>00:00</td>\n",
       "    </tr>\n",
       "    <tr>\n",
       "      <td>3</td>\n",
       "      <td>2.384564</td>\n",
       "      <td>2.386120</td>\n",
       "      <td>00:00</td>\n",
       "    </tr>\n",
       "    <tr>\n",
       "      <td>4</td>\n",
       "      <td>2.384139</td>\n",
       "      <td>2.382108</td>\n",
       "      <td>00:00</td>\n",
       "    </tr>\n",
       "    <tr>\n",
       "      <td>5</td>\n",
       "      <td>2.383222</td>\n",
       "      <td>2.386717</td>\n",
       "      <td>00:00</td>\n",
       "    </tr>\n",
       "    <tr>\n",
       "      <td>6</td>\n",
       "      <td>2.383076</td>\n",
       "      <td>2.382982</td>\n",
       "      <td>00:00</td>\n",
       "    </tr>\n",
       "    <tr>\n",
       "      <td>7</td>\n",
       "      <td>2.384247</td>\n",
       "      <td>2.390471</td>\n",
       "      <td>00:00</td>\n",
       "    </tr>\n",
       "    <tr>\n",
       "      <td>8</td>\n",
       "      <td>2.385145</td>\n",
       "      <td>2.385516</td>\n",
       "      <td>00:00</td>\n",
       "    </tr>\n",
       "    <tr>\n",
       "      <td>9</td>\n",
       "      <td>2.385725</td>\n",
       "      <td>2.383454</td>\n",
       "      <td>00:00</td>\n",
       "    </tr>\n",
       "  </tbody>\n",
       "</table>"
      ],
      "text/plain": [
       "<IPython.core.display.HTML object>"
      ]
     },
     "metadata": {},
     "output_type": "display_data"
    },
    {
     "data": {
      "text/html": [
       "<table border=\"1\" class=\"dataframe\">\n",
       "  <thead>\n",
       "    <tr style=\"text-align: left;\">\n",
       "      <th>epoch</th>\n",
       "      <th>train_loss</th>\n",
       "      <th>valid_loss</th>\n",
       "      <th>time</th>\n",
       "    </tr>\n",
       "  </thead>\n",
       "  <tbody>\n",
       "    <tr>\n",
       "      <td>0</td>\n",
       "      <td>2.390374</td>\n",
       "      <td>2.380502</td>\n",
       "      <td>00:00</td>\n",
       "    </tr>\n",
       "    <tr>\n",
       "      <td>1</td>\n",
       "      <td>2.385071</td>\n",
       "      <td>2.380941</td>\n",
       "      <td>00:00</td>\n",
       "    </tr>\n",
       "    <tr>\n",
       "      <td>2</td>\n",
       "      <td>2.384235</td>\n",
       "      <td>2.381237</td>\n",
       "      <td>00:00</td>\n",
       "    </tr>\n",
       "    <tr>\n",
       "      <td>3</td>\n",
       "      <td>2.382351</td>\n",
       "      <td>2.381088</td>\n",
       "      <td>00:00</td>\n",
       "    </tr>\n",
       "    <tr>\n",
       "      <td>4</td>\n",
       "      <td>2.382360</td>\n",
       "      <td>2.380705</td>\n",
       "      <td>00:00</td>\n",
       "    </tr>\n",
       "    <tr>\n",
       "      <td>5</td>\n",
       "      <td>2.381186</td>\n",
       "      <td>2.382936</td>\n",
       "      <td>00:00</td>\n",
       "    </tr>\n",
       "    <tr>\n",
       "      <td>6</td>\n",
       "      <td>2.380343</td>\n",
       "      <td>2.376106</td>\n",
       "      <td>00:00</td>\n",
       "    </tr>\n",
       "    <tr>\n",
       "      <td>7</td>\n",
       "      <td>2.379802</td>\n",
       "      <td>2.383579</td>\n",
       "      <td>00:00</td>\n",
       "    </tr>\n",
       "    <tr>\n",
       "      <td>8</td>\n",
       "      <td>2.379697</td>\n",
       "      <td>2.383621</td>\n",
       "      <td>00:00</td>\n",
       "    </tr>\n",
       "    <tr>\n",
       "      <td>9</td>\n",
       "      <td>2.379559</td>\n",
       "      <td>2.378728</td>\n",
       "      <td>00:00</td>\n",
       "    </tr>\n",
       "  </tbody>\n",
       "</table>"
      ],
      "text/plain": [
       "<IPython.core.display.HTML object>"
      ]
     },
     "metadata": {},
     "output_type": "display_data"
    },
    {
     "data": {
      "text/html": [
       "<table border=\"1\" class=\"dataframe\">\n",
       "  <thead>\n",
       "    <tr style=\"text-align: left;\">\n",
       "      <th>epoch</th>\n",
       "      <th>train_loss</th>\n",
       "      <th>valid_loss</th>\n",
       "      <th>time</th>\n",
       "    </tr>\n",
       "  </thead>\n",
       "  <tbody>\n",
       "    <tr>\n",
       "      <td>0</td>\n",
       "      <td>2.377118</td>\n",
       "      <td>2.380440</td>\n",
       "      <td>00:00</td>\n",
       "    </tr>\n",
       "    <tr>\n",
       "      <td>1</td>\n",
       "      <td>2.380528</td>\n",
       "      <td>2.381865</td>\n",
       "      <td>00:00</td>\n",
       "    </tr>\n",
       "    <tr>\n",
       "      <td>2</td>\n",
       "      <td>2.379668</td>\n",
       "      <td>2.381591</td>\n",
       "      <td>00:00</td>\n",
       "    </tr>\n",
       "    <tr>\n",
       "      <td>3</td>\n",
       "      <td>2.378727</td>\n",
       "      <td>2.378766</td>\n",
       "      <td>00:00</td>\n",
       "    </tr>\n",
       "    <tr>\n",
       "      <td>4</td>\n",
       "      <td>2.378880</td>\n",
       "      <td>2.384259</td>\n",
       "      <td>00:00</td>\n",
       "    </tr>\n",
       "    <tr>\n",
       "      <td>5</td>\n",
       "      <td>2.377373</td>\n",
       "      <td>2.380421</td>\n",
       "      <td>00:00</td>\n",
       "    </tr>\n",
       "    <tr>\n",
       "      <td>6</td>\n",
       "      <td>2.377105</td>\n",
       "      <td>2.386579</td>\n",
       "      <td>00:00</td>\n",
       "    </tr>\n",
       "    <tr>\n",
       "      <td>7</td>\n",
       "      <td>2.377050</td>\n",
       "      <td>2.373338</td>\n",
       "      <td>00:00</td>\n",
       "    </tr>\n",
       "    <tr>\n",
       "      <td>8</td>\n",
       "      <td>2.377378</td>\n",
       "      <td>2.378048</td>\n",
       "      <td>00:00</td>\n",
       "    </tr>\n",
       "    <tr>\n",
       "      <td>9</td>\n",
       "      <td>2.377133</td>\n",
       "      <td>2.384864</td>\n",
       "      <td>00:00</td>\n",
       "    </tr>\n",
       "  </tbody>\n",
       "</table>"
      ],
      "text/plain": [
       "<IPython.core.display.HTML object>"
      ]
     },
     "metadata": {},
     "output_type": "display_data"
    },
    {
     "data": {
      "text/html": [
       "<table border=\"1\" class=\"dataframe\">\n",
       "  <thead>\n",
       "    <tr style=\"text-align: left;\">\n",
       "      <th>epoch</th>\n",
       "      <th>train_loss</th>\n",
       "      <th>valid_loss</th>\n",
       "      <th>time</th>\n",
       "    </tr>\n",
       "  </thead>\n",
       "  <tbody>\n",
       "    <tr>\n",
       "      <td>0</td>\n",
       "      <td>2.378547</td>\n",
       "      <td>2.380706</td>\n",
       "      <td>00:00</td>\n",
       "    </tr>\n",
       "    <tr>\n",
       "      <td>1</td>\n",
       "      <td>2.376963</td>\n",
       "      <td>2.382044</td>\n",
       "      <td>00:00</td>\n",
       "    </tr>\n",
       "    <tr>\n",
       "      <td>2</td>\n",
       "      <td>2.376028</td>\n",
       "      <td>2.382329</td>\n",
       "      <td>00:00</td>\n",
       "    </tr>\n",
       "    <tr>\n",
       "      <td>3</td>\n",
       "      <td>2.378005</td>\n",
       "      <td>2.382477</td>\n",
       "      <td>00:00</td>\n",
       "    </tr>\n",
       "    <tr>\n",
       "      <td>4</td>\n",
       "      <td>2.379100</td>\n",
       "      <td>2.377726</td>\n",
       "      <td>00:00</td>\n",
       "    </tr>\n",
       "    <tr>\n",
       "      <td>5</td>\n",
       "      <td>2.380917</td>\n",
       "      <td>2.384803</td>\n",
       "      <td>00:00</td>\n",
       "    </tr>\n",
       "    <tr>\n",
       "      <td>6</td>\n",
       "      <td>2.380884</td>\n",
       "      <td>2.380169</td>\n",
       "      <td>00:00</td>\n",
       "    </tr>\n",
       "    <tr>\n",
       "      <td>7</td>\n",
       "      <td>2.379703</td>\n",
       "      <td>2.388327</td>\n",
       "      <td>00:00</td>\n",
       "    </tr>\n",
       "    <tr>\n",
       "      <td>8</td>\n",
       "      <td>2.380450</td>\n",
       "      <td>2.382517</td>\n",
       "      <td>00:00</td>\n",
       "    </tr>\n",
       "    <tr>\n",
       "      <td>9</td>\n",
       "      <td>2.381212</td>\n",
       "      <td>2.384925</td>\n",
       "      <td>00:00</td>\n",
       "    </tr>\n",
       "  </tbody>\n",
       "</table>"
      ],
      "text/plain": [
       "<IPython.core.display.HTML object>"
      ]
     },
     "metadata": {},
     "output_type": "display_data"
    },
    {
     "data": {
      "text/html": [
       "<table border=\"1\" class=\"dataframe\">\n",
       "  <thead>\n",
       "    <tr style=\"text-align: left;\">\n",
       "      <th>epoch</th>\n",
       "      <th>train_loss</th>\n",
       "      <th>valid_loss</th>\n",
       "      <th>time</th>\n",
       "    </tr>\n",
       "  </thead>\n",
       "  <tbody>\n",
       "    <tr>\n",
       "      <td>0</td>\n",
       "      <td>2.383945</td>\n",
       "      <td>2.380353</td>\n",
       "      <td>00:00</td>\n",
       "    </tr>\n",
       "    <tr>\n",
       "      <td>1</td>\n",
       "      <td>2.380788</td>\n",
       "      <td>2.377140</td>\n",
       "      <td>00:00</td>\n",
       "    </tr>\n",
       "    <tr>\n",
       "      <td>2</td>\n",
       "      <td>2.380159</td>\n",
       "      <td>2.381429</td>\n",
       "      <td>00:00</td>\n",
       "    </tr>\n",
       "    <tr>\n",
       "      <td>3</td>\n",
       "      <td>2.379488</td>\n",
       "      <td>2.378953</td>\n",
       "      <td>00:00</td>\n",
       "    </tr>\n",
       "    <tr>\n",
       "      <td>4</td>\n",
       "      <td>2.380353</td>\n",
       "      <td>2.384616</td>\n",
       "      <td>00:00</td>\n",
       "    </tr>\n",
       "    <tr>\n",
       "      <td>5</td>\n",
       "      <td>2.381137</td>\n",
       "      <td>2.381690</td>\n",
       "      <td>00:00</td>\n",
       "    </tr>\n",
       "    <tr>\n",
       "      <td>6</td>\n",
       "      <td>2.381920</td>\n",
       "      <td>2.382021</td>\n",
       "      <td>00:00</td>\n",
       "    </tr>\n",
       "    <tr>\n",
       "      <td>7</td>\n",
       "      <td>2.381559</td>\n",
       "      <td>2.379822</td>\n",
       "      <td>00:00</td>\n",
       "    </tr>\n",
       "    <tr>\n",
       "      <td>8</td>\n",
       "      <td>2.380182</td>\n",
       "      <td>2.384570</td>\n",
       "      <td>00:00</td>\n",
       "    </tr>\n",
       "    <tr>\n",
       "      <td>9</td>\n",
       "      <td>2.380640</td>\n",
       "      <td>2.374418</td>\n",
       "      <td>00:00</td>\n",
       "    </tr>\n",
       "  </tbody>\n",
       "</table>"
      ],
      "text/plain": [
       "<IPython.core.display.HTML object>"
      ]
     },
     "metadata": {},
     "output_type": "display_data"
    },
    {
     "data": {
      "text/html": [
       "<table border=\"1\" class=\"dataframe\">\n",
       "  <thead>\n",
       "    <tr style=\"text-align: left;\">\n",
       "      <th>epoch</th>\n",
       "      <th>train_loss</th>\n",
       "      <th>valid_loss</th>\n",
       "      <th>time</th>\n",
       "    </tr>\n",
       "  </thead>\n",
       "  <tbody>\n",
       "    <tr>\n",
       "      <td>0</td>\n",
       "      <td>2.377536</td>\n",
       "      <td>2.378489</td>\n",
       "      <td>00:00</td>\n",
       "    </tr>\n",
       "    <tr>\n",
       "      <td>1</td>\n",
       "      <td>2.377166</td>\n",
       "      <td>2.379116</td>\n",
       "      <td>00:00</td>\n",
       "    </tr>\n",
       "    <tr>\n",
       "      <td>2</td>\n",
       "      <td>2.376177</td>\n",
       "      <td>2.379590</td>\n",
       "      <td>00:00</td>\n",
       "    </tr>\n",
       "    <tr>\n",
       "      <td>3</td>\n",
       "      <td>2.376886</td>\n",
       "      <td>2.381219</td>\n",
       "      <td>00:00</td>\n",
       "    </tr>\n",
       "    <tr>\n",
       "      <td>4</td>\n",
       "      <td>2.376751</td>\n",
       "      <td>2.377469</td>\n",
       "      <td>00:00</td>\n",
       "    </tr>\n",
       "    <tr>\n",
       "      <td>5</td>\n",
       "      <td>2.376412</td>\n",
       "      <td>2.380960</td>\n",
       "      <td>00:00</td>\n",
       "    </tr>\n",
       "    <tr>\n",
       "      <td>6</td>\n",
       "      <td>2.377208</td>\n",
       "      <td>2.380317</td>\n",
       "      <td>00:00</td>\n",
       "    </tr>\n",
       "    <tr>\n",
       "      <td>7</td>\n",
       "      <td>2.378183</td>\n",
       "      <td>2.378951</td>\n",
       "      <td>00:00</td>\n",
       "    </tr>\n",
       "    <tr>\n",
       "      <td>8</td>\n",
       "      <td>2.378663</td>\n",
       "      <td>2.378999</td>\n",
       "      <td>00:00</td>\n",
       "    </tr>\n",
       "    <tr>\n",
       "      <td>9</td>\n",
       "      <td>2.378427</td>\n",
       "      <td>2.377358</td>\n",
       "      <td>00:00</td>\n",
       "    </tr>\n",
       "  </tbody>\n",
       "</table>"
      ],
      "text/plain": [
       "<IPython.core.display.HTML object>"
      ]
     },
     "metadata": {},
     "output_type": "display_data"
    },
    {
     "data": {
      "image/png": "[encoded data removed]",
      "text/plain": [
       "<PIL.Image.Image image mode=RGB size=140x140 at 0x12AFBEFD0>"
      ]
     },
     "execution_count": 31,
     "metadata": {},
     "output_type": "execute_result"
    }
   ],
   "source": [
    "exclude = [\"Height\", \"Slant\"] # Let's keep height constant\n",
    "lr = 1e-2\n",
    "epochs = 10\n",
    "random.shuffle(param_names)\n",
    "for p in param_names:\n",
    "    if p in exclude: continue\n",
    "    learner.freeze_params()\n",
    "    learner.unfreeze_params([p])\n",
    "    learner.fit(epochs, lr=lr)\n",
    "learner.render_letter(\"A\", scale=5)"
   ]
  },
  {
   "cell_type": "markdown",
   "metadata": {},
   "source": [
    "As a final test on SGD, let's see what results we get with different initial conditions."
   ]
  },
  {
   "cell_type": "code",
   "execution_count": 36,
   "metadata": {},
   "outputs": [
    {
     "name": "stdout",
     "output_type": "stream",
     "text": [
      "Starting iter 1/20\n"
     ]
    },
    {
     "data": {
      "text/html": [
       "<table border=\"1\" class=\"dataframe\">\n",
       "  <thead>\n",
       "    <tr style=\"text-align: left;\">\n",
       "      <th>epoch</th>\n",
       "      <th>train_loss</th>\n",
       "      <th>valid_loss</th>\n",
       "      <th>time</th>\n",
       "    </tr>\n",
       "  </thead>\n",
       "  <tbody>\n",
       "  </tbody>\n",
       "</table>"
      ],
      "text/plain": [
       "<IPython.core.display.HTML object>"
      ]
     },
     "metadata": {},
     "output_type": "display_data"
    },
    {
     "data": {
      "text/html": [
       "<table border=\"1\" class=\"dataframe\">\n",
       "  <thead>\n",
       "    <tr style=\"text-align: left;\">\n",
       "      <th>epoch</th>\n",
       "      <th>train_loss</th>\n",
       "      <th>valid_loss</th>\n",
       "      <th>time</th>\n",
       "    </tr>\n",
       "  </thead>\n",
       "  <tbody>\n",
       "  </tbody>\n",
       "</table>"
      ],
      "text/plain": [
       "<IPython.core.display.HTML object>"
      ]
     },
     "metadata": {},
     "output_type": "display_data"
    },
    {
     "data": {
      "text/html": [
       "<table border=\"1\" class=\"dataframe\">\n",
       "  <thead>\n",
       "    <tr style=\"text-align: left;\">\n",
       "      <th>epoch</th>\n",
       "      <th>train_loss</th>\n",
       "      <th>valid_loss</th>\n",
       "      <th>time</th>\n",
       "    </tr>\n",
       "  </thead>\n",
       "  <tbody>\n",
       "  </tbody>\n",
       "</table>"
      ],
      "text/plain": [
       "<IPython.core.display.HTML object>"
      ]
     },
     "metadata": {},
     "output_type": "display_data"
    },
    {
     "name": "stdout",
     "output_type": "stream",
     "text": [
      "Starting iter 2/20\n"
     ]
    },
    {
     "data": {
      "text/html": [
       "<table border=\"1\" class=\"dataframe\">\n",
       "  <thead>\n",
       "    <tr style=\"text-align: left;\">\n",
       "      <th>epoch</th>\n",
       "      <th>train_loss</th>\n",
       "      <th>valid_loss</th>\n",
       "      <th>time</th>\n",
       "    </tr>\n",
       "  </thead>\n",
       "  <tbody>\n",
       "  </tbody>\n",
       "</table>"
      ],
      "text/plain": [
       "<IPython.core.display.HTML object>"
      ]
     },
     "metadata": {},
     "output_type": "display_data"
    },
    {
     "data": {
      "text/html": [
       "<table border=\"1\" class=\"dataframe\">\n",
       "  <thead>\n",
       "    <tr style=\"text-align: left;\">\n",
       "      <th>epoch</th>\n",
       "      <th>train_loss</th>\n",
       "      <th>valid_loss</th>\n",
       "      <th>time</th>\n",
       "    </tr>\n",
       "  </thead>\n",
       "  <tbody>\n",
       "  </tbody>\n",
       "</table>"
      ],
      "text/plain": [
       "<IPython.core.display.HTML object>"
      ]
     },
     "metadata": {},
     "output_type": "display_data"
    },
    {
     "data": {
      "text/html": [
       "<table border=\"1\" class=\"dataframe\">\n",
       "  <thead>\n",
       "    <tr style=\"text-align: left;\">\n",
       "      <th>epoch</th>\n",
       "      <th>train_loss</th>\n",
       "      <th>valid_loss</th>\n",
       "      <th>time</th>\n",
       "    </tr>\n",
       "  </thead>\n",
       "  <tbody>\n",
       "  </tbody>\n",
       "</table>"
      ],
      "text/plain": [
       "<IPython.core.display.HTML object>"
      ]
     },
     "metadata": {},
     "output_type": "display_data"
    },
    {
     "name": "stdout",
     "output_type": "stream",
     "text": [
      "Starting iter 3/20\n"
     ]
    },
    {
     "data": {
      "text/html": [
       "<table border=\"1\" class=\"dataframe\">\n",
       "  <thead>\n",
       "    <tr style=\"text-align: left;\">\n",
       "      <th>epoch</th>\n",
       "      <th>train_loss</th>\n",
       "      <th>valid_loss</th>\n",
       "      <th>time</th>\n",
       "    </tr>\n",
       "  </thead>\n",
       "  <tbody>\n",
       "  </tbody>\n",
       "</table>"
      ],
      "text/plain": [
       "<IPython.core.display.HTML object>"
      ]
     },
     "metadata": {},
     "output_type": "display_data"
    },
    {
     "data": {
      "text/html": [
       "<table border=\"1\" class=\"dataframe\">\n",
       "  <thead>\n",
       "    <tr style=\"text-align: left;\">\n",
       "      <th>epoch</th>\n",
       "      <th>train_loss</th>\n",
       "      <th>valid_loss</th>\n",
       "      <th>time</th>\n",
       "    </tr>\n",
       "  </thead>\n",
       "  <tbody>\n",
       "  </tbody>\n",
       "</table>"
      ],
      "text/plain": [
       "<IPython.core.display.HTML object>"
      ]
     },
     "metadata": {},
     "output_type": "display_data"
    },
    {
     "data": {
      "text/html": [
       "<table border=\"1\" class=\"dataframe\">\n",
       "  <thead>\n",
       "    <tr style=\"text-align: left;\">\n",
       "      <th>epoch</th>\n",
       "      <th>train_loss</th>\n",
       "      <th>valid_loss</th>\n",
       "      <th>time</th>\n",
       "    </tr>\n",
       "  </thead>\n",
       "  <tbody>\n",
       "  </tbody>\n",
       "</table>"
      ],
      "text/plain": [
       "<IPython.core.display.HTML object>"
      ]
     },
     "metadata": {},
     "output_type": "display_data"
    },
    {
     "name": "stdout",
     "output_type": "stream",
     "text": [
      "Starting iter 4/20\n"
     ]
    },
    {
     "data": {
      "text/html": [
       "<table border=\"1\" class=\"dataframe\">\n",
       "  <thead>\n",
       "    <tr style=\"text-align: left;\">\n",
       "      <th>epoch</th>\n",
       "      <th>train_loss</th>\n",
       "      <th>valid_loss</th>\n",
       "      <th>time</th>\n",
       "    </tr>\n",
       "  </thead>\n",
       "  <tbody>\n",
       "  </tbody>\n",
       "</table>"
      ],
      "text/plain": [
       "<IPython.core.display.HTML object>"
      ]
     },
     "metadata": {},
     "output_type": "display_data"
    },
    {
     "data": {
      "text/html": [
       "<table border=\"1\" class=\"dataframe\">\n",
       "  <thead>\n",
       "    <tr style=\"text-align: left;\">\n",
       "      <th>epoch</th>\n",
       "      <th>train_loss</th>\n",
       "      <th>valid_loss</th>\n",
       "      <th>time</th>\n",
       "    </tr>\n",
       "  </thead>\n",
       "  <tbody>\n",
       "  </tbody>\n",
       "</table>"
      ],
      "text/plain": [
       "<IPython.core.display.HTML object>"
      ]
     },
     "metadata": {},
     "output_type": "display_data"
    },
    {
     "data": {
      "text/html": [
       "<table border=\"1\" class=\"dataframe\">\n",
       "  <thead>\n",
       "    <tr style=\"text-align: left;\">\n",
       "      <th>epoch</th>\n",
       "      <th>train_loss</th>\n",
       "      <th>valid_loss</th>\n",
       "      <th>time</th>\n",
       "    </tr>\n",
       "  </thead>\n",
       "  <tbody>\n",
       "  </tbody>\n",
       "</table>"
      ],
      "text/plain": [
       "<IPython.core.display.HTML object>"
      ]
     },
     "metadata": {},
     "output_type": "display_data"
    },
    {
     "name": "stdout",
     "output_type": "stream",
     "text": [
      "Starting iter 5/20\n"
     ]
    },
    {
     "data": {
      "text/html": [
       "<table border=\"1\" class=\"dataframe\">\n",
       "  <thead>\n",
       "    <tr style=\"text-align: left;\">\n",
       "      <th>epoch</th>\n",
       "      <th>train_loss</th>\n",
       "      <th>valid_loss</th>\n",
       "      <th>time</th>\n",
       "    </tr>\n",
       "  </thead>\n",
       "  <tbody>\n",
       "  </tbody>\n",
       "</table>"
      ],
      "text/plain": [
       "<IPython.core.display.HTML object>"
      ]
     },
     "metadata": {},
     "output_type": "display_data"
    },
    {
     "data": {
      "text/html": [
       "<table border=\"1\" class=\"dataframe\">\n",
       "  <thead>\n",
       "    <tr style=\"text-align: left;\">\n",
       "      <th>epoch</th>\n",
       "      <th>train_loss</th>\n",
       "      <th>valid_loss</th>\n",
       "      <th>time</th>\n",
       "    </tr>\n",
       "  </thead>\n",
       "  <tbody>\n",
       "  </tbody>\n",
       "</table>"
      ],
      "text/plain": [
       "<IPython.core.display.HTML object>"
      ]
     },
     "metadata": {},
     "output_type": "display_data"
    },
    {
     "data": {
      "text/html": [
       "<table border=\"1\" class=\"dataframe\">\n",
       "  <thead>\n",
       "    <tr style=\"text-align: left;\">\n",
       "      <th>epoch</th>\n",
       "      <th>train_loss</th>\n",
       "      <th>valid_loss</th>\n",
       "      <th>time</th>\n",
       "    </tr>\n",
       "  </thead>\n",
       "  <tbody>\n",
       "  </tbody>\n",
       "</table>"
      ],
      "text/plain": [
       "<IPython.core.display.HTML object>"
      ]
     },
     "metadata": {},
     "output_type": "display_data"
    },
    {
     "name": "stdout",
     "output_type": "stream",
     "text": [
      "Starting iter 6/20\n"
     ]
    },
    {
     "data": {
      "text/html": [
       "<table border=\"1\" class=\"dataframe\">\n",
       "  <thead>\n",
       "    <tr style=\"text-align: left;\">\n",
       "      <th>epoch</th>\n",
       "      <th>train_loss</th>\n",
       "      <th>valid_loss</th>\n",
       "      <th>time</th>\n",
       "    </tr>\n",
       "  </thead>\n",
       "  <tbody>\n",
       "  </tbody>\n",
       "</table>"
      ],
      "text/plain": [
       "<IPython.core.display.HTML object>"
      ]
     },
     "metadata": {},
     "output_type": "display_data"
    },
    {
     "data": {
      "text/html": [
       "<table border=\"1\" class=\"dataframe\">\n",
       "  <thead>\n",
       "    <tr style=\"text-align: left;\">\n",
       "      <th>epoch</th>\n",
       "      <th>train_loss</th>\n",
       "      <th>valid_loss</th>\n",
       "      <th>time</th>\n",
       "    </tr>\n",
       "  </thead>\n",
       "  <tbody>\n",
       "  </tbody>\n",
       "</table>"
      ],
      "text/plain": [
       "<IPython.core.display.HTML object>"
      ]
     },
     "metadata": {},
     "output_type": "display_data"
    },
    {
     "data": {
      "text/html": [
       "<table border=\"1\" class=\"dataframe\">\n",
       "  <thead>\n",
       "    <tr style=\"text-align: left;\">\n",
       "      <th>epoch</th>\n",
       "      <th>train_loss</th>\n",
       "      <th>valid_loss</th>\n",
       "      <th>time</th>\n",
       "    </tr>\n",
       "  </thead>\n",
       "  <tbody>\n",
       "  </tbody>\n",
       "</table>"
      ],
      "text/plain": [
       "<IPython.core.display.HTML object>"
      ]
     },
     "metadata": {},
     "output_type": "display_data"
    },
    {
     "name": "stdout",
     "output_type": "stream",
     "text": [
      "Starting iter 7/20\n"
     ]
    },
    {
     "data": {
      "text/html": [
       "<table border=\"1\" class=\"dataframe\">\n",
       "  <thead>\n",
       "    <tr style=\"text-align: left;\">\n",
       "      <th>epoch</th>\n",
       "      <th>train_loss</th>\n",
       "      <th>valid_loss</th>\n",
       "      <th>time</th>\n",
       "    </tr>\n",
       "  </thead>\n",
       "  <tbody>\n",
       "  </tbody>\n",
       "</table>"
      ],
      "text/plain": [
       "<IPython.core.display.HTML object>"
      ]
     },
     "metadata": {},
     "output_type": "display_data"
    },
    {
     "data": {
      "text/html": [
       "<table border=\"1\" class=\"dataframe\">\n",
       "  <thead>\n",
       "    <tr style=\"text-align: left;\">\n",
       "      <th>epoch</th>\n",
       "      <th>train_loss</th>\n",
       "      <th>valid_loss</th>\n",
       "      <th>time</th>\n",
       "    </tr>\n",
       "  </thead>\n",
       "  <tbody>\n",
       "  </tbody>\n",
       "</table>"
      ],
      "text/plain": [
       "<IPython.core.display.HTML object>"
      ]
     },
     "metadata": {},
     "output_type": "display_data"
    },
    {
     "data": {
      "text/html": [
       "<table border=\"1\" class=\"dataframe\">\n",
       "  <thead>\n",
       "    <tr style=\"text-align: left;\">\n",
       "      <th>epoch</th>\n",
       "      <th>train_loss</th>\n",
       "      <th>valid_loss</th>\n",
       "      <th>time</th>\n",
       "    </tr>\n",
       "  </thead>\n",
       "  <tbody>\n",
       "  </tbody>\n",
       "</table>"
      ],
      "text/plain": [
       "<IPython.core.display.HTML object>"
      ]
     },
     "metadata": {},
     "output_type": "display_data"
    },
    {
     "name": "stdout",
     "output_type": "stream",
     "text": [
      "Starting iter 8/20\n"
     ]
    },
    {
     "data": {
      "text/html": [
       "<table border=\"1\" class=\"dataframe\">\n",
       "  <thead>\n",
       "    <tr style=\"text-align: left;\">\n",
       "      <th>epoch</th>\n",
       "      <th>train_loss</th>\n",
       "      <th>valid_loss</th>\n",
       "      <th>time</th>\n",
       "    </tr>\n",
       "  </thead>\n",
       "  <tbody>\n",
       "  </tbody>\n",
       "</table>"
      ],
      "text/plain": [
       "<IPython.core.display.HTML object>"
      ]
     },
     "metadata": {},
     "output_type": "display_data"
    },
    {
     "data": {
      "text/html": [
       "<table border=\"1\" class=\"dataframe\">\n",
       "  <thead>\n",
       "    <tr style=\"text-align: left;\">\n",
       "      <th>epoch</th>\n",
       "      <th>train_loss</th>\n",
       "      <th>valid_loss</th>\n",
       "      <th>time</th>\n",
       "    </tr>\n",
       "  </thead>\n",
       "  <tbody>\n",
       "  </tbody>\n",
       "</table>"
      ],
      "text/plain": [
       "<IPython.core.display.HTML object>"
      ]
     },
     "metadata": {},
     "output_type": "display_data"
    },
    {
     "data": {
      "text/html": [
       "<table border=\"1\" class=\"dataframe\">\n",
       "  <thead>\n",
       "    <tr style=\"text-align: left;\">\n",
       "      <th>epoch</th>\n",
       "      <th>train_loss</th>\n",
       "      <th>valid_loss</th>\n",
       "      <th>time</th>\n",
       "    </tr>\n",
       "  </thead>\n",
       "  <tbody>\n",
       "  </tbody>\n",
       "</table>"
      ],
      "text/plain": [
       "<IPython.core.display.HTML object>"
      ]
     },
     "metadata": {},
     "output_type": "display_data"
    },
    {
     "name": "stdout",
     "output_type": "stream",
     "text": [
      "Starting iter 9/20\n"
     ]
    },
    {
     "data": {
      "text/html": [
       "<table border=\"1\" class=\"dataframe\">\n",
       "  <thead>\n",
       "    <tr style=\"text-align: left;\">\n",
       "      <th>epoch</th>\n",
       "      <th>train_loss</th>\n",
       "      <th>valid_loss</th>\n",
       "      <th>time</th>\n",
       "    </tr>\n",
       "  </thead>\n",
       "  <tbody>\n",
       "  </tbody>\n",
       "</table>"
      ],
      "text/plain": [
       "<IPython.core.display.HTML object>"
      ]
     },
     "metadata": {},
     "output_type": "display_data"
    },
    {
     "data": {
      "text/html": [
       "<table border=\"1\" class=\"dataframe\">\n",
       "  <thead>\n",
       "    <tr style=\"text-align: left;\">\n",
       "      <th>epoch</th>\n",
       "      <th>train_loss</th>\n",
       "      <th>valid_loss</th>\n",
       "      <th>time</th>\n",
       "    </tr>\n",
       "  </thead>\n",
       "  <tbody>\n",
       "  </tbody>\n",
       "</table>"
      ],
      "text/plain": [
       "<IPython.core.display.HTML object>"
      ]
     },
     "metadata": {},
     "output_type": "display_data"
    },
    {
     "data": {
      "text/html": [
       "<table border=\"1\" class=\"dataframe\">\n",
       "  <thead>\n",
       "    <tr style=\"text-align: left;\">\n",
       "      <th>epoch</th>\n",
       "      <th>train_loss</th>\n",
       "      <th>valid_loss</th>\n",
       "      <th>time</th>\n",
       "    </tr>\n",
       "  </thead>\n",
       "  <tbody>\n",
       "  </tbody>\n",
       "</table>"
      ],
      "text/plain": [
       "<IPython.core.display.HTML object>"
      ]
     },
     "metadata": {},
     "output_type": "display_data"
    },
    {
     "name": "stdout",
     "output_type": "stream",
     "text": [
      "Starting iter 10/20\n"
     ]
    },
    {
     "data": {
      "text/html": [
       "<table border=\"1\" class=\"dataframe\">\n",
       "  <thead>\n",
       "    <tr style=\"text-align: left;\">\n",
       "      <th>epoch</th>\n",
       "      <th>train_loss</th>\n",
       "      <th>valid_loss</th>\n",
       "      <th>time</th>\n",
       "    </tr>\n",
       "  </thead>\n",
       "  <tbody>\n",
       "  </tbody>\n",
       "</table>"
      ],
      "text/plain": [
       "<IPython.core.display.HTML object>"
      ]
     },
     "metadata": {},
     "output_type": "display_data"
    },
    {
     "data": {
      "text/html": [
       "<table border=\"1\" class=\"dataframe\">\n",
       "  <thead>\n",
       "    <tr style=\"text-align: left;\">\n",
       "      <th>epoch</th>\n",
       "      <th>train_loss</th>\n",
       "      <th>valid_loss</th>\n",
       "      <th>time</th>\n",
       "    </tr>\n",
       "  </thead>\n",
       "  <tbody>\n",
       "  </tbody>\n",
       "</table>"
      ],
      "text/plain": [
       "<IPython.core.display.HTML object>"
      ]
     },
     "metadata": {},
     "output_type": "display_data"
    },
    {
     "data": {
      "text/html": [
       "<table border=\"1\" class=\"dataframe\">\n",
       "  <thead>\n",
       "    <tr style=\"text-align: left;\">\n",
       "      <th>epoch</th>\n",
       "      <th>train_loss</th>\n",
       "      <th>valid_loss</th>\n",
       "      <th>time</th>\n",
       "    </tr>\n",
       "  </thead>\n",
       "  <tbody>\n",
       "  </tbody>\n",
       "</table>"
      ],
      "text/plain": [
       "<IPython.core.display.HTML object>"
      ]
     },
     "metadata": {},
     "output_type": "display_data"
    },
    {
     "name": "stdout",
     "output_type": "stream",
     "text": [
      "Starting iter 11/20\n"
     ]
    },
    {
     "data": {
      "text/html": [
       "<table border=\"1\" class=\"dataframe\">\n",
       "  <thead>\n",
       "    <tr style=\"text-align: left;\">\n",
       "      <th>epoch</th>\n",
       "      <th>train_loss</th>\n",
       "      <th>valid_loss</th>\n",
       "      <th>time</th>\n",
       "    </tr>\n",
       "  </thead>\n",
       "  <tbody>\n",
       "  </tbody>\n",
       "</table>"
      ],
      "text/plain": [
       "<IPython.core.display.HTML object>"
      ]
     },
     "metadata": {},
     "output_type": "display_data"
    },
    {
     "data": {
      "text/html": [
       "<table border=\"1\" class=\"dataframe\">\n",
       "  <thead>\n",
       "    <tr style=\"text-align: left;\">\n",
       "      <th>epoch</th>\n",
       "      <th>train_loss</th>\n",
       "      <th>valid_loss</th>\n",
       "      <th>time</th>\n",
       "    </tr>\n",
       "  </thead>\n",
       "  <tbody>\n",
       "  </tbody>\n",
       "</table>"
      ],
      "text/plain": [
       "<IPython.core.display.HTML object>"
      ]
     },
     "metadata": {},
     "output_type": "display_data"
    },
    {
     "data": {
      "text/html": [
       "<table border=\"1\" class=\"dataframe\">\n",
       "  <thead>\n",
       "    <tr style=\"text-align: left;\">\n",
       "      <th>epoch</th>\n",
       "      <th>train_loss</th>\n",
       "      <th>valid_loss</th>\n",
       "      <th>time</th>\n",
       "    </tr>\n",
       "  </thead>\n",
       "  <tbody>\n",
       "  </tbody>\n",
       "</table>"
      ],
      "text/plain": [
       "<IPython.core.display.HTML object>"
      ]
     },
     "metadata": {},
     "output_type": "display_data"
    },
    {
     "name": "stdout",
     "output_type": "stream",
     "text": [
      "Starting iter 12/20\n"
     ]
    },
    {
     "data": {
      "text/html": [
       "<table border=\"1\" class=\"dataframe\">\n",
       "  <thead>\n",
       "    <tr style=\"text-align: left;\">\n",
       "      <th>epoch</th>\n",
       "      <th>train_loss</th>\n",
       "      <th>valid_loss</th>\n",
       "      <th>time</th>\n",
       "    </tr>\n",
       "  </thead>\n",
       "  <tbody>\n",
       "  </tbody>\n",
       "</table>"
      ],
      "text/plain": [
       "<IPython.core.display.HTML object>"
      ]
     },
     "metadata": {},
     "output_type": "display_data"
    },
    {
     "data": {
      "text/html": [
       "<table border=\"1\" class=\"dataframe\">\n",
       "  <thead>\n",
       "    <tr style=\"text-align: left;\">\n",
       "      <th>epoch</th>\n",
       "      <th>train_loss</th>\n",
       "      <th>valid_loss</th>\n",
       "      <th>time</th>\n",
       "    </tr>\n",
       "  </thead>\n",
       "  <tbody>\n",
       "  </tbody>\n",
       "</table>"
      ],
      "text/plain": [
       "<IPython.core.display.HTML object>"
      ]
     },
     "metadata": {},
     "output_type": "display_data"
    },
    {
     "data": {
      "text/html": [
       "<table border=\"1\" class=\"dataframe\">\n",
       "  <thead>\n",
       "    <tr style=\"text-align: left;\">\n",
       "      <th>epoch</th>\n",
       "      <th>train_loss</th>\n",
       "      <th>valid_loss</th>\n",
       "      <th>time</th>\n",
       "    </tr>\n",
       "  </thead>\n",
       "  <tbody>\n",
       "  </tbody>\n",
       "</table>"
      ],
      "text/plain": [
       "<IPython.core.display.HTML object>"
      ]
     },
     "metadata": {},
     "output_type": "display_data"
    },
    {
     "name": "stdout",
     "output_type": "stream",
     "text": [
      "Starting iter 13/20\n"
     ]
    },
    {
     "data": {
      "text/html": [
       "<table border=\"1\" class=\"dataframe\">\n",
       "  <thead>\n",
       "    <tr style=\"text-align: left;\">\n",
       "      <th>epoch</th>\n",
       "      <th>train_loss</th>\n",
       "      <th>valid_loss</th>\n",
       "      <th>time</th>\n",
       "    </tr>\n",
       "  </thead>\n",
       "  <tbody>\n",
       "  </tbody>\n",
       "</table>"
      ],
      "text/plain": [
       "<IPython.core.display.HTML object>"
      ]
     },
     "metadata": {},
     "output_type": "display_data"
    },
    {
     "data": {
      "text/html": [
       "<table border=\"1\" class=\"dataframe\">\n",
       "  <thead>\n",
       "    <tr style=\"text-align: left;\">\n",
       "      <th>epoch</th>\n",
       "      <th>train_loss</th>\n",
       "      <th>valid_loss</th>\n",
       "      <th>time</th>\n",
       "    </tr>\n",
       "  </thead>\n",
       "  <tbody>\n",
       "  </tbody>\n",
       "</table>"
      ],
      "text/plain": [
       "<IPython.core.display.HTML object>"
      ]
     },
     "metadata": {},
     "output_type": "display_data"
    },
    {
     "data": {
      "text/html": [
       "<table border=\"1\" class=\"dataframe\">\n",
       "  <thead>\n",
       "    <tr style=\"text-align: left;\">\n",
       "      <th>epoch</th>\n",
       "      <th>train_loss</th>\n",
       "      <th>valid_loss</th>\n",
       "      <th>time</th>\n",
       "    </tr>\n",
       "  </thead>\n",
       "  <tbody>\n",
       "  </tbody>\n",
       "</table>"
      ],
      "text/plain": [
       "<IPython.core.display.HTML object>"
      ]
     },
     "metadata": {},
     "output_type": "display_data"
    },
    {
     "name": "stdout",
     "output_type": "stream",
     "text": [
      "Starting iter 14/20\n"
     ]
    },
    {
     "data": {
      "text/html": [
       "<table border=\"1\" class=\"dataframe\">\n",
       "  <thead>\n",
       "    <tr style=\"text-align: left;\">\n",
       "      <th>epoch</th>\n",
       "      <th>train_loss</th>\n",
       "      <th>valid_loss</th>\n",
       "      <th>time</th>\n",
       "    </tr>\n",
       "  </thead>\n",
       "  <tbody>\n",
       "  </tbody>\n",
       "</table>"
      ],
      "text/plain": [
       "<IPython.core.display.HTML object>"
      ]
     },
     "metadata": {},
     "output_type": "display_data"
    },
    {
     "data": {
      "text/html": [
       "<table border=\"1\" class=\"dataframe\">\n",
       "  <thead>\n",
       "    <tr style=\"text-align: left;\">\n",
       "      <th>epoch</th>\n",
       "      <th>train_loss</th>\n",
       "      <th>valid_loss</th>\n",
       "      <th>time</th>\n",
       "    </tr>\n",
       "  </thead>\n",
       "  <tbody>\n",
       "  </tbody>\n",
       "</table>"
      ],
      "text/plain": [
       "<IPython.core.display.HTML object>"
      ]
     },
     "metadata": {},
     "output_type": "display_data"
    },
    {
     "data": {
      "text/html": [
       "<table border=\"1\" class=\"dataframe\">\n",
       "  <thead>\n",
       "    <tr style=\"text-align: left;\">\n",
       "      <th>epoch</th>\n",
       "      <th>train_loss</th>\n",
       "      <th>valid_loss</th>\n",
       "      <th>time</th>\n",
       "    </tr>\n",
       "  </thead>\n",
       "  <tbody>\n",
       "  </tbody>\n",
       "</table>"
      ],
      "text/plain": [
       "<IPython.core.display.HTML object>"
      ]
     },
     "metadata": {},
     "output_type": "display_data"
    },
    {
     "name": "stdout",
     "output_type": "stream",
     "text": [
      "Starting iter 15/20\n"
     ]
    },
    {
     "data": {
      "text/html": [
       "<table border=\"1\" class=\"dataframe\">\n",
       "  <thead>\n",
       "    <tr style=\"text-align: left;\">\n",
       "      <th>epoch</th>\n",
       "      <th>train_loss</th>\n",
       "      <th>valid_loss</th>\n",
       "      <th>time</th>\n",
       "    </tr>\n",
       "  </thead>\n",
       "  <tbody>\n",
       "  </tbody>\n",
       "</table>"
      ],
      "text/plain": [
       "<IPython.core.display.HTML object>"
      ]
     },
     "metadata": {},
     "output_type": "display_data"
    },
    {
     "data": {
      "text/html": [
       "<table border=\"1\" class=\"dataframe\">\n",
       "  <thead>\n",
       "    <tr style=\"text-align: left;\">\n",
       "      <th>epoch</th>\n",
       "      <th>train_loss</th>\n",
       "      <th>valid_loss</th>\n",
       "      <th>time</th>\n",
       "    </tr>\n",
       "  </thead>\n",
       "  <tbody>\n",
       "  </tbody>\n",
       "</table>"
      ],
      "text/plain": [
       "<IPython.core.display.HTML object>"
      ]
     },
     "metadata": {},
     "output_type": "display_data"
    },
    {
     "data": {
      "text/html": [
       "<table border=\"1\" class=\"dataframe\">\n",
       "  <thead>\n",
       "    <tr style=\"text-align: left;\">\n",
       "      <th>epoch</th>\n",
       "      <th>train_loss</th>\n",
       "      <th>valid_loss</th>\n",
       "      <th>time</th>\n",
       "    </tr>\n",
       "  </thead>\n",
       "  <tbody>\n",
       "  </tbody>\n",
       "</table>"
      ],
      "text/plain": [
       "<IPython.core.display.HTML object>"
      ]
     },
     "metadata": {},
     "output_type": "display_data"
    },
    {
     "name": "stdout",
     "output_type": "stream",
     "text": [
      "Starting iter 16/20\n"
     ]
    },
    {
     "data": {
      "text/html": [
       "<table border=\"1\" class=\"dataframe\">\n",
       "  <thead>\n",
       "    <tr style=\"text-align: left;\">\n",
       "      <th>epoch</th>\n",
       "      <th>train_loss</th>\n",
       "      <th>valid_loss</th>\n",
       "      <th>time</th>\n",
       "    </tr>\n",
       "  </thead>\n",
       "  <tbody>\n",
       "  </tbody>\n",
       "</table>"
      ],
      "text/plain": [
       "<IPython.core.display.HTML object>"
      ]
     },
     "metadata": {},
     "output_type": "display_data"
    },
    {
     "data": {
      "text/html": [
       "<table border=\"1\" class=\"dataframe\">\n",
       "  <thead>\n",
       "    <tr style=\"text-align: left;\">\n",
       "      <th>epoch</th>\n",
       "      <th>train_loss</th>\n",
       "      <th>valid_loss</th>\n",
       "      <th>time</th>\n",
       "    </tr>\n",
       "  </thead>\n",
       "  <tbody>\n",
       "  </tbody>\n",
       "</table>"
      ],
      "text/plain": [
       "<IPython.core.display.HTML object>"
      ]
     },
     "metadata": {},
     "output_type": "display_data"
    },
    {
     "data": {
      "text/html": [
       "<table border=\"1\" class=\"dataframe\">\n",
       "  <thead>\n",
       "    <tr style=\"text-align: left;\">\n",
       "      <th>epoch</th>\n",
       "      <th>train_loss</th>\n",
       "      <th>valid_loss</th>\n",
       "      <th>time</th>\n",
       "    </tr>\n",
       "  </thead>\n",
       "  <tbody>\n",
       "  </tbody>\n",
       "</table>"
      ],
      "text/plain": [
       "<IPython.core.display.HTML object>"
      ]
     },
     "metadata": {},
     "output_type": "display_data"
    },
    {
     "name": "stdout",
     "output_type": "stream",
     "text": [
      "Starting iter 17/20\n"
     ]
    },
    {
     "data": {
      "text/html": [
       "<table border=\"1\" class=\"dataframe\">\n",
       "  <thead>\n",
       "    <tr style=\"text-align: left;\">\n",
       "      <th>epoch</th>\n",
       "      <th>train_loss</th>\n",
       "      <th>valid_loss</th>\n",
       "      <th>time</th>\n",
       "    </tr>\n",
       "  </thead>\n",
       "  <tbody>\n",
       "  </tbody>\n",
       "</table>"
      ],
      "text/plain": [
       "<IPython.core.display.HTML object>"
      ]
     },
     "metadata": {},
     "output_type": "display_data"
    },
    {
     "data": {
      "text/html": [
       "<table border=\"1\" class=\"dataframe\">\n",
       "  <thead>\n",
       "    <tr style=\"text-align: left;\">\n",
       "      <th>epoch</th>\n",
       "      <th>train_loss</th>\n",
       "      <th>valid_loss</th>\n",
       "      <th>time</th>\n",
       "    </tr>\n",
       "  </thead>\n",
       "  <tbody>\n",
       "  </tbody>\n",
       "</table>"
      ],
      "text/plain": [
       "<IPython.core.display.HTML object>"
      ]
     },
     "metadata": {},
     "output_type": "display_data"
    },
    {
     "data": {
      "text/html": [
       "<table border=\"1\" class=\"dataframe\">\n",
       "  <thead>\n",
       "    <tr style=\"text-align: left;\">\n",
       "      <th>epoch</th>\n",
       "      <th>train_loss</th>\n",
       "      <th>valid_loss</th>\n",
       "      <th>time</th>\n",
       "    </tr>\n",
       "  </thead>\n",
       "  <tbody>\n",
       "  </tbody>\n",
       "</table>"
      ],
      "text/plain": [
       "<IPython.core.display.HTML object>"
      ]
     },
     "metadata": {},
     "output_type": "display_data"
    },
    {
     "name": "stdout",
     "output_type": "stream",
     "text": [
      "Starting iter 18/20\n"
     ]
    },
    {
     "data": {
      "text/html": [
       "<table border=\"1\" class=\"dataframe\">\n",
       "  <thead>\n",
       "    <tr style=\"text-align: left;\">\n",
       "      <th>epoch</th>\n",
       "      <th>train_loss</th>\n",
       "      <th>valid_loss</th>\n",
       "      <th>time</th>\n",
       "    </tr>\n",
       "  </thead>\n",
       "  <tbody>\n",
       "  </tbody>\n",
       "</table>"
      ],
      "text/plain": [
       "<IPython.core.display.HTML object>"
      ]
     },
     "metadata": {},
     "output_type": "display_data"
    },
    {
     "data": {
      "text/html": [
       "<table border=\"1\" class=\"dataframe\">\n",
       "  <thead>\n",
       "    <tr style=\"text-align: left;\">\n",
       "      <th>epoch</th>\n",
       "      <th>train_loss</th>\n",
       "      <th>valid_loss</th>\n",
       "      <th>time</th>\n",
       "    </tr>\n",
       "  </thead>\n",
       "  <tbody>\n",
       "  </tbody>\n",
       "</table>"
      ],
      "text/plain": [
       "<IPython.core.display.HTML object>"
      ]
     },
     "metadata": {},
     "output_type": "display_data"
    },
    {
     "data": {
      "text/html": [
       "<table border=\"1\" class=\"dataframe\">\n",
       "  <thead>\n",
       "    <tr style=\"text-align: left;\">\n",
       "      <th>epoch</th>\n",
       "      <th>train_loss</th>\n",
       "      <th>valid_loss</th>\n",
       "      <th>time</th>\n",
       "    </tr>\n",
       "  </thead>\n",
       "  <tbody>\n",
       "  </tbody>\n",
       "</table>"
      ],
      "text/plain": [
       "<IPython.core.display.HTML object>"
      ]
     },
     "metadata": {},
     "output_type": "display_data"
    },
    {
     "name": "stdout",
     "output_type": "stream",
     "text": [
      "Starting iter 19/20\n"
     ]
    },
    {
     "data": {
      "text/html": [
       "<table border=\"1\" class=\"dataframe\">\n",
       "  <thead>\n",
       "    <tr style=\"text-align: left;\">\n",
       "      <th>epoch</th>\n",
       "      <th>train_loss</th>\n",
       "      <th>valid_loss</th>\n",
       "      <th>time</th>\n",
       "    </tr>\n",
       "  </thead>\n",
       "  <tbody>\n",
       "  </tbody>\n",
       "</table>"
      ],
      "text/plain": [
       "<IPython.core.display.HTML object>"
      ]
     },
     "metadata": {},
     "output_type": "display_data"
    },
    {
     "data": {
      "text/html": [
       "<table border=\"1\" class=\"dataframe\">\n",
       "  <thead>\n",
       "    <tr style=\"text-align: left;\">\n",
       "      <th>epoch</th>\n",
       "      <th>train_loss</th>\n",
       "      <th>valid_loss</th>\n",
       "      <th>time</th>\n",
       "    </tr>\n",
       "  </thead>\n",
       "  <tbody>\n",
       "  </tbody>\n",
       "</table>"
      ],
      "text/plain": [
       "<IPython.core.display.HTML object>"
      ]
     },
     "metadata": {},
     "output_type": "display_data"
    },
    {
     "data": {
      "text/html": [
       "<table border=\"1\" class=\"dataframe\">\n",
       "  <thead>\n",
       "    <tr style=\"text-align: left;\">\n",
       "      <th>epoch</th>\n",
       "      <th>train_loss</th>\n",
       "      <th>valid_loss</th>\n",
       "      <th>time</th>\n",
       "    </tr>\n",
       "  </thead>\n",
       "  <tbody>\n",
       "  </tbody>\n",
       "</table>"
      ],
      "text/plain": [
       "<IPython.core.display.HTML object>"
      ]
     },
     "metadata": {},
     "output_type": "display_data"
    },
    {
     "name": "stdout",
     "output_type": "stream",
     "text": [
      "Starting iter 20/20\n"
     ]
    },
    {
     "data": {
      "text/html": [
       "<table border=\"1\" class=\"dataframe\">\n",
       "  <thead>\n",
       "    <tr style=\"text-align: left;\">\n",
       "      <th>epoch</th>\n",
       "      <th>train_loss</th>\n",
       "      <th>valid_loss</th>\n",
       "      <th>time</th>\n",
       "    </tr>\n",
       "  </thead>\n",
       "  <tbody>\n",
       "  </tbody>\n",
       "</table>"
      ],
      "text/plain": [
       "<IPython.core.display.HTML object>"
      ]
     },
     "metadata": {},
     "output_type": "display_data"
    },
    {
     "data": {
      "text/html": [
       "<table border=\"1\" class=\"dataframe\">\n",
       "  <thead>\n",
       "    <tr style=\"text-align: left;\">\n",
       "      <th>epoch</th>\n",
       "      <th>train_loss</th>\n",
       "      <th>valid_loss</th>\n",
       "      <th>time</th>\n",
       "    </tr>\n",
       "  </thead>\n",
       "  <tbody>\n",
       "  </tbody>\n",
       "</table>"
      ],
      "text/plain": [
       "<IPython.core.display.HTML object>"
      ]
     },
     "metadata": {},
     "output_type": "display_data"
    },
    {
     "data": {
      "text/html": [
       "<table border=\"1\" class=\"dataframe\">\n",
       "  <thead>\n",
       "    <tr style=\"text-align: left;\">\n",
       "      <th>epoch</th>\n",
       "      <th>train_loss</th>\n",
       "      <th>valid_loss</th>\n",
       "      <th>time</th>\n",
       "    </tr>\n",
       "  </thead>\n",
       "  <tbody>\n",
       "  </tbody>\n",
       "</table>"
      ],
      "text/plain": [
       "<IPython.core.display.HTML object>"
      ]
     },
     "metadata": {},
     "output_type": "display_data"
    }
   ],
   "source": [
    "iters = 20\n",
    "epochs = [10, 20, 20]\n",
    "lrs = [1e-2, 5e-3, 1e-3]\n",
    "\n",
    "def noop(*args): pass\n",
    "logger = learner.recorder.logger\n",
    "learner.recorder.logger = noop\n",
    "learner.unfreeze_params()\n",
    "results = []\n",
    "for i in range(iters):\n",
    "    print(f\"Starting iter {i + 1}/{iters}\")\n",
    "    learner.reset_parameters()\n",
    "    for e_n, e_lr in zip(epochs, lrs):\n",
    "        learner.fit(e_n, e_lr)\n",
    "    p_vals = {(n, learner.get_param_value(n).item()) for n in learner.model.param_names}\n",
    "    results.append({\n",
    "        \"param_values\": p_vals,\n",
    "        \"loss_at_end\": learner.recorder.losses[-1].item(),\n",
    "        \"img\": learner.render_letter(\"A\", scale=5)\n",
    "        })\n",
    "learner.recorder.logger = logger"
   ]
  },
  {
   "cell_type": "markdown",
   "metadata": {},
   "source": [
    "Looking at the results we see that there is some convergence. The results might've been different if the training times were longer."
   ]
  },
  {
   "cell_type": "code",
   "execution_count": 40,
   "metadata": {},
   "outputs": [
    {
     "name": "stdout",
     "output_type": "stream",
     "text": [
      "Loss min 2.340656042098999 •  max 3.3073525428771973 • sd 0.2792788635087357\n"
     ]
    },
    {
     "data": {
      "image/png": "[encoded data removed]",
      "text/plain": [
       "<PIL.Image.Image image mode=RGB size=560x700 at 0x12CBC2F70>"
      ]
     },
     "execution_count": 40,
     "metadata": {},
     "output_type": "execute_result"
    }
   ],
   "source": [
    "results.sort(key=lambda x: x[\"loss_at_end\"])\n",
    "losses = [x[\"loss_at_end\"] for x in results]\n",
    "imgs = [x[\"img\"] for x in results]\n",
    "print(f\"Loss min {min(losses)} •  max {max(losses)} • sd {statistics.stdev(losses)}\")\n",
    "image_grid(imgs)"
   ]
  },
  {
   "cell_type": "markdown",
   "metadata": {},
   "source": [
    "The best exemplars actually have very low losses. Let's compare those with the ones we produced with naïve optimisation."
   ]
  },
  {
   "cell_type": "code",
   "execution_count": 48,
   "metadata": {},
   "outputs": [
    {
     "data": {
      "text/html": [
       "<div>\n",
       "<style scoped>\n",
       "    .dataframe tbody tr th:only-of-type {\n",
       "        vertical-align: middle;\n",
       "    }\n",
       "\n",
       "    .dataframe tbody tr th {\n",
       "        vertical-align: top;\n",
       "    }\n",
       "\n",
       "    .dataframe thead th {\n",
       "        text-align: right;\n",
       "    }\n",
       "</style>\n",
       "<table border=\"1\" class=\"dataframe\">\n",
       "  <thead>\n",
       "    <tr style=\"text-align: right;\">\n",
       "      <th></th>\n",
       "      <th>Min loss</th>\n",
       "      <th>Max loss</th>\n",
       "      <th>Loss SD</th>\n",
       "    </tr>\n",
       "  </thead>\n",
       "  <tbody>\n",
       "    <tr>\n",
       "      <th>SGD</th>\n",
       "      <td>2.340656</td>\n",
       "      <td>3.307353</td>\n",
       "      <td>0.279279</td>\n",
       "    </tr>\n",
       "    <tr>\n",
       "      <th>Naïve</th>\n",
       "      <td>2.340788</td>\n",
       "      <td>2.989603</td>\n",
       "      <td>0.168784</td>\n",
       "    </tr>\n",
       "  </tbody>\n",
       "</table>\n",
       "</div>"
      ],
      "text/plain": [
       "       Min loss  Max loss   Loss SD\n",
       "SGD    2.340656  3.307353  0.279279\n",
       "Naïve  2.340788  2.989603  0.168784"
      ]
     },
     "execution_count": 48,
     "metadata": {},
     "output_type": "execute_result"
    }
   ],
   "source": [
    "naive_results = pickle.load(open(\"results/test_6_letter_A_all_params/all_res_2.pkl\", \"rb\"))\n",
    "naive_losses = [x[-1][\"loss_at_end\"] for x in naive_results]\n",
    "loss_stats = DataFrame(\n",
    "    [[min(x), max(x), statistics.stdev(x)] for x in [losses, naive_losses]],\n",
    "    columns=[\"Min loss\", \"Max loss\", \"Loss SD\"],\n",
    "    index=[\"SGD\", \"Naïve\"]\n",
    "    )\n",
    "loss_stats"
   ]
  },
  {
   "cell_type": "markdown",
   "metadata": {},
   "source": [
    "### 3. The letter A, repeated optimisation of single parameters"
   ]
  },
  {
   "cell_type": "code",
   "execution_count": 55,
   "metadata": {},
   "outputs": [
    {
     "data": {
      "image/png": "[encoded data removed]",
      "text/plain": [
       "<PIL.Image.Image image mode=RGB size=140x140 at 0x13BD00BE0>"
      ]
     },
     "execution_count": 55,
     "metadata": {},
     "output_type": "execute_result"
    }
   ],
   "source": [
    "# learn = None\n",
    "vector_learner = None\n",
    "gc.collect()\n",
    "\n",
    "if 'ocr_learner' not in locals() or ocr_learner is None:\n",
    "    ocr_learner = get_ocr_learner_2(arch=kaggle_cnn_a_with_res, \n",
    "                              df=get_combined_az_and_tmnist_df, \n",
    "                              load_saved=True)\n",
    "\n",
    "cb = DebugCB(vocal=False)\n",
    "learner, _ = create_vector_learner(cbs=cb,\n",
    "                                   folder=\"results/test_6_letter_A_all_params\",\n",
    "                                   ocr_learner=ocr_learner,\n",
    "                                   n_colors_out=1,\n",
    "                                   normalise=False,\n",
    "                                   lr=1e-2, \n",
    "                                   debug=False,\n",
    "                                   init_range=1., # Use smaller range to get values closer to mean\n",
    "                                   seed=42)\n",
    "\n",
    "learner.render_letter(\"A\", scale=5)"
   ]
  },
  {
   "cell_type": "markdown",
   "metadata": {},
   "source": [
    "Above, we see the starting letter created with the same seed as in the previous tests. Now, let's do a few iterations over the parameters and optimise the one by one."
   ]
  },
  {
   "cell_type": "code",
   "execution_count": 71,
   "metadata": {},
   "outputs": [
    {
     "name": "stdout",
     "output_type": "stream",
     "text": [
      "Epoch 0 • Loss 2.346042046180138 (values applied immediately)\n"
     ]
    },
    {
     "data": {
      "image/png": "[encoded data removed]",
      "text/plain": [
       "<PIL.Image.Image image mode=RGB size=140x140 at 0x13E4518E0>"
      ]
     },
     "metadata": {},
     "output_type": "display_data"
    },
    {
     "name": "stdout",
     "output_type": "stream",
     "text": [
      "Epoch 1 • Loss 2.3435455285585842 (values applied immediately)\n"
     ]
    },
    {
     "data": {
      "image/png": "[encoded data removed]",
      "text/plain": [
       "<PIL.Image.Image image mode=RGB size=140x140 at 0x13E7DADF0>"
      ]
     },
     "metadata": {},
     "output_type": "display_data"
    },
    {
     "name": "stdout",
     "output_type": "stream",
     "text": [
      "Epoch 2 • Loss 2.346761263333834 (values applied immediately)\n"
     ]
    },
    {
     "data": {
      "image/png": "[encoded data removed]",
      "text/plain": [
       "<PIL.Image.Image image mode=RGB size=140x140 at 0x13D7412B0>"
      ]
     },
     "metadata": {},
     "output_type": "display_data"
    },
    {
     "name": "stdout",
     "output_type": "stream",
     "text": [
      "Epoch 3 • Loss 2.3448876234201284 (values applied immediately)\n"
     ]
    },
    {
     "data": {
      "image/png": "[encoded data removed]",
      "text/plain": [
       "<PIL.Image.Image image mode=RGB size=140x140 at 0x13E7E4D00>"
      ]
     },
     "metadata": {},
     "output_type": "display_data"
    },
    {
     "name": "stdout",
     "output_type": "stream",
     "text": [
      "Epoch 4 • Loss 2.3490453316615176 (values applied immediately)\n"
     ]
    },
    {
     "data": {
      "image/png": "[encoded data removed]",
      "text/plain": [
       "<PIL.Image.Image image mode=RGB size=140x140 at 0x13E8788E0>"
      ]
     },
     "metadata": {},
     "output_type": "display_data"
    }
   ],
   "source": [
    "res = fit_pvals_naively(learner, epochs=5)\n",
    "for e in res:\n",
    "    print(e[\"info\"])\n",
    "    display(e[\"img\"])"
   ]
  },
  {
   "cell_type": "markdown",
   "metadata": {},
   "source": [
    "Let's now check what effect the initial conditions i.e. param values play by creating a few iterations of the process."
   ]
  },
  {
   "cell_type": "code",
   "execution_count": 72,
   "metadata": {},
   "outputs": [
    {
     "name": "stdout",
     "output_type": "stream",
     "text": [
      "Iteration 0 • Loss 2.3678323305570164\n"
     ]
    },
    {
     "data": {
      "image/png": "[encoded data removed]",
      "text/plain": [
       "<PIL.Image.Image image mode=RGB size=140x140 at 0x13EAE3220>"
      ]
     },
     "metadata": {},
     "output_type": "display_data"
    },
    {
     "data": {
      "image/png": "[encoded data removed]",
      "text/plain": [
       "<PIL.Image.Image image mode=RGB size=140x140 at 0x13E7467C0>"
      ]
     },
     "metadata": {},
     "output_type": "display_data"
    },
    {
     "name": "stdout",
     "output_type": "stream",
     "text": [
      "Iteration 1 • Loss 2.354859077013456\n"
     ]
    },
    {
     "data": {
      "image/png": "[encoded data removed]",
      "text/plain": [
       "<PIL.Image.Image image mode=RGB size=140x140 at 0x13D7412B0>"
      ]
     },
     "metadata": {},
     "output_type": "display_data"
    },
    {
     "data": {
      "image/png": "[encoded data removed]",
      "text/plain": [
       "<PIL.Image.Image image mode=RGB size=140x140 at 0x13E7FC2B0>"
      ]
     },
     "metadata": {},
     "output_type": "display_data"
    },
    {
     "name": "stdout",
     "output_type": "stream",
     "text": [
      "Iteration 2 • Loss 2.9925346557910624\n"
     ]
    },
    {
     "data": {
      "image/png": "[encoded data removed]",
      "text/plain": [
       "<PIL.Image.Image image mode=RGB size=140x140 at 0x13E799C40>"
      ]
     },
     "metadata": {},
     "output_type": "display_data"
    },
    {
     "data": {
      "image/png": "[encoded data removed]",
      "text/plain": [
       "<PIL.Image.Image image mode=RGB size=140x140 at 0x13ECCA970>"
      ]
     },
     "metadata": {},
     "output_type": "display_data"
    },
    {
     "name": "stdout",
     "output_type": "stream",
     "text": [
      "Iteration 3 • Loss 2.3455508122077355\n"
     ]
    },
    {
     "data": {
      "image/png": "[encoded data removed]",
      "text/plain": [
       "<PIL.Image.Image image mode=RGB size=140x140 at 0x13ED4AF70>"
      ]
     },
     "metadata": {},
     "output_type": "display_data"
    },
    {
     "data": {
      "image/png": "[encoded data removed]",
      "text/plain": [
       "<PIL.Image.Image image mode=RGB size=140x140 at 0x13EEAFD00>"
      ]
     },
     "metadata": {},
     "output_type": "display_data"
    },
    {
     "name": "stdout",
     "output_type": "stream",
     "text": [
      "Iteration 4 • Loss 2.3507348207327037\n"
     ]
    },
    {
     "data": {
      "image/png": "[encoded data removed]",
      "text/plain": [
       "<PIL.Image.Image image mode=RGB size=140x140 at 0x13EEB3C70>"
      ]
     },
     "metadata": {},
     "output_type": "display_data"
    },
    {
     "data": {
      "image/png": "[encoded data removed]",
      "text/plain": [
       "<PIL.Image.Image image mode=RGB size=140x140 at 0x13F040520>"
      ]
     },
     "metadata": {},
     "output_type": "display_data"
    },
    {
     "name": "stdout",
     "output_type": "stream",
     "text": [
      "Iteration 5 • Loss 2.3629362399761495\n"
     ]
    },
    {
     "data": {
      "image/png": "[encoded data removed]",
      "text/plain": [
       "<PIL.Image.Image image mode=RGB size=140x140 at 0x13F034610>"
      ]
     },
     "metadata": {},
     "output_type": "display_data"
    },
    {
     "data": {
      "image/png": "[encoded data removed]",
      "text/plain": [
       "<PIL.Image.Image image mode=RGB size=140x140 at 0x13F1FD8B0>"
      ]
     },
     "metadata": {},
     "output_type": "display_data"
    },
    {
     "name": "stdout",
     "output_type": "stream",
     "text": [
      "Iteration 6 • Loss 2.3461852073669434\n"
     ]
    },
    {
     "data": {
      "image/png": "[encoded data removed]",
      "text/plain": [
       "<PIL.Image.Image image mode=RGB size=140x140 at 0x13EEE0670>"
      ]
     },
     "metadata": {},
     "output_type": "display_data"
    },
    {
     "data": {
      "image/png": "[encoded data removed]",
      "text/plain": [
       "<PIL.Image.Image image mode=RGB size=140x140 at 0x13F334D30>"
      ]
     },
     "metadata": {},
     "output_type": "display_data"
    },
    {
     "name": "stdout",
     "output_type": "stream",
     "text": [
      "Iteration 7 • Loss 2.3491265223576474\n"
     ]
    },
    {
     "data": {
      "image/png": "[encoded data removed]",
      "text/plain": [
       "<PIL.Image.Image image mode=RGB size=140x140 at 0x13F0E05E0>"
      ]
     },
     "metadata": {},
     "output_type": "display_data"
    },
    {
     "data": {
      "image/png": "[encoded data removed]",
      "text/plain": [
       "<PIL.Image.Image image mode=RGB size=140x140 at 0x13F3EC670>"
      ]
     },
     "metadata": {},
     "output_type": "display_data"
    },
    {
     "name": "stdout",
     "output_type": "stream",
     "text": [
      "Iteration 8 • Loss 2.348211490190946\n"
     ]
    },
    {
     "data": {
      "image/png": "[encoded data removed]",
      "text/plain": [
       "<PIL.Image.Image image mode=RGB size=140x140 at 0x13F4F4EE0>"
      ]
     },
     "metadata": {},
     "output_type": "display_data"
    },
    {
     "data": {
      "image/png": "[encoded data removed]",
      "text/plain": [
       "<PIL.Image.Image image mode=RGB size=140x140 at 0x13F6B0550>"
      ]
     },
     "metadata": {},
     "output_type": "display_data"
    },
    {
     "name": "stdout",
     "output_type": "stream",
     "text": [
      "Iteration 9 • Loss 2.3474069925454946\n"
     ]
    },
    {
     "data": {
      "image/png": "[encoded data removed]",
      "text/plain": [
       "<PIL.Image.Image image mode=RGB size=140x140 at 0x13F6B0700>"
      ]
     },
     "metadata": {},
     "output_type": "display_data"
    },
    {
     "data": {
      "image/png": "[encoded data removed]",
      "text/plain": [
       "<PIL.Image.Image image mode=RGB size=140x140 at 0x13F84F1C0>"
      ]
     },
     "metadata": {},
     "output_type": "display_data"
    }
   ],
   "source": [
    "all_res = reset_params_and_optimise(learner)"
   ]
  },
  {
   "cell_type": "markdown",
   "metadata": {},
   "source": [
    "The results are very interesting displaying a couple of minima they epochs seem to converge on. The results are however not entirely intuitive. Let's plot the final values for the params and see what do they look like."
   ]
  },
  {
   "cell_type": "code",
   "execution_count": 110,
   "metadata": {},
   "outputs": [
    {
     "data": {
      "image/png": "[encoded data removed]",
      "text/plain": [
       "<Figure size 720x720 with 1 Axes>"
      ]
     },
     "metadata": {
      "needs_background": "light"
     },
     "output_type": "display_data"
    }
   ],
   "source": [
    "plot_param_values(learner, all_res)"
   ]
  },
  {
   "cell_type": "markdown",
   "metadata": {},
   "source": [
    "The results are a bit unsubstantive. Let's try once more with a lot more iterations."
   ]
  },
  {
   "cell_type": "code",
   "execution_count": 164,
   "metadata": {},
   "outputs": [
    {
     "data": {
      "image/png": "[encoded data removed]",
      "text/plain": [
       "<Figure size 720x720 with 1 Axes>"
      ]
     },
     "metadata": {
      "needs_background": "light"
     },
     "output_type": "display_data"
    }
   ],
   "source": [
    "# all_res_2, init_imgs_2 = reset_params_and_optimise(learner, n_iters=50, vocal=False)\n",
    "# import pickle\n",
    "# pickle.dump(all_res_2, open(os.path.join(learner.image_saver.folder, \"all_res_2.pkl\"), \"wb\"))\n",
    "plot_param_values(learner, filter_results(all_res_2, sd_dist=.05), vary_marker_size=False)"
   ]
  },
  {
   "cell_type": "code",
   "execution_count": 148,
   "metadata": {},
   "outputs": [
    {
     "data": {
      "image/png": "[encoded data removed]",
      "text/plain": [
       "<PIL.Image.Image image mode=RGB size=560x560 at 0x146CAB250>"
      ]
     },
     "execution_count": 148,
     "metadata": {},
     "output_type": "execute_result"
    }
   ],
   "source": [
    "image_grid(filter_imgs(all_res_2, sd_dist=.05))"
   ]
  },
  {
   "cell_type": "code",
   "execution_count": null,
   "metadata": {},
   "outputs": [],
   "source": [
    "# vector_learner.set_param(param, optimal_pval)\n",
    "# lr = 1e-3\n",
    "# with no_debug(vector_learner): vector_learner.fit(10, lr=lr)\n",
    "# current_pval = vector_learner.model.get_param(param).item()\n",
    "# current_loss = vector_learner.recorder.losses[-1].item()\n",
    "# loss_d = current_loss - min_loss\n",
    "# print(f\"Loss {'WORSE ' if loss_d > 0. else 'better'}   by {loss_d}\")\n",
    "# print(f\"Param changed by {current_pval - optimal_pval} ({param})\")\n",
    "# vector_learner.render_letter(\"A\", scale=5)"
   ]
  },
  {
   "cell_type": "markdown",
   "metadata": {},
   "source": [
    "### 2. The letter A, optimising all params one-by-one"
   ]
  },
  {
   "cell_type": "code",
   "execution_count": 29,
   "metadata": {},
   "outputs": [
    {
     "data": {
      "image/png": "[encoded data removed]",
      "text/plain": [
       "<PIL.Image.Image image mode=RGB size=140x140 at 0x13E0A05E0>"
      ]
     },
     "execution_count": 29,
     "metadata": {},
     "output_type": "execute_result"
    }
   ],
   "source": [
    "# learn = None\n",
    "vector_learner = None\n",
    "gc.collect()\n",
    "\n",
    "if 'ocr_learner' not in locals() or ocr_learner is None:\n",
    "    ocr_learner = get_ocr_learner_2(arch=kaggle_cnn_a_with_res, \n",
    "                              df=get_combined_az_and_tmnist_df, \n",
    "                              load_saved=True)\n",
    "\n",
    "cb = DebugCB(vocal=False)\n",
    "learner, _ = create_vector_learner(cbs=cb,\n",
    "                                   folder=\"results/test_6_letter_A_all_params\",\n",
    "                                   ocr_learner=ocr_learner,\n",
    "                                   n_colors_out=1,\n",
    "                                   normalise=False,\n",
    "                                   lr=1e-2, \n",
    "                                   debug=False,\n",
    "                                   init_range=1., # Use smaller range to get values closer to mean\n",
    "                                   seed=42)\n",
    "\n",
    "learner.render_letter(\"A\", scale=5)"
   ]
  },
  {
   "cell_type": "code",
   "execution_count": 30,
   "metadata": {},
   "outputs": [
    {
     "name": "stdout",
     "output_type": "stream",
     "text": [
      "Optimising param Height\n",
      "Optimising param Slant\n",
      "Optimising param Midline\n",
      "Optimising param Width, AV\n",
      "Optimising param Offset xp from symmetry, AXZ\n",
      "Optimising param Overshoot, AMNVW\n",
      "Optimising param Crossbar y offset, A\n",
      "Optimising param Stroke width\n"
     ]
    },
    {
     "data": {
      "image/png": "[encoded data removed]",
      "text/plain": [
       "<PIL.Image.Image image mode=RGB size=140x140 at 0x13B751DF0>"
      ]
     },
     "execution_count": 30,
     "metadata": {},
     "output_type": "execute_result"
    }
   ],
   "source": [
    "p_losses = {}\n",
    "opt_pvals = {}\n",
    "for p in learner.params:\n",
    "    name = learner.model.get_param_name(p)\n",
    "    print(f\"Optimising param {name}\")\n",
    "    df = learner.calculate_losses(p, plot=False)\n",
    "    opt_pval = get_argmin(df)\n",
    "    # min_loss = df.loss.min()\n",
    "    p_losses[name] = df\n",
    "    opt_pvals[name] = opt_pval\n",
    "    learner.set_param(p, opt_pval)\n",
    "\n",
    "learner.render_letter(\"A\", scale=5)"
   ]
  },
  {
   "cell_type": "markdown",
   "metadata": {},
   "source": [
    "Above, a `smooth_loss_dist` of 3 is applied by default. As we can see from the graphs below, the curves look nicer. Let's also calculate the mean difference between smoothed and original losses. As we've noted earlier in the case with the unimplemented Slant parameter, there seems to be a random fluctuation in the loss of magnitude 0.04."
   ]
  },
  {
   "cell_type": "code",
   "execution_count": 43,
   "metadata": {},
   "outputs": [
    {
     "name": "stdout",
     "output_type": "stream",
     "text": [
      "Median abs difference between smoothed and original losses is 0.007137843540736766\n"
     ]
    },
    {
     "data": {
      "image/png": "[encoded data removed]",
      "text/plain": [
       "<Figure size 432x216 with 2 Axes>"
      ]
     },
     "metadata": {
      "needs_background": "light"
     },
     "output_type": "display_data"
    },
    {
     "data": {
      "image/png": "[encoded data removed]",
      "text/plain": [
       "<Figure size 432x216 with 2 Axes>"
      ]
     },
     "metadata": {
      "needs_background": "light"
     },
     "output_type": "display_data"
    }
   ],
   "source": [
    "def print_median_loss_delta(p_losses, vocal = True):\n",
    "    import statistics\n",
    "    loss_deltas = []\n",
    "    for df in p_losses.values():\n",
    "        ld = abs(df.loss - df.raw_loss)\n",
    "        loss_deltas.append(ld)\n",
    "    ld_median = statistics.median(flatten_list(loss_deltas))\n",
    "    if vocal: print(f\"Median abs difference between smoothed and original losses is {ld_median}\")\n",
    "    return ld_median\n",
    "\n",
    "print_median_loss_delta(p_losses)\n",
    "\n",
    "for i, (p, df) in enumerate(p_losses.items()):\n",
    "    if i == 2: break\n",
    "    plot_param_losses(df, p, zoom_range=.15, plot_width=3)"
   ]
  },
  {
   "cell_type": "markdown",
   "metadata": {},
   "source": [
    "The delta is still a bit small compared to the fluctuation. And we can see from the graph for Slant, above, that the line is not smooth. Let's try to manually try smoothing with different distances."
   ]
  },
  {
   "cell_type": "code",
   "execution_count": 47,
   "metadata": {},
   "outputs": [
    {
     "name": "stdout",
     "output_type": "stream",
     "text": [
      "Smooth distance 2 • Loss delta 0.007128930091857777\n",
      "Smooth distance 3 • Loss delta 0.007137843540736766\n",
      "Smooth distance 4 • Loss delta 0.007713887426588295\n",
      "Smooth distance 5 • Loss delta 0.00826318697495898\n",
      "Smooth distance 6 • Loss delta 0.00904045655177188\n",
      "Smooth distance 7 • Loss delta 0.00938230355580627\n",
      "Smooth distance 8 • Loss delta 0.009855067028718745\n",
      "Smooth distance 9 • Loss delta 0.010477555425543406\n"
     ]
    },
    {
     "data": {
      "image/png": "[encoded data removed]",
      "text/plain": [
       "<Figure size 432x216 with 2 Axes>"
      ]
     },
     "metadata": {
      "needs_background": "light"
     },
     "output_type": "display_data"
    },
    {
     "data": {
      "image/png": "[encoded data removed]",
      "text/plain": [
       "<Figure size 432x216 with 2 Axes>"
      ]
     },
     "metadata": {
      "needs_background": "light"
     },
     "output_type": "display_data"
    },
    {
     "data": {
      "image/png": "[encoded data removed]",
      "text/plain": [
       "<Figure size 432x216 with 2 Axes>"
      ]
     },
     "metadata": {
      "needs_background": "light"
     },
     "output_type": "display_data"
    },
    {
     "data": {
      "image/png": "[encoded data removed]",
      "text/plain": [
       "<Figure size 432x216 with 2 Axes>"
      ]
     },
     "metadata": {
      "needs_background": "light"
     },
     "output_type": "display_data"
    },
    {
     "data": {
      "image/png": "[encoded data removed]",
      "text/plain": [
       "<Figure size 432x216 with 2 Axes>"
      ]
     },
     "metadata": {
      "needs_background": "light"
     },
     "output_type": "display_data"
    },
    {
     "data": {
      "image/png": "[encoded data removed]",
      "text/plain": [
       "<Figure size 432x216 with 2 Axes>"
      ]
     },
     "metadata": {
      "needs_background": "light"
     },
     "output_type": "display_data"
    },
    {
     "data": {
      "image/png": "[encoded data removed]",
      "text/plain": [
       "<Figure size 432x216 with 2 Axes>"
      ]
     },
     "metadata": {
      "needs_background": "light"
     },
     "output_type": "display_data"
    },
    {
     "data": {
      "image/png": "[encoded data removed]",
      "text/plain": [
       "<Figure size 432x216 with 2 Axes>"
      ]
     },
     "metadata": {
      "needs_background": "light"
     },
     "output_type": "display_data"
    }
   ],
   "source": [
    "def smooth_losses(p_losses, dist=3):\n",
    "    for df in p_losses.values(): df.loss = smooth(df.raw_loss, dist=dist)\n",
    "\n",
    "for dist in range(2, 10):\n",
    "    smooth_losses(p_losses, dist)\n",
    "    ld_median = print_median_loss_delta(p_losses, vocal=False)\n",
    "    print(f\"Smooth distance {dist} • Loss delta {ld_median}\")\n",
    "    plot_param_losses(p_losses[\"Slant\"], f\"Slant smoothed at {dist}\", zoom_range=.15, plot_width=3)"
   ]
  },
  {
   "cell_type": "markdown",
   "metadata": {},
   "source": [
    "From the graphs above, it seems picking a smoothing distance of 5 or 6 (with the default of 80 steps in total) might be good."
   ]
  },
  {
   "cell_type": "markdown",
   "metadata": {},
   "source": [
    "### 1. The letter A, optimising Height"
   ]
  },
  {
   "cell_type": "code",
   "execution_count": 365,
   "metadata": {},
   "outputs": [
    {
     "name": "stdout",
     "output_type": "stream",
     "text": [
      "SansSerifFontRL with params:\n",
      "  0 Height: -0.5 (0.40866366028785706)\n",
      "  1 Slant: 1.6600158214569092 (0.6804802417755127) <FROZEN>\n",
      "  2 Midline: -0.46854496002197266 (0.38496071100234985) <FROZEN>\n",
      "  3 Width, AV: 1.5 (0.8266957402229309) <FROZEN>\n",
      "  4 Offset xp from symmetry, AXZ: 1.2000000476837158 (0.13426241278648376) <FROZEN>\n",
      "  5 Overshoot, AMNVW: -0.10000000149011612 (0.0) <FROZEN>\n",
      "  6 Crossbar y offset, A: -0.9737100601196289 (-0.2258583903312683) <FROZEN>\n",
      "  7 Stroke width: -0.6000000238418579 (0.09504248946905136) <FROZEN>\n"
     ]
    },
    {
     "data": {
      "image/png": "[encoded data removed]",
      "text/plain": [
       "<PIL.Image.Image image mode=RGB size=140x140 at 0x156C0B280>"
      ]
     },
     "execution_count": 365,
     "metadata": {},
     "output_type": "execute_result"
    }
   ],
   "source": [
    "# learn = None\n",
    "vector_learner = None\n",
    "gc.collect()\n",
    "\n",
    "if 'learn' not in locals() or learn is None:\n",
    "    learn = get_ocr_learner_2(arch=kaggle_cnn_a_with_res, \n",
    "                              df=get_combined_az_and_tmnist_df, \n",
    "                              load_saved=True)\n",
    "\n",
    "cb = DebugCB(vocal=False)\n",
    "vector_learner, _ = create_vector_learner(cbs=cb,\n",
    "                                        folder=\"results/test_5_whole_font\",\n",
    "                                        ocr_learner=learn,\n",
    "                                        n_colors_out=1,\n",
    "                                        normalise=False,\n",
    "                                        lr=1e-2, \n",
    "                                        debug=False,\n",
    "                                        seed=42)\n",
    "\n",
    "vector_learner.set_param(\"Height\", -.5)\n",
    "vector_learner.set_param(\"Width, AV\", 1.5)\n",
    "vector_learner.set_param(\"Stroke width\", -.6)\n",
    "vector_learner.set_param(\"Offset xp from symmetry, AXZ\", 1.2)\n",
    "vector_learner.set_param(\"Overshoot, AMNVW\", -0.1)\n",
    "vector_learner.freeze_params()\n",
    "vector_learner.unfreeze_params([\"Height\"])\n",
    "print(vector_learner.model)\n",
    "vector_learner.render_letter(\"A\", scale=5)"
   ]
  },
  {
   "cell_type": "code",
   "execution_count": 371,
   "metadata": {},
   "outputs": [
    {
     "data": {
      "text/html": [
       "<div>\n",
       "<style scoped>\n",
       "    .dataframe tbody tr th:only-of-type {\n",
       "        vertical-align: middle;\n",
       "    }\n",
       "\n",
       "    .dataframe tbody tr th {\n",
       "        vertical-align: top;\n",
       "    }\n",
       "\n",
       "    .dataframe thead th {\n",
       "        text-align: right;\n",
       "    }\n",
       "</style>\n",
       "<table border=\"1\" class=\"dataframe\">\n",
       "  <thead>\n",
       "    <tr style=\"text-align: right;\">\n",
       "      <th></th>\n",
       "      <th>value</th>\n",
       "      <th>interpolated_value</th>\n",
       "      <th>loss</th>\n",
       "      <th>pred</th>\n",
       "      <th>pred_correct</th>\n",
       "      <th>pred_activation</th>\n",
       "    </tr>\n",
       "  </thead>\n",
       "  <tbody>\n",
       "    <tr>\n",
       "      <th>19</th>\n",
       "      <td>-0.102564</td>\n",
       "      <td>0.500662</td>\n",
       "      <td>2.345713</td>\n",
       "      <td>A</td>\n",
       "      <td>True</td>\n",
       "      <td>0.974850</td>\n",
       "    </tr>\n",
       "    <tr>\n",
       "      <th>21</th>\n",
       "      <td>0.307692</td>\n",
       "      <td>0.597506</td>\n",
       "      <td>2.348127</td>\n",
       "      <td>A</td>\n",
       "      <td>True</td>\n",
       "      <td>0.972283</td>\n",
       "    </tr>\n",
       "    <tr>\n",
       "      <th>20</th>\n",
       "      <td>0.102564</td>\n",
       "      <td>0.549338</td>\n",
       "      <td>2.356201</td>\n",
       "      <td>A</td>\n",
       "      <td>True</td>\n",
       "      <td>0.963703</td>\n",
       "    </tr>\n",
       "    <tr>\n",
       "      <th>22</th>\n",
       "      <td>0.512821</td>\n",
       "      <td>0.644194</td>\n",
       "      <td>2.363250</td>\n",
       "      <td>A</td>\n",
       "      <td>True</td>\n",
       "      <td>0.956218</td>\n",
       "    </tr>\n",
       "    <tr>\n",
       "      <th>34</th>\n",
       "      <td>2.974359</td>\n",
       "      <td>0.953832</td>\n",
       "      <td>2.367622</td>\n",
       "      <td>A</td>\n",
       "      <td>True</td>\n",
       "      <td>0.951580</td>\n",
       "    </tr>\n",
       "  </tbody>\n",
       "</table>\n",
       "</div>"
      ],
      "text/plain": [
       "       value  interpolated_value      loss pred  pred_correct  pred_activation\n",
       "19 -0.102564            0.500662  2.345713    A          True         0.974850\n",
       "21  0.307692            0.597506  2.348127    A          True         0.972283\n",
       "20  0.102564            0.549338  2.356201    A          True         0.963703\n",
       "22  0.512821            0.644194  2.363250    A          True         0.956218\n",
       "34  2.974359            0.953832  2.367622    A          True         0.951580"
      ]
     },
     "execution_count": 371,
     "metadata": {},
     "output_type": "execute_result"
    },
    {
     "data": {
      "image/png": "[encoded data removed]",
      "text/plain": [
       "<Figure size 864x432 with 2 Axes>"
      ]
     },
     "metadata": {
      "needs_background": "light"
     },
     "output_type": "display_data"
    }
   ],
   "source": [
    "param = \"Height\"\n",
    "df = vector_learner.calculate_losses(param, plot=True)\n",
    "optimal_pval = get_argmin(df)\n",
    "min_loss = df.loss.min()\n",
    "df.sort_values(by=\"loss\").head()"
   ]
  },
  {
   "cell_type": "code",
   "execution_count": 382,
   "metadata": {},
   "outputs": [
    {
     "data": {
      "text/html": [
       "<table border=\"1\" class=\"dataframe\">\n",
       "  <thead>\n",
       "    <tr style=\"text-align: left;\">\n",
       "      <th>epoch</th>\n",
       "      <th>train_loss</th>\n",
       "      <th>valid_loss</th>\n",
       "      <th>time</th>\n",
       "    </tr>\n",
       "  </thead>\n",
       "  <tbody>\n",
       "    <tr>\n",
       "      <td>0</td>\n",
       "      <td>2.348516</td>\n",
       "      <td>2.347574</td>\n",
       "      <td>00:00</td>\n",
       "    </tr>\n",
       "    <tr>\n",
       "      <td>1</td>\n",
       "      <td>2.347515</td>\n",
       "      <td>2.346330</td>\n",
       "      <td>00:00</td>\n",
       "    </tr>\n",
       "    <tr>\n",
       "      <td>2</td>\n",
       "      <td>2.348980</td>\n",
       "      <td>2.350932</td>\n",
       "      <td>00:00</td>\n",
       "    </tr>\n",
       "    <tr>\n",
       "      <td>3</td>\n",
       "      <td>2.348657</td>\n",
       "      <td>2.352312</td>\n",
       "      <td>00:00</td>\n",
       "    </tr>\n",
       "    <tr>\n",
       "      <td>4</td>\n",
       "      <td>2.348347</td>\n",
       "      <td>2.348695</td>\n",
       "      <td>00:00</td>\n",
       "    </tr>\n",
       "    <tr>\n",
       "      <td>5</td>\n",
       "      <td>2.348819</td>\n",
       "      <td>2.348840</td>\n",
       "      <td>00:00</td>\n",
       "    </tr>\n",
       "    <tr>\n",
       "      <td>6</td>\n",
       "      <td>2.348960</td>\n",
       "      <td>2.351119</td>\n",
       "      <td>00:00</td>\n",
       "    </tr>\n",
       "    <tr>\n",
       "      <td>7</td>\n",
       "      <td>2.349397</td>\n",
       "      <td>2.350796</td>\n",
       "      <td>00:00</td>\n",
       "    </tr>\n",
       "    <tr>\n",
       "      <td>8</td>\n",
       "      <td>2.349197</td>\n",
       "      <td>2.347550</td>\n",
       "      <td>00:00</td>\n",
       "    </tr>\n",
       "    <tr>\n",
       "      <td>9</td>\n",
       "      <td>2.348869</td>\n",
       "      <td>2.346332</td>\n",
       "      <td>00:00</td>\n",
       "    </tr>\n",
       "  </tbody>\n",
       "</table>"
      ],
      "text/plain": [
       "<IPython.core.display.HTML object>"
      ]
     },
     "metadata": {},
     "output_type": "display_data"
    },
    {
     "name": "stdout",
     "output_type": "stream",
     "text": [
      "Loss WORSE    by 0.003155946731567383\n",
      "Param changed by 0.02899379149461412 (Height)\n"
     ]
    },
    {
     "data": {
      "image/png": "[encoded data removed]",
      "text/plain": [
       "<PIL.Image.Image image mode=RGB size=140x140 at 0x1574693A0>"
      ]
     },
     "execution_count": 382,
     "metadata": {},
     "output_type": "execute_result"
    }
   ],
   "source": [
    "\n",
    "vector_learner.set_param(param, optimal_pval)\n",
    "lr = 1e-3\n",
    "with no_debug(vector_learner): vector_learner.fit(10, lr=lr)\n",
    "current_pval = vector_learner.model.get_param(param).item()\n",
    "current_loss = vector_learner.recorder.losses[-1].item()\n",
    "loss_d = current_loss - min_loss\n",
    "print(f\"Loss {'WORSE ' if loss_d > 0. else 'better'}   by {loss_d}\")\n",
    "print(f\"Param changed by {current_pval - optimal_pval} ({param})\")\n",
    "vector_learner.render_letter(\"A\", scale=5)"
   ]
  },
  {
   "cell_type": "markdown",
   "metadata": {},
   "source": [
    "## Export"
   ]
  },
  {
   "cell_type": "code",
   "execution_count": 5,
   "metadata": {},
   "outputs": [
    {
     "name": "stdout",
     "output_type": "stream",
     "text": [
      "Converted 00_core.ipynb.\n",
      "Converted 01_fontsampler.ipynb.\n",
      "Converted 02_ocrlearner.ipynb.\n",
      "Converted 03_fontlearner.ipynb.\n",
      "Converted index.ipynb.\n"
     ]
    }
   ],
   "source": [
    "#hide\n",
    "from nbdev.export import notebook2script; notebook2script()"
   ]
  },
  {
   "cell_type": "code",
   "execution_count": null,
   "metadata": {},
   "outputs": [],
   "source": []
  }
 ],
 "metadata": {
  "interpreter": {
   "hash": "5710b12fb88680bf60c169aecc91e9487b0350ee3a6536206b6750ffeed12b61"
  },
  "kernelspec": {
   "display_name": "Python 3.9.12 ('ai-font-p3.9')",
   "language": "python",
   "name": "python3"
  },
  "language_info": {
   "codemirror_mode": {
    "name": "ipython",
    "version": 3
   },
   "file_extension": ".py",
   "mimetype": "text/x-python",
   "name": "python",
   "nbconvert_exporter": "python",
   "pygments_lexer": "ipython3",
   "version": "3.9.12"
  }
 },
 "nbformat": 4,
 "nbformat_minor": 2
}
