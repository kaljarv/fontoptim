{
 "cells": [
  {
   "cell_type": "code",
   "execution_count": null,
   "metadata": {},
   "outputs": [],
   "source": [
    "#hide\n",
    "from aifont.core import *"
   ]
  },
  {
   "cell_type": "markdown",
   "metadata": {},
   "source": [
    "# Aifont\n",
    "\n",
    "> Using Biologically-Informed Artificial Neural Networks to Automatically Optimise Font Parameters for Legibility."
   ]
  },
  {
   "cell_type": "markdown",
   "metadata": {},
   "source": [
    "This file will become your README and also the index of your documentation."
   ]
  },
  {
   "cell_type": "markdown",
   "metadata": {},
   "source": [
    "## Install"
   ]
  },
  {
   "cell_type": "markdown",
   "metadata": {},
   "source": [
    "Dependencies:\n",
    "* [fastai](https://docs.fast.ai/#Installing) \n",
    "  * Use -c fastchan\n",
    "  * pytorch 1.10.0\n",
    "  * torchvision 0.11.1\n",
    "* [diffvg](https://github.com/BachiLi/diffvg)\n",
    "  * pytorch torchvision -c pytorch\n",
    "  * numpy\n",
    "  * scikit-image\n",
    "  * -c anaconda cmake\n",
    "  * -c conda-forge ffmpeg\n",
    "* [Google Fonts](https://github.com/google/fonts)\n",
    "  * `ofl` folder from the repo needed for `FontSampler`\n",
    "  * If the annotation database is updated, a Google Fonts API key is also needed. See: https://erraticgenerator.com/blog/use-google-fonts-for-machine-learning-part1/\n",
    "\n",
    "Not available yet!\n",
    "`pip install your_project_name`"
   ]
  },
  {
   "cell_type": "markdown",
   "metadata": {},
   "source": [
    "## How to use"
   ]
  },
  {
   "cell_type": "markdown",
   "metadata": {},
   "source": [
    "TBA"
   ]
  },
  {
   "cell_type": "code",
   "execution_count": null,
   "metadata": {},
   "outputs": [
    {
     "data": {
      "text/plain": [
       "'Hello Kaljarv!'"
      ]
     },
     "execution_count": null,
     "metadata": {},
     "output_type": "execute_result"
    }
   ],
   "source": [
    "say_hello(\"Kaljarv\")"
   ]
  },
  {
   "cell_type": "code",
   "execution_count": null,
   "metadata": {},
   "outputs": [],
   "source": []
  }
 ],
 "metadata": {
  "kernelspec": {
   "display_name": "Python 3",
   "language": "python",
   "name": "python3"
  }
 },
 "nbformat": 4,
 "nbformat_minor": 2
}
