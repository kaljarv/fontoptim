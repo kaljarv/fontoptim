{
 "cells": [
  {
   "cell_type": "code",
   "execution_count": 7,
   "metadata": {},
   "outputs": [
    {
     "name": "stdout",
     "output_type": "stream",
     "text": [
      "The autoreload extension is already loaded. To reload it, use:\n",
      "  %reload_ext autoreload\n"
     ]
    }
   ],
   "source": [
    "%load_ext autoreload\n",
    "%autoreload 2"
   ]
  },
  {
   "cell_type": "code",
   "execution_count": 8,
   "metadata": {},
   "outputs": [
    {
     "ename": "ImportError",
     "evalue": "cannot import name 'Path' from 'posixpath' (/Users/kallejarvenpaa/opt/miniconda3/envs/ai-font-p3.9/lib/python3.9/posixpath.py)",
     "output_type": "error",
     "traceback": [
      "\u001b[0;31m---------------------------------------------------------------------------\u001b[0m",
      "\u001b[0;31mImportError\u001b[0m                               Traceback (most recent call last)",
      "\u001b[1;32m/Users/kallejarvenpaa/Desktop/AI-fontti/aifont/index.ipynb Cell 2'\u001b[0m in \u001b[0;36m<cell line: 3>\u001b[0;34m()\u001b[0m\n\u001b[1;32m      <a href='vscode-notebook-cell:/Users/kallejarvenpaa/Desktop/AI-fontti/aifont/index.ipynb#ch0000000?line=0'>1</a>\u001b[0m \u001b[39m#hide\u001b[39;00m\n\u001b[1;32m      <a href='vscode-notebook-cell:/Users/kallejarvenpaa/Desktop/AI-fontti/aifont/index.ipynb#ch0000000?line=1'>2</a>\u001b[0m \u001b[39mfrom\u001b[39;00m \u001b[39maifont\u001b[39;00m\u001b[39m.\u001b[39;00m\u001b[39mcore\u001b[39;00m \u001b[39mimport\u001b[39;00m \u001b[39m*\u001b[39m\n\u001b[0;32m----> <a href='vscode-notebook-cell:/Users/kallejarvenpaa/Desktop/AI-fontti/aifont/index.ipynb#ch0000000?line=2'>3</a>\u001b[0m \u001b[39mfrom\u001b[39;00m \u001b[39maifont\u001b[39;00m\u001b[39m.\u001b[39;00m\u001b[39mfontsampler\u001b[39;00m \u001b[39mimport\u001b[39;00m \u001b[39m*\u001b[39m\n\u001b[1;32m      <a href='vscode-notebook-cell:/Users/kallejarvenpaa/Desktop/AI-fontti/aifont/index.ipynb#ch0000000?line=3'>4</a>\u001b[0m \u001b[39mfrom\u001b[39;00m \u001b[39maifont\u001b[39;00m\u001b[39m.\u001b[39;00m\u001b[39mocrlearner\u001b[39;00m \u001b[39mimport\u001b[39;00m \u001b[39m*\u001b[39m\n\u001b[1;32m      <a href='vscode-notebook-cell:/Users/kallejarvenpaa/Desktop/AI-fontti/aifont/index.ipynb#ch0000000?line=4'>5</a>\u001b[0m \u001b[39mfrom\u001b[39;00m \u001b[39maifont\u001b[39;00m\u001b[39m.\u001b[39;00m\u001b[39mfontlearner\u001b[39;00m \u001b[39mimport\u001b[39;00m \u001b[39m*\u001b[39m\n",
      "File \u001b[0;32m~/Desktop/AI-fontti/aifont/aifont/fontsampler.py:9\u001b[0m, in \u001b[0;36m<module>\u001b[0;34m\u001b[0m\n\u001b[1;32m      <a href='file:///Users/kallejarvenpaa/Desktop/AI-fontti/aifont/aifont/fontsampler.py?line=6'>7</a>\u001b[0m \u001b[39mimport\u001b[39;00m \u001b[39mnumpy\u001b[39;00m \u001b[39mas\u001b[39;00m \u001b[39mnp\u001b[39;00m\n\u001b[1;32m      <a href='file:///Users/kallejarvenpaa/Desktop/AI-fontti/aifont/aifont/fontsampler.py?line=7'>8</a>\u001b[0m \u001b[39mimport\u001b[39;00m \u001b[39mpandas\u001b[39;00m \u001b[39mas\u001b[39;00m \u001b[39mpd\u001b[39;00m\n\u001b[0;32m----> <a href='file:///Users/kallejarvenpaa/Desktop/AI-fontti/aifont/aifont/fontsampler.py?line=8'>9</a>\u001b[0m \u001b[39mfrom\u001b[39;00m \u001b[39mos\u001b[39;00m\u001b[39m.\u001b[39;00m\u001b[39mpath\u001b[39;00m \u001b[39mimport\u001b[39;00m basename, Path\n\u001b[1;32m     <a href='file:///Users/kallejarvenpaa/Desktop/AI-fontti/aifont/aifont/fontsampler.py?line=9'>10</a>\u001b[0m \u001b[39mfrom\u001b[39;00m \u001b[39mPIL\u001b[39;00m \u001b[39mimport\u001b[39;00m Image, ImageDraw, ImageFont\n\u001b[1;32m     <a href='file:///Users/kallejarvenpaa/Desktop/AI-fontti/aifont/aifont/fontsampler.py?line=10'>11</a>\u001b[0m \u001b[39mimport\u001b[39;00m \u001b[39mrandom\u001b[39;00m\n",
      "\u001b[0;31mImportError\u001b[0m: cannot import name 'Path' from 'posixpath' (/Users/kallejarvenpaa/opt/miniconda3/envs/ai-font-p3.9/lib/python3.9/posixpath.py)"
     ]
    }
   ],
   "source": [
    "#hide\n",
    "from aifont.core import *\n",
    "from aifont.fontsampler import *\n",
    "from aifont.ocrlearner import *\n",
    "from aifont.fontlearner import *"
   ]
  },
  {
   "cell_type": "markdown",
   "metadata": {},
   "source": [
    "# Aifont\n",
    "\n",
    "> Repo related to my MA Thesis \"Using Biologically-Informed Artificial Neural Networks to Automatically Optimise Font Parameters for Legibility\" that is currently under construction."
   ]
  },
  {
   "cell_type": "markdown",
   "metadata": {},
   "source": [
    "## Install"
   ]
  },
  {
   "cell_type": "markdown",
   "metadata": {},
   "source": [
    "Dependencies:\n",
    "* [fastai](https://docs.fast.ai/#Installing) \n",
    "  * Use -c fastchan\n",
    "  * pytorch 1.10.0\n",
    "  * torchvision 0.11.1\n",
    "* [diffvg](https://github.com/BachiLi/diffvg)\n",
    "  * pytorch torchvision -c pytorch\n",
    "  * numpy\n",
    "  * scikit-image\n",
    "  * -c anaconda cmake\n",
    "  * -c conda-forge ffmpeg\n",
    "* [Google Fonts](https://github.com/google/fonts)\n",
    "  * `ofl` folder from the repo needed for `FontSampler`\n",
    "  * If the annotation database is updated, a Google Fonts API key is also needed. See: https://erraticgenerator.com/blog/use-google-fonts-for-machine-learning-part1/\n",
    "\n",
    "Not available yet!\n",
    "`pip install your_project_name`"
   ]
  },
  {
   "cell_type": "markdown",
   "metadata": {},
   "source": [
    "## How to use"
   ]
  },
  {
   "cell_type": "markdown",
   "metadata": {},
   "source": [
    "TBA"
   ]
  }
 ],
 "metadata": {
  "interpreter": {
   "hash": "5710b12fb88680bf60c169aecc91e9487b0350ee3a6536206b6750ffeed12b61"
  },
  "kernelspec": {
   "display_name": "Python 3.9.12 ('ai-font-p3.9')",
   "language": "python",
   "name": "python3"
  },
  "language_info": {
   "codemirror_mode": {
    "name": "ipython",
    "version": 3
   },
   "file_extension": ".py",
   "mimetype": "text/x-python",
   "name": "python",
   "nbconvert_exporter": "python",
   "pygments_lexer": "ipython3",
   "version": "3.9.12"
  }
 },
 "nbformat": 4,
 "nbformat_minor": 2
}
