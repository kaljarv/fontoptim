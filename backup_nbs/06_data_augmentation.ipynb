{
 "cells": [
  {
   "cell_type": "code",
   "execution_count": 219,
   "metadata": {},
   "outputs": [
    {
     "name": "stdout",
     "output_type": "stream",
     "text": [
      "The autoreload extension is already loaded. To reload it, use:\n",
      "  %reload_ext autoreload\n"
     ]
    }
   ],
   "source": [
    "# default_exp data_augmentation\n",
    "%load_ext autoreload\n",
    "%autoreload 2"
   ]
  },
  {
   "cell_type": "markdown",
   "metadata": {},
   "source": [
    "# Augmenting OCR and VectorLearner Data\n",
    "\n",
    "> Add noise and other effects to make the OCR model more robust. The augmentation should be differentiably applicable to outputs from `VectorLearner` as well."
   ]
  },
  {
   "cell_type": "code",
   "execution_count": 220,
   "metadata": {},
   "outputs": [],
   "source": [
    "#export\n",
    "from aifont.core import *\n",
    "from aifont.fontlearner import *\n",
    "from aifont.ocrlearner import *\n",
    "from collections import OrderedDict\n",
    "from enum import Enum, auto\n",
    "from fastai.data.all import *\n",
    "from fastai.vision.all import *\n",
    "import gc\n",
    "from itertools import product\n",
    "from nbdev.showdoc import *\n",
    "from pandas import DataFrame\n",
    "import pydiffvg\n",
    "import torch\n",
    "import torchvision.transforms.functional as VF\n",
    "import torchvision.transforms as VT\n",
    "from typing import Callable, List, Protocol, Tuple, Union"
   ]
  },
  {
   "cell_type": "markdown",
   "metadata": {},
   "source": [
    "## Utilities"
   ]
  },
  {
   "cell_type": "code",
   "execution_count": 221,
   "metadata": {},
   "outputs": [],
   "source": [
    "#export\n",
    "\n",
    "def create_font_learner(\n",
    "    ocr_model = None, \n",
    "    ocr_learner = None, \n",
    "    vocab = VOCAB_UC,\n",
    "    letters = None,\n",
    "    folder = None, \n",
    "    normalise = False, \n",
    "    epoch_len = 1,\n",
    "    vector_class = SansSerifFontRL, \n",
    "    input_shape = None, \n",
    "    n_colors_out = 1, \n",
    "    eps = None, \n",
    "    lr = 1e-2, \n",
    "    debug = False, \n",
    "    cbs = None, \n",
    "    seed = None, \n",
    "    init_range = 2.,\n",
    "    samples = None,\n",
    "    bs = None,\n",
    "    ) -> VectorLearner:\n",
    "    \"\"\"A factory function for creating a `VectorLearner` for full font optimisation.\"\"\"\n",
    "\n",
    "    if eps is not None: warn(f\"Using eps {eps}\")\n",
    "    if ocr_model is not None and input_shape is None:\n",
    "        input_shape = (28,28)\n",
    "        warn(f\"Using default input_shape: {input_shape}\")\n",
    "    \n",
    "    if ocr_model is None: ocr_model = ocr_learner.model\n",
    "    if vocab is None: vocab = get_vocab(ocr_learner)\n",
    "\n",
    "    raster_norm = ocr_learner.dls.train.after_batch[1] if normalise else None\n",
    "\n",
    "    if input_shape is None:\n",
    "        ocr_img = ocr_learner.dls.train_ds[0][0]\n",
    "        canvas_width = ocr_img.width\n",
    "        canvas_height = ocr_img.height\n",
    "    else: canvas_width, canvas_height = input_shape\n",
    "\n",
    "    def get_dl(): return LetterDL.from_vocab(vocab, epoch_len=epoch_len, bs=bs) if letters is None else \\\n",
    "                         LetterDL(vocab=vocab, letters=letters, epoch_len=epoch_len, bs=bs)\n",
    "    dls = DataLoaders(get_dl(), get_dl())\n",
    "\n",
    "    image_saver = ImageSaver(folder=folder) if folder is not None else None\n",
    "    render_layer = vector_class(vocab=vocab,\n",
    "                                raster_norm=raster_norm, \n",
    "                                rendered_callback=image_saver,\n",
    "                                canvas_width=canvas_width, \n",
    "                                canvas_height=canvas_height,\n",
    "                                n_colors_out=n_colors_out,\n",
    "                                seed=seed,\n",
    "                                eps=eps,\n",
    "                                init_range=init_range,\n",
    "                                samples=samples)\n",
    "    if debug: render_layer.debug = debug\n",
    "    font_model = render_layer\n",
    "\n",
    "    # Params will be added by Learner\n",
    "    get_optim = partial(Adam, lr=lr,\n",
    "                              mom=.5,\n",
    "                              sqr_mom=.9,\n",
    "                              wd=0.) # NB. Eps can be also modified\n",
    "\n",
    "    loss = OCRAndParamLoss(ocr_model=ocr_model,\n",
    "                           vector_model=render_layer,\n",
    "                           debug=debug)\n",
    "\n",
    "    vector_learner = VectorLearner(dls=dls,\n",
    "                                   model=font_model,\n",
    "                                   loss_func=loss,\n",
    "                                   opt_func=get_optim,\n",
    "                                   cbs=cbs,\n",
    "                                   image_saver=image_saver)\n",
    "\n",
    "    return vector_learner\n",
    "\n",
    "def get_learner(seed=42, **kwargs):\n",
    "    gc.collect()\n",
    "    if 'ocr_model' not in locals() or ocr_model is None:\n",
    "        ocr_model = load_ocr_model(arch=kaggle_cnn_a_with_res, \n",
    "                                   df=get_combined_az_and_tmnist_df)\n",
    "    cb = DebugCB(vocal=False)\n",
    "    learner = create_font_learner(letters=None,\n",
    "                                cbs=cb,\n",
    "                                folder=None,\n",
    "                                ocr_model=ocr_model,\n",
    "                                n_colors_out=1,\n",
    "                                lr=1e-2, \n",
    "                                init_range=2.,\n",
    "                                seed=seed,\n",
    "                                **kwargs)\n",
    "    return learner"
   ]
  },
  {
   "cell_type": "markdown",
   "metadata": {},
   "source": [
    "## 1. Augmentations"
   ]
  },
  {
   "cell_type": "code",
   "execution_count": 222,
   "metadata": {},
   "outputs": [
    {
     "name": "stderr",
     "output_type": "stream",
     "text": [
      "/var/folders/3p/10hbv0415234v3x5ctp50l4m0000gn/T/ipykernel_10614/900511316.py:28: UserWarning: Using default input_shape: (28, 28)\n",
      "  warn(f\"Using default input_shape: {input_shape}\")\n"
     ]
    },
    {
     "data": {
      "image/png": "[encoded data removed]",
      "text/plain": [
       "<PIL.Image.Image image mode=RGB size=28x28 at 0x14E78C4C0>"
      ]
     },
     "metadata": {},
     "output_type": "display_data"
    }
   ],
   "source": [
    "DUMP_FOLDER = \"results/test_9_whole_alphabet\"\n",
    "VARS_WO_DIV_ADAM_PATH = os.path.join(DUMP_FOLDER, \"selected_variations_wo_div_adam.pkl\")\n",
    "sel_vars_df = load(VARS_WO_DIV_ADAM_PATH)\n",
    "learner = get_learner()\n",
    "v = sel_vars_df.iloc[0]\n",
    "learner.load_param_dict(v.final_params)\n",
    "img_a = learner.render_letter(\"A\")\n",
    "display(img_a)"
   ]
  },
  {
   "cell_type": "code",
   "execution_count": 223,
   "metadata": {},
   "outputs": [
    {
     "data": {
      "image/png": "[encoded data removed]",
      "text/plain": [
       "<PIL.Image.Image image mode=RGB size=28x28 at 0x14C9788E0>"
      ]
     },
     "metadata": {},
     "output_type": "display_data"
    },
    {
     "data": {
      "image/png": "[encoded data removed]",
      "text/plain": [
       "<PIL.Image.Image image mode=RGB size=28x28 at 0x14C9788E0>"
      ]
     },
     "metadata": {},
     "output_type": "display_data"
    },
    {
     "data": {
      "image/png": "[encoded data removed]",
      "text/plain": [
       "<PIL.Image.Image image mode=RGB size=28x28 at 0x1435C2640>"
      ]
     },
     "metadata": {},
     "output_type": "display_data"
    }
   ],
   "source": [
    "img_t = learner.render_letter(\"A\", as_image=False)\n",
    "methods = \"mix add sub\".split()\n",
    "\n",
    "def add_noise(\n",
    "    t: Tensor,\n",
    "    method = \"mix\",\n",
    "    f = .5,\n",
    "    as_image = False\n",
    "    ) -> Tensor:\n",
    "    \"\"\"Add random noise to the tensor.\"\"\"\n",
    "    noise = torch.rand_like(img_t)\n",
    "    if   method == \"mix\": img_t_aug = (1 - f) * img_t + f * noise\n",
    "    elif method == \"add\": img_t_aug = torch.clip(img_t + f * noise, max=1)\n",
    "    elif method == \"sub\": img_t_aug = torch.clip(img_t - f * noise, min=0)\n",
    "    return img_from_tensor(img_t_aug) if as_image else img_t_aug\n",
    "\n",
    "for method in methods: \n",
    "    display(add_noise(img_t, method=method, as_image=True))"
   ]
  },
  {
   "cell_type": "markdown",
   "metadata": {},
   "source": [
    "With GaussianBlur, we can easily simulate motion blur as well. The kernel_size parameter defines the x and y distortion."
   ]
  },
  {
   "cell_type": "code",
   "execution_count": 224,
   "metadata": {},
   "outputs": [
    {
     "data": {
      "image/png": "[encoded data removed]",
      "text/plain": [
       "<PIL.Image.Image image mode=RGB size=28x28 at 0x14BA961C0>"
      ]
     },
     "metadata": {},
     "output_type": "display_data"
    },
    {
     "data": {
      "image/png": "[encoded data removed]",
      "text/plain": [
       "<PIL.Image.Image image mode=RGB size=28x28 at 0x14C978A00>"
      ]
     },
     "metadata": {},
     "output_type": "display_data"
    },
    {
     "data": {
      "image/png": "[encoded data removed]",
      "text/plain": [
       "<PIL.Image.Image image mode=RGB size=28x28 at 0x14C978430>"
      ]
     },
     "metadata": {},
     "output_type": "display_data"
    },
    {
     "data": {
      "image/png": "[encoded data removed]",
      "text/plain": [
       "<PIL.Image.Image image mode=RGB size=28x28 at 0x14C978310>"
      ]
     },
     "metadata": {},
     "output_type": "display_data"
    }
   ],
   "source": [
    "blurrer = VT.GaussianBlur(kernel_size=(3, 3), sigma=(0.1, 5))\n",
    "for img in [blurrer(img_a) for _ in range(4)]: display(img)"
   ]
  },
  {
   "cell_type": "code",
   "execution_count": 225,
   "metadata": {},
   "outputs": [
    {
     "data": {
      "image/png": "[encoded data removed]",
      "text/plain": [
       "<PIL.Image.Image image mode=RGB size=28x28 at 0x14C978730>"
      ]
     },
     "metadata": {},
     "output_type": "display_data"
    },
    {
     "data": {
      "image/png": "[encoded data removed]",
      "text/plain": [
       "<PIL.Image.Image image mode=RGB size=28x28 at 0x14C978250>"
      ]
     },
     "metadata": {},
     "output_type": "display_data"
    },
    {
     "data": {
      "image/png": "[encoded data removed]",
      "text/plain": [
       "<PIL.Image.Image image mode=RGB size=28x28 at 0x14C978CA0>"
      ]
     },
     "metadata": {},
     "output_type": "display_data"
    },
    {
     "data": {
      "image/png": "[encoded data removed]",
      "text/plain": [
       "<PIL.Image.Image image mode=RGB size=28x28 at 0x1435C2640>"
      ]
     },
     "metadata": {},
     "output_type": "display_data"
    }
   ],
   "source": [
    "perspective_transformer = VT.RandomPerspective(distortion_scale=0.6, p=1.0, fill=255)\n",
    "for img in [perspective_transformer(img_a) for _ in range(4)]: display(img)"
   ]
  },
  {
   "cell_type": "markdown",
   "metadata": {},
   "source": [
    "## 2. Test the Transforms With the OCR Model"
   ]
  },
  {
   "cell_type": "code",
   "execution_count": 226,
   "metadata": {},
   "outputs": [
    {
     "data": {
      "text/html": [
       "<div>\n",
       "<style scoped>\n",
       "    .dataframe tbody tr th:only-of-type {\n",
       "        vertical-align: middle;\n",
       "    }\n",
       "\n",
       "    .dataframe tbody tr th {\n",
       "        vertical-align: top;\n",
       "    }\n",
       "\n",
       "    .dataframe thead th {\n",
       "        text-align: right;\n",
       "    }\n",
       "</style>\n",
       "<table border=\"1\" class=\"dataframe\">\n",
       "  <thead>\n",
       "    <tr style=\"text-align: right;\">\n",
       "      <th></th>\n",
       "      <th>0</th>\n",
       "      <th>0.1</th>\n",
       "      <th>0.2</th>\n",
       "      <th>0.3</th>\n",
       "      <th>0.4</th>\n",
       "      <th>0.5</th>\n",
       "      <th>0.6</th>\n",
       "      <th>0.7</th>\n",
       "      <th>0.8</th>\n",
       "      <th>0.9</th>\n",
       "      <th>...</th>\n",
       "      <th>0.639</th>\n",
       "      <th>0.640</th>\n",
       "      <th>0.641</th>\n",
       "      <th>0.642</th>\n",
       "      <th>0.643</th>\n",
       "      <th>0.644</th>\n",
       "      <th>0.645</th>\n",
       "      <th>0.646</th>\n",
       "      <th>0.647</th>\n",
       "      <th>0.648</th>\n",
       "    </tr>\n",
       "  </thead>\n",
       "  <tbody>\n",
       "    <tr>\n",
       "      <th>181716</th>\n",
       "      <td>14</td>\n",
       "      <td>0.0</td>\n",
       "      <td>0.0</td>\n",
       "      <td>0.0</td>\n",
       "      <td>0.0</td>\n",
       "      <td>0.0</td>\n",
       "      <td>0.0</td>\n",
       "      <td>0.0</td>\n",
       "      <td>0.0</td>\n",
       "      <td>0.0</td>\n",
       "      <td>...</td>\n",
       "      <td>0.0</td>\n",
       "      <td>0.0</td>\n",
       "      <td>0.0</td>\n",
       "      <td>0.0</td>\n",
       "      <td>0.0</td>\n",
       "      <td>0.0</td>\n",
       "      <td>0.0</td>\n",
       "      <td>0.0</td>\n",
       "      <td>0.0</td>\n",
       "      <td>0.0</td>\n",
       "    </tr>\n",
       "    <tr>\n",
       "      <th>147107</th>\n",
       "      <td>14</td>\n",
       "      <td>0.0</td>\n",
       "      <td>0.0</td>\n",
       "      <td>0.0</td>\n",
       "      <td>0.0</td>\n",
       "      <td>0.0</td>\n",
       "      <td>0.0</td>\n",
       "      <td>0.0</td>\n",
       "      <td>0.0</td>\n",
       "      <td>0.0</td>\n",
       "      <td>...</td>\n",
       "      <td>0.0</td>\n",
       "      <td>0.0</td>\n",
       "      <td>0.0</td>\n",
       "      <td>0.0</td>\n",
       "      <td>0.0</td>\n",
       "      <td>0.0</td>\n",
       "      <td>0.0</td>\n",
       "      <td>0.0</td>\n",
       "      <td>0.0</td>\n",
       "      <td>0.0</td>\n",
       "    </tr>\n",
       "    <tr>\n",
       "      <th>141450</th>\n",
       "      <td>14</td>\n",
       "      <td>0.0</td>\n",
       "      <td>0.0</td>\n",
       "      <td>0.0</td>\n",
       "      <td>0.0</td>\n",
       "      <td>0.0</td>\n",
       "      <td>0.0</td>\n",
       "      <td>0.0</td>\n",
       "      <td>0.0</td>\n",
       "      <td>0.0</td>\n",
       "      <td>...</td>\n",
       "      <td>0.0</td>\n",
       "      <td>0.0</td>\n",
       "      <td>0.0</td>\n",
       "      <td>0.0</td>\n",
       "      <td>0.0</td>\n",
       "      <td>0.0</td>\n",
       "      <td>0.0</td>\n",
       "      <td>0.0</td>\n",
       "      <td>0.0</td>\n",
       "      <td>0.0</td>\n",
       "    </tr>\n",
       "    <tr>\n",
       "      <th>188409</th>\n",
       "      <td>14</td>\n",
       "      <td>0.0</td>\n",
       "      <td>0.0</td>\n",
       "      <td>0.0</td>\n",
       "      <td>0.0</td>\n",
       "      <td>0.0</td>\n",
       "      <td>0.0</td>\n",
       "      <td>0.0</td>\n",
       "      <td>0.0</td>\n",
       "      <td>0.0</td>\n",
       "      <td>...</td>\n",
       "      <td>0.0</td>\n",
       "      <td>0.0</td>\n",
       "      <td>0.0</td>\n",
       "      <td>0.0</td>\n",
       "      <td>0.0</td>\n",
       "      <td>0.0</td>\n",
       "      <td>0.0</td>\n",
       "      <td>0.0</td>\n",
       "      <td>0.0</td>\n",
       "      <td>0.0</td>\n",
       "    </tr>\n",
       "    <tr>\n",
       "      <th>157835</th>\n",
       "      <td>14</td>\n",
       "      <td>0.0</td>\n",
       "      <td>0.0</td>\n",
       "      <td>0.0</td>\n",
       "      <td>0.0</td>\n",
       "      <td>0.0</td>\n",
       "      <td>0.0</td>\n",
       "      <td>0.0</td>\n",
       "      <td>0.0</td>\n",
       "      <td>0.0</td>\n",
       "      <td>...</td>\n",
       "      <td>0.0</td>\n",
       "      <td>0.0</td>\n",
       "      <td>0.0</td>\n",
       "      <td>0.0</td>\n",
       "      <td>0.0</td>\n",
       "      <td>0.0</td>\n",
       "      <td>0.0</td>\n",
       "      <td>0.0</td>\n",
       "      <td>0.0</td>\n",
       "      <td>0.0</td>\n",
       "    </tr>\n",
       "  </tbody>\n",
       "</table>\n",
       "<p>5 rows × 785 columns</p>\n",
       "</div>"
      ],
      "text/plain": [
       "         0  0.1  0.2  0.3  0.4  0.5  0.6  0.7  0.8  0.9  ...  0.639  0.640  \\\n",
       "181716  14  0.0  0.0  0.0  0.0  0.0  0.0  0.0  0.0  0.0  ...    0.0    0.0   \n",
       "147107  14  0.0  0.0  0.0  0.0  0.0  0.0  0.0  0.0  0.0  ...    0.0    0.0   \n",
       "141450  14  0.0  0.0  0.0  0.0  0.0  0.0  0.0  0.0  0.0  ...    0.0    0.0   \n",
       "188409  14  0.0  0.0  0.0  0.0  0.0  0.0  0.0  0.0  0.0  ...    0.0    0.0   \n",
       "157835  14  0.0  0.0  0.0  0.0  0.0  0.0  0.0  0.0  0.0  ...    0.0    0.0   \n",
       "\n",
       "        0.641  0.642  0.643  0.644  0.645  0.646  0.647  0.648  \n",
       "181716    0.0    0.0    0.0    0.0    0.0    0.0    0.0    0.0  \n",
       "147107    0.0    0.0    0.0    0.0    0.0    0.0    0.0    0.0  \n",
       "141450    0.0    0.0    0.0    0.0    0.0    0.0    0.0    0.0  \n",
       "188409    0.0    0.0    0.0    0.0    0.0    0.0    0.0    0.0  \n",
       "157835    0.0    0.0    0.0    0.0    0.0    0.0    0.0    0.0  \n",
       "\n",
       "[5 rows x 785 columns]"
      ]
     },
     "execution_count": 226,
     "metadata": {},
     "output_type": "execute_result"
    }
   ],
   "source": [
    "if 'ocr_data' not in locals() or ocr_data is None:\n",
    "    ocr_data = get_combined_az_and_tmnist_df()\n",
    "ocr_data.head()"
   ]
  },
  {
   "cell_type": "code",
   "execution_count": 245,
   "metadata": {},
   "outputs": [
    {
     "data": {
      "image/png": "[encoded data removed]",
      "text/plain": [
       "<Figure size 648x648 with 9 Axes>"
      ]
     },
     "metadata": {
      "needs_background": "light"
     },
     "output_type": "display_data"
    }
   ],
   "source": [
    "def is_image(x: Tensor): return x.ndim > 2\n",
    "def is_pil(img): return isinstance(img, Image.Image)\n",
    "\n",
    "ImageTypes = (PILImage, PILImageBW, Image.Image)\n",
    "TensorOrImage = (Tensor, *ImageTypes)\n",
    "\n",
    "class BlendingMethod(Enum):\n",
    "    MIX = auto()\n",
    "    ADD = auto()\n",
    "    SUB = auto()\n",
    "BLENDING_METHODS = [o for o in BlendingMethod]\n",
    "\n",
    "IMG = None\n",
    "\n",
    "def add_noise(x: TensorOrImage,\n",
    "    method: BlendingMethod = None,\n",
    "    f: Union[float, Tensor, tuple, list] = None, # Fixed value, range as tuple or None for (0., 1.)\n",
    "    clip = (0., 1.)\n",
    "    ) -> Tensor:\n",
    "    \"\"\"Add random noise to the tensor.\"\"\"\n",
    "    if method is None: method = random.choice(BLENDING_METHODS)\n",
    "    if f is None:     fac = random.random()\n",
    "    elif is_listy(f): fac = f[0] + random.random() * (f[1] - f[0])\n",
    "    else:             fac = f\n",
    "    noise = torch.rand(x.shape)\n",
    "    xt = VF.to_tensor(x) if is_pil(x) else x\n",
    "    assert xt.max() <= 1. + EPS, \"Use image tensors in range (0, 1) for add_noise\"\n",
    "    if   method == BlendingMethod.MIX: xt = (1. - fac) * xt + fac * noise\n",
    "    elif method == BlendingMethod.ADD: xt = xt + fac * noise\n",
    "    elif method == BlendingMethod.SUB: xt = xt - fac * noise\n",
    "    else: raise NotImplementedError(f\"Unsupported BlendingMethod {method}\")\n",
    "    if clip is not None: xt = torch.clip(xt, *clip)\n",
    "    return VF.to_pil_image(xt) if is_pil(x) else xt\n",
    "\n",
    "class RandImgTransform(RandTransform):\n",
    "    \"\"\"Perform one of `self.tfms` on an image or tensor with propability `p`.\"\"\"\n",
    "    def __init__(self, \n",
    "        p = 0.5, \n",
    "        tfms = [noop],\n",
    "        **kwargs\n",
    "        ):\n",
    "        super().__init__(p=p, **kwargs)\n",
    "        store_attr()\n",
    "    def _encodes(self, x): return self.tfms[0](x) if len(self.tfms) == 1 else random.choice(self.tfms)(x)\n",
    "    def encodes(self, x: Tensor):     return self._encodes(x) if is_image(x) else x\n",
    "    def encodes(self, x: ImageTypes): return self._encodes(x)\n",
    "    def encodes(self, x): raise ValueError(f\"RandImgTransform cannot be applied to {type(x)}\")\n",
    "\n",
    "class GaussianBlur(RandImgTransform):\n",
    "    \"\"\"Gaussian blur with propability `p`, kernel `kernel_size` or `random_size`, and `sigma`.\"\"\"\n",
    "    def __init__(self, \n",
    "        p = 0.5, \n",
    "        kernel_size = (3, 3), \n",
    "        random_size: int = None,\n",
    "        sigma = (0.1, 5), \n",
    "        **kwargs\n",
    "        ):\n",
    "        if random_size is not None:\n",
    "            assert random_size % 2 == 1\n",
    "            kernel_size = product(range(1, random_size + 2, 2), repeat=2)\n",
    "        else: kernel_size = [kernel_size]\n",
    "        tfms = [VT.GaussianBlur(kernel_size=o, sigma=sigma) for o in kernel_size if o != (1,1)]\n",
    "        super().__init__(p=p, tfms=tfms, **kwargs)\n",
    "        store_attr()\n",
    "\n",
    "class Noise(RandImgTransform):\n",
    "    \"\"\"Add noise with propability `p`, factor `f` and blending `method`. Leave to `None` to randomise.\"\"\"\n",
    "    def __init__(self, \n",
    "        p = 0.5, \n",
    "        f = None,\n",
    "        method: BlendingMethod = None,\n",
    "        clip = (0., 1.),\n",
    "        **kwargs\n",
    "        ):\n",
    "        clip = [float(o) for o in clip]\n",
    "        tfms = [partial(add_noise, method=method, f=f, clip=clip)]\n",
    "        super().__init__(p=p, tfms=tfms, **kwargs)\n",
    "        store_attr()\n",
    "\n",
    "size = 28\n",
    "vocab = VOCAB_UC\n",
    "bs = len(vocab)\n",
    "ocr_data_subset = ocr_data.iloc[-500:].copy()\n",
    "\n",
    "blur = GaussianBlur(p=.5, random_size=5)\n",
    "noise = Noise(p=.5, f=(0., .6))\n",
    "item_tfms = [blur, noise]\n",
    "\n",
    "tfms = aug_transforms(mult=1.0, do_flip=False, flip_vert=False, max_rotate=15.0, \n",
    "                      min_zoom=0.85, max_zoom=1.15, max_warp=.25, p_affine=.5, \n",
    "                      p_lighting=0., xtra_tfms=None, size=size, mode='bilinear', \n",
    "                      pad_mode='reflection', align_corners=True, batch=False, \n",
    "                      min_scale=1.0)\n",
    "del(tfms[1]) # Remove lighting tfm\n",
    "\n",
    "dls = ImageDataLoadersDF.from_df(ocr_data_subset, vocab=VOCAB_UC,\n",
    "                                 width=size, height=size,\n",
    "                                 num_workers=0,   # Needed for Mac\n",
    "                                 valid_pct=0.2, \n",
    "                                 item_tfms=item_tfms,\n",
    "                                 batch_tfms=tfms, # This raises if used as item_tfms\n",
    "                                 seed=42, bs=bs)\n",
    "dls.show_batch()"
   ]
  },
  {
   "cell_type": "markdown",
   "metadata": {},
   "source": [
    "Let's test the transformations on data generated by the font learner."
   ]
  },
  {
   "cell_type": "code",
   "execution_count": 228,
   "metadata": {},
   "outputs": [
    {
     "name": "stderr",
     "output_type": "stream",
     "text": [
      "/Users/kallejarvenpaa/opt/miniconda3/envs/ai-font-p3.9/lib/python3.9/site-packages/fastai/learner.py:55: UserWarning: Could not load the optimizer state.\n",
      "  if with_opt: warn(\"Could not load the optimizer state.\")\n",
      "/var/folders/3p/10hbv0415234v3x5ctp50l4m0000gn/T/ipykernel_10614/900511316.py:28: UserWarning: Using default input_shape: (28, 28)\n",
      "  warn(f\"Using default input_shape: {input_shape}\")\n"
     ]
    }
   ],
   "source": [
    "sel_vars_df = load(VARS_WO_DIV_ADAM_PATH)\n",
    "learner = get_learner()\n",
    "v = sel_vars_df.iloc[0]\n",
    "learner.load_param_dict(v.final_params)\n",
    "img_t = learner.render_letter(\"A\", as_image=False)"
   ]
  },
  {
   "cell_type": "code",
   "execution_count": 238,
   "metadata": {},
   "outputs": [
    {
     "data": {
      "image/png": "[encoded data removed]",
      "text/plain": [
       "<PIL.Image.Image image mode=RGB size=112x112 at 0x1435933A0>"
      ]
     },
     "execution_count": 238,
     "metadata": {},
     "output_type": "execute_result"
    }
   ],
   "source": [
    "aug_imgs = []\n",
    "for _ in range(8):\n",
    "    aug_imgs.append(blur.encodes(img_t))\n",
    "    aug_imgs.append(noise.encodes(img_t))\n",
    "image_grid([img_from_tensor(o) for o in aug_imgs])"
   ]
  },
  {
   "cell_type": "markdown",
   "metadata": {},
   "source": [
    "> These transformation will be added to `ocrlearner` and we'll train an OCR model using them."
   ]
  },
  {
   "cell_type": "markdown",
   "metadata": {},
   "source": [
    "## Export"
   ]
  },
  {
   "cell_type": "code",
   "execution_count": null,
   "metadata": {},
   "outputs": [
    {
     "name": "stdout",
     "output_type": "stream",
     "text": [
      "Converted 01_fontlearnertests.ipynb.\n",
      "Converted 02_first_letter_and_optim_tests.ipynb.\n",
      "Converted 03_vector_models.ipynb.\n",
      "Converted 04_font_statistics.ipynb.\n",
      "Converted 05_full_aphabet_optimisation.ipynb.\n",
      "Converted 06_data_augmentation.ipynb.\n",
      "Converted aifont_core.ipynb.\n",
      "Converted aifont_fontlearner.ipynb.\n",
      "Converted aifont_fontsampler.ipynb.\n",
      "Converted aifont_ocrlearner.ipynb.\n",
      "Converted index.ipynb.\n"
     ]
    }
   ],
   "source": [
    "#hide\n",
    "from nbdev.export import notebook2script; notebook2script()"
   ]
  }
 ],
 "metadata": {
  "kernelspec": {
   "display_name": "Python 3.9.12 ('ai-font-p3.9')",
   "language": "python",
   "name": "python3"
  },
  "language_info": {
   "codemirror_mode": {
    "name": "ipython",
    "version": 3
   },
   "file_extension": ".py",
   "mimetype": "text/x-python",
   "name": "python",
   "nbconvert_exporter": "python",
   "pygments_lexer": "ipython3",
   "version": "3.9.12"
  },
  "orig_nbformat": 4,
  "vscode": {
   "interpreter": {
    "hash": "5710b12fb88680bf60c169aecc91e9487b0350ee3a6536206b6750ffeed12b61"
   }
  }
 },
 "nbformat": 4,
 "nbformat_minor": 2
}
