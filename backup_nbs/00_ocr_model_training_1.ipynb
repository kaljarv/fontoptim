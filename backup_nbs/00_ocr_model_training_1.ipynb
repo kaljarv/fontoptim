{
 "cells": [
  {
   "cell_type": "code",
   "execution_count": 195,
   "metadata": {},
   "outputs": [
    {
     "name": "stdout",
     "output_type": "stream",
     "text": [
      "The autoreload extension is already loaded. To reload it, use:\n",
      "  %reload_ext autoreload\n"
     ]
    }
   ],
   "source": [
    "# default_exp ocrlearner_training_1\n",
    "%load_ext autoreload\n",
    "%autoreload 2"
   ]
  },
  {
   "attachments": {},
   "cell_type": "markdown",
   "metadata": {},
   "source": [
    "# OCR Learner Training 1\n",
    "\n",
    "Trianing simple OCR models for use with font optimiser."
   ]
  },
  {
   "cell_type": "code",
   "execution_count": 1,
   "metadata": {},
   "outputs": [
    {
     "ename": "NameError",
     "evalue": "name 'VectorRenderLayerBase' is not defined",
     "output_type": "error",
     "traceback": [
      "\u001b[0;31m---------------------------------------------------------------------------\u001b[0m",
      "\u001b[0;31mNameError\u001b[0m                                 Traceback (most recent call last)",
      "\u001b[1;32m/Users/kallejarvenpaa/Desktop/AI-fontti/aifont/00_ocr_model_training_1.ipynb Cell 3\u001b[0m in \u001b[0;36m<cell line: 4>\u001b[0;34m()\u001b[0m\n\u001b[1;32m      <a href='vscode-notebook-cell:/Users/kallejarvenpaa/Desktop/AI-fontti/aifont/00_ocr_model_training_1.ipynb#W2sZmlsZQ%3D%3D?line=0'>1</a>\u001b[0m \u001b[39m#export\u001b[39;00m\n\u001b[1;32m      <a href='vscode-notebook-cell:/Users/kallejarvenpaa/Desktop/AI-fontti/aifont/00_ocr_model_training_1.ipynb#W2sZmlsZQ%3D%3D?line=2'>3</a>\u001b[0m \u001b[39mfrom\u001b[39;00m \u001b[39maifont\u001b[39;00m\u001b[39m.\u001b[39;00m\u001b[39mcore\u001b[39;00m \u001b[39mimport\u001b[39;00m \u001b[39m*\u001b[39m\n\u001b[0;32m----> <a href='vscode-notebook-cell:/Users/kallejarvenpaa/Desktop/AI-fontti/aifont/00_ocr_model_training_1.ipynb#W2sZmlsZQ%3D%3D?line=3'>4</a>\u001b[0m \u001b[39mfrom\u001b[39;00m \u001b[39maifont\u001b[39;00m\u001b[39m.\u001b[39;00m\u001b[39mocrlearner\u001b[39;00m \u001b[39mimport\u001b[39;00m \u001b[39m*\u001b[39m\n\u001b[1;32m      <a href='vscode-notebook-cell:/Users/kallejarvenpaa/Desktop/AI-fontti/aifont/00_ocr_model_training_1.ipynb#W2sZmlsZQ%3D%3D?line=4'>5</a>\u001b[0m \u001b[39mimport\u001b[39;00m \u001b[39mcornet\u001b[39;00m\n\u001b[1;32m      <a href='vscode-notebook-cell:/Users/kallejarvenpaa/Desktop/AI-fontti/aifont/00_ocr_model_training_1.ipynb#W2sZmlsZQ%3D%3D?line=5'>6</a>\u001b[0m \u001b[39mfrom\u001b[39;00m \u001b[39mfastai\u001b[39;00m\u001b[39m.\u001b[39;00m\u001b[39mdata\u001b[39;00m\u001b[39m.\u001b[39;00m\u001b[39mall\u001b[39;00m \u001b[39mimport\u001b[39;00m \u001b[39m*\u001b[39m\n",
      "File \u001b[0;32m~/Desktop/AI-fontti/aifont/aifont/ocrlearner.py:980\u001b[0m, in \u001b[0;36m<module>\u001b[0;34m\u001b[0m\n\u001b[1;32m    976\u001b[0m         o \u001b[39m=\u001b[39m o[\u001b[39mself\u001b[39m\u001b[39m.\u001b[39mstart_col : \u001b[39mself\u001b[39m\u001b[39m.\u001b[39mend_col \u001b[39mif\u001b[39;00m \u001b[39mself\u001b[39m\u001b[39m.\u001b[39mend_col \u001b[39mis\u001b[39;00m \u001b[39mnot\u001b[39;00m \u001b[39mNone\u001b[39;00m \u001b[39melse\u001b[39;00m \u001b[39mlen\u001b[39m(o)] \\\n\u001b[1;32m    977\u001b[0m             \u001b[39m.\u001b[39mvalues\u001b[39m.\u001b[39mreshape(\u001b[39mself\u001b[39m\u001b[39m.\u001b[39mheight, \u001b[39mself\u001b[39m\u001b[39m.\u001b[39mwidth)\u001b[39m.\u001b[39mastype(\u001b[39mself\u001b[39m\u001b[39m.\u001b[39mdtype)\n\u001b[1;32m    978\u001b[0m         \u001b[39mreturn\u001b[39;00m \u001b[39m255\u001b[39m \u001b[39m-\u001b[39m o \u001b[39mif\u001b[39;00m \u001b[39mself\u001b[39m\u001b[39m.\u001b[39minvert \u001b[39melse\u001b[39;00m o\n\u001b[0;32m--> 980\u001b[0m \u001b[39mclass\u001b[39;00m \u001b[39mMatchFontLoss\u001b[39;00m(Module):\n\u001b[1;32m    981\u001b[0m     \u001b[39m\"\"\"XX\"\"\"\u001b[39;00m\n\u001b[1;32m    982\u001b[0m     \u001b[39mdef\u001b[39;00m \u001b[39m__init__\u001b[39m(\u001b[39mself\u001b[39m,\n\u001b[1;32m    983\u001b[0m         vector_model: VectorRenderLayerBase,\n\u001b[1;32m    984\u001b[0m         font_path: Union[\u001b[39mstr\u001b[39m, Path],\n\u001b[0;32m   (...)\u001b[0m\n\u001b[1;32m    987\u001b[0m         \u001b[39m*\u001b[39m\u001b[39m*\u001b[39mkwargs\n\u001b[1;32m    988\u001b[0m         ):\n",
      "File \u001b[0;32m~/Desktop/AI-fontti/aifont/aifont/ocrlearner.py:983\u001b[0m, in \u001b[0;36mMatchFontLoss\u001b[0;34m()\u001b[0m\n\u001b[1;32m    980\u001b[0m \u001b[39mclass\u001b[39;00m \u001b[39mMatchFontLoss\u001b[39;00m(Module):\n\u001b[1;32m    981\u001b[0m     \u001b[39m\"\"\"XX\"\"\"\u001b[39;00m\n\u001b[1;32m    982\u001b[0m     \u001b[39mdef\u001b[39;00m \u001b[39m__init__\u001b[39m(\u001b[39mself\u001b[39m,\n\u001b[0;32m--> 983\u001b[0m         vector_model: VectorRenderLayerBase,\n\u001b[1;32m    984\u001b[0m         font_path: Union[\u001b[39mstr\u001b[39m, Path],\n\u001b[1;32m    985\u001b[0m         font_size: \u001b[39mfloat\u001b[39m \u001b[39m=\u001b[39m \u001b[39mNone\u001b[39;00m,\n\u001b[1;32m    986\u001b[0m         multires_levels: \u001b[39mint\u001b[39m \u001b[39m=\u001b[39m \u001b[39m4\u001b[39m,\n\u001b[1;32m    987\u001b[0m         \u001b[39m*\u001b[39m\u001b[39m*\u001b[39mkwargs\n\u001b[1;32m    988\u001b[0m         ):\n\u001b[1;32m    989\u001b[0m         \u001b[39mif\u001b[39;00m font_size \u001b[39mis\u001b[39;00m \u001b[39mNone\u001b[39;00m: font_size \u001b[39m=\u001b[39m \u001b[39m.7\u001b[39m\n\u001b[1;32m    990\u001b[0m         \u001b[39mif\u001b[39;00m \u001b[39mhasattr\u001b[39m(vector_model, \u001b[39m\"\u001b[39m\u001b[39mparam_specs\u001b[39m\u001b[39m\"\u001b[39m):\n",
      "\u001b[0;31mNameError\u001b[0m: name 'VectorRenderLayerBase' is not defined"
     ]
    }
   ],
   "source": [
    "#export\n",
    "\n",
    "from aifont.core import *\n",
    "from aifont.ocrlearner import *\n",
    "import cornet\n",
    "from fastai.data.all import *\n",
    "from fastai.vision.all import *\n",
    "from enum import Enum, auto\n",
    "import gc\n",
    "import hashlib\n",
    "from itertools import product\n",
    "from nbdev.showdoc import *\n",
    "import matplotlib.pyplot as plt\n",
    "import os\n",
    "import pandas as pd\n",
    "from pandas import DataFrame\n",
    "import PIL\n",
    "import random\n",
    "import re\n",
    "import scipy.io\n",
    "import string\n",
    "import torchvision.transforms.functional as VF\n",
    "import torchvision.transforms as VT\n",
    "from typing import Callable, List, Sequence, Tuple"
   ]
  },
  {
   "cell_type": "markdown",
   "metadata": {},
   "source": [
    "## Model Architectures"
   ]
  },
  {
   "cell_type": "markdown",
   "metadata": {},
   "source": [
    "## Create and load OCR Learners and models"
   ]
  },
  {
   "cell_type": "code",
   "execution_count": 208,
   "metadata": {},
   "outputs": [],
   "source": [
    "#export\n",
    "\n",
    "def list_params(learn: Learner) -> None:\n",
    "    \"\"\"Quickly list param groups and params to see which ones are frozen.\"\"\"\n",
    "    for i,g in enumerate(learn.opt.param_groups):\n",
    "        for j,p in enumerate(g[\"params\"]):\n",
    "            print(f\"Group {i} • Param {j}: {p.shape}, {'grad' if p.requires_grad else 'no grad'}\")\n",
    "\n",
    "def load_ocr_model(\n",
    "    file: str = None, \n",
    "    arch: Callable = None, \n",
    "    df: Callable = None, \n",
    "    vocab: List[str] = VOCAB_UC,\n",
    "    version: str = None,\n",
    "    model_dir: str = MODELS_PATH, \n",
    "    n_out: int = None, \n",
    "    **kwargs\n",
    "    ) -> Module:\n",
    "    \"\"\"Load a trained OCR model for use with `OCRLoss`. Pass either `file` and `arch` or\n",
    "       `arch`, `df`, `version` and `vocab` to construct the filename automatically.\"\"\"\n",
    "    assert None not in (file, arch) or None not in (arch, df, vocab)\n",
    "    if file is None: file = get_learner_filename(arch, df, vocab, version=version, incl_suffix=True)\n",
    "    if n_out is None: n_out = len(vocab)\n",
    "    file = os.path.join(model_dir, file)\n",
    "    report(f\"Loading OCR model: {file}\")\n",
    "    # This is awful, sry!\n",
    "    model = arch(n_out=n_out, **kwargs)\n",
    "    model = model[0] if type(model) is tuple else model\n",
    "    load_model(file, model, opt=False, device=None)\n",
    "    return model\n",
    "\n",
    "def get_learner_filename(arch: Callable, df: Callable, \n",
    "    vocab: List[str] = None, \n",
    "    version: str = None,\n",
    "    incl_suffix = False) -> str:\n",
    "    \"\"\"Create a filaneme for the model for use with saving and loading.\"\"\"\n",
    "    sfx = \".pth\" if incl_suffix else \"\"\n",
    "    vcb = f\"__vocab_{hashlib.md5(''.join(vocab).encode('utf-8')).hexdigest()}\" if vocab else \"\"\n",
    "    ver = \"\" if version in (None, \"\") else f\"_{version}\"\n",
    "    return f\"{arch.__name__}__{df.__name__}{vcb}{ver}{sfx}\"\n",
    "\n",
    "def get_ocr_learner_2(\n",
    "    arch=kaggle_cnn_a, \n",
    "    n_out=None, \n",
    "    bs=128, \n",
    "    df=get_a_z_handw_images, \n",
    "    vocab=VOCAB_UC,\n",
    "    version=None,\n",
    "    normalize=False, \n",
    "    load_saved=True, \n",
    "    size=28,\n",
    "    loss_func=CrossEntropyLossFlat(), \n",
    "    opt_func=Adam, \n",
    "    init=nn.init.kaiming_normal_,\n",
    "    lr=defaults.lr, \n",
    "    splitter=None, \n",
    "    use_xtra_tfms=False,\n",
    "    cbs=None, \n",
    "    metrics=accuracy, \n",
    "    path=None, \n",
    "    model_dir=MODELS_PATH, \n",
    "    wd=None, \n",
    "    wd_bn_bias=False, \n",
    "    train_bn=True, \n",
    "    moms=(0.95,0.85,0.95), \n",
    "    **kwargs) -> Learner:\n",
    "    \"\"\"Create a new OCR learner based on architecture `arch` and dataset `df`.\n",
    "       If `pretrained`, the model will be initialised if a suitable save is found.\"\"\"\n",
    "    if use_xtra_tfms:\n",
    "        max_rotate = 15.0\n",
    "        max_warp = .25\n",
    "        blur = GaussianBlur(p=.5, random_size=5)\n",
    "        noise = Noise(p=.5, f=(0., .6))\n",
    "        item_tfms = [blur, noise]\n",
    "    else: \n",
    "        max_rotate = 5.0\n",
    "        max_warp = .1\n",
    "        item_tfms = None\n",
    "    tfms = aug_transforms(mult=1.0, do_flip=False, flip_vert=False, max_rotate=max_rotate, \n",
    "                          min_zoom=0.85, max_zoom=1.15, max_warp=max_warp, p_affine=.5, \n",
    "                          p_lighting=0., xtra_tfms=None, size=size, mode='bilinear', \n",
    "                          pad_mode='reflection', align_corners=True, batch=False, \n",
    "                          min_scale=1.0)\n",
    "    del(tfms[1]) # Remove lighting tfm\n",
    "    warn(\"Need to add custom normalisation scheme and check this doesn't expand channels!\")\n",
    "    # See: Normalize.from_stats(mean,std) https://docs.fast.ai/data.transforms.html#Normalize\n",
    "    dls = ImageDataLoadersDF.from_df(df(), vocab=vocab,\n",
    "                                     width=size, height=size,\n",
    "                                     num_workers=0, # Needed for Mac\n",
    "                                     valid_pct=0.2, \n",
    "                                     batch_tfms=tfms,\n",
    "                                     item_tfms=item_tfms,\n",
    "                                     seed=42, bs=bs)\n",
    "\n",
    "    if n_out is None: n_out = get_c(dls)\n",
    "    # This is a crappy, but we can specify the splitter in arch\n",
    "    model_and_splitter = arch(n_out, input_shape=(size, size))\n",
    "    if type(model_and_splitter) is tuple:\n",
    "        model, splitter = model_and_splitter\n",
    "    else: \n",
    "        model = model_and_splitter\n",
    "        splitter = lambda m: L(m[0], m[1:]).map(params)\n",
    "    learn = Learner(dls=dls, model=model, loss_func=loss_func, opt_func=opt_func, lr=lr, \n",
    "                    splitter=splitter, cbs=cbs,  metrics=metrics, path=path, model_dir=model_dir, \n",
    "                    wd=wd, wd_bn_bias=wd_bn_bias, train_bn=train_bn, moms=moms)\n",
    "    if load_saved: learn.load(get_learner_filename(arch=arch, df=df, vocab=vocab, version=version))\n",
    "    store_attr('arch,normalize,n_out', self=learn, **kwargs)\n",
    "    return learn\n",
    "\n",
    "def get_ocr_learner_3(\n",
    "    arch=kaggle_cnn_a, \n",
    "    n_out=None, \n",
    "    bs=128, \n",
    "    df=get_combined_az_and_tmnist_df, \n",
    "    start_col=1,\n",
    "    vocab=VOCAB_UC,\n",
    "    version=None,\n",
    "    normalize=False, \n",
    "    load_saved=True, \n",
    "    size=28,\n",
    "    loss_func=CrossEntropyLossFlat(), \n",
    "    opt_func=Adam, \n",
    "    init=nn.init.kaiming_normal_,\n",
    "    lr=defaults.lr, \n",
    "    splitter=None, \n",
    "    use_xtra_tfms=False,\n",
    "    tfms_p=.5,\n",
    "    blur_size: Tuple[int, Sequence[int]]=5,\n",
    "    blur_sigma: Tuple[int, Sequence[int]]=(.1, 5.), \n",
    "    cbs=None, \n",
    "    metrics=accuracy, \n",
    "    path=None, \n",
    "    model_dir=MODELS_PATH, \n",
    "    wd=None, \n",
    "    wd_bn_bias=False, \n",
    "    train_bn=True, \n",
    "    moms=(0.95,0.85,0.95),\n",
    "    seed=None,\n",
    "    **kwargs) -> Learner:\n",
    "    \"\"\"Create a new OCR learner based on architecture `arch` and dataset `df`.\n",
    "       If `pretrained`, the model will be initialised if a suitable save is found.\"\"\"\n",
    "    tfms = []\n",
    "    item_tfms = []\n",
    "    # Check if we need to pad\n",
    "    data = df()\n",
    "    orig_sz = math.isqrt(data.shape[1] - start_col)\n",
    "    if orig_sz < size: \n",
    "        pad = (size - orig_sz) // 2\n",
    "        assert orig_sz + 2 * pad == size\n",
    "        item_tfms += [Pad(pad, fill=255)]\n",
    "    if normalize: tfms += [get_imagenet_norm()] # ToRGB(), \n",
    "    if use_xtra_tfms:\n",
    "        max_rotate = 15.0\n",
    "        max_warp = .25\n",
    "        blur = GaussianBlur(p=tfms_p, random_size=blur_size, sigma=blur_sigma)\n",
    "        noise = Noise(p=tfms_p, f=(0., .6))\n",
    "        item_tfms += [blur, noise]\n",
    "    else: \n",
    "        max_rotate = 5.0\n",
    "        max_warp = .1\n",
    "    aug_tfms = aug_transforms(mult=1.0, do_flip=False, flip_vert=False, max_rotate=max_rotate, \n",
    "                          min_zoom=0.85, max_zoom=1.15, max_warp=max_warp, p_affine=tfms_p, \n",
    "                          p_lighting=0., xtra_tfms=None, size=size, mode='bilinear', \n",
    "                          pad_mode='reflection', align_corners=True, batch=False, \n",
    "                          min_scale=1.0)\n",
    "    del(aug_tfms[1]) # Remove lighting tfm\n",
    "\n",
    "    tfms += aug_tfms\n",
    "    dls = ImageDataLoadersDF.from_df(data, vocab=vocab,\n",
    "                                     width=orig_sz, height=orig_sz,\n",
    "                                     num_workers=0, # Needed for Mac\n",
    "                                     valid_pct=0.2, \n",
    "                                     batch_tfms=tfms,\n",
    "                                     item_tfms=item_tfms,\n",
    "                                     color=normalize,\n",
    "                                     seed=seed, bs=bs)\n",
    "    if n_out is None: n_out = get_c(dls)\n",
    "    # This is a crappy, but we can specify the splitter in arch\n",
    "    model_and_splitter = arch(n_out, input_shape=(size, size))\n",
    "    if type(model_and_splitter) is tuple:\n",
    "        model,splitter = model_and_splitter\n",
    "    else: \n",
    "        model = model_and_splitter\n",
    "        splitter = lambda m: L(m[0], m[1:]).map(params)\n",
    "    learn = Learner(dls=dls, model=model, loss_func=loss_func, opt_func=opt_func, lr=lr, \n",
    "                    splitter=splitter, cbs=cbs,  metrics=metrics, path=path, model_dir=model_dir, \n",
    "                    wd=wd, wd_bn_bias=wd_bn_bias, train_bn=train_bn, moms=moms)\n",
    "    if load_saved: learn.load(get_learner_filename(arch=arch, df=df, vocab=vocab, version=version))\n",
    "    store_attr('arch,normalize,n_out', self=learn, **kwargs)\n",
    "    return learn"
   ]
  },
  {
   "cell_type": "markdown",
   "metadata": {},
   "source": [
    "## Training the Models\n",
    "\n",
    "> Do not autorun below this, as it will commence training."
   ]
  },
  {
   "attachments": {},
   "cell_type": "markdown",
   "metadata": {},
   "source": [
    "### Training CorNET with the Full Dataset and Severe Augmenations\n",
    "\n",
    "Inspired by the success of the full-dataset model, let's train it further with the same, severe blur we're using in the font optimisation pipeline (see notebook 12) and a higher proportion of augmentations."
   ]
  },
  {
   "cell_type": "code",
   "execution_count": 12,
   "metadata": {},
   "outputs": [
    {
     "name": "stderr",
     "output_type": "stream",
     "text": [
      "/Users/kallejarvenpaa/opt/miniconda3/envs/ai-font-p3.9/lib/python3.9/site-packages/torch/_tensor.py:1051: UserWarning: torch.solve is deprecated in favor of torch.linalg.solveand will be removed in a future PyTorch release.\n",
      "torch.linalg.solve has its arguments reversed and does not return the LU factorization.\n",
      "To get the LU factorization see torch.lu, which can be used with torch.lu_solve or torch.lu_unpack.\n",
      "X = torch.solve(B, A).solution\n",
      "should be replaced with\n",
      "X = torch.linalg.solve(A, B) (Triggered internally at  /Users/distiller/project/conda/conda-bld/pytorch_1634272478997/work/aten/src/ATen/native/BatchLinearAlgebra.cpp:766.)\n",
      "  ret = func(*args, **kwargs)\n"
     ]
    },
    {
     "data": {
      "text/html": [],
      "text/plain": [
       "<IPython.core.display.HTML object>"
      ]
     },
     "metadata": {},
     "output_type": "display_data"
    },
    {
     "data": {
      "text/html": [
       "<table border=\"1\" class=\"dataframe\">\n",
       "  <thead>\n",
       "    <tr style=\"text-align: left;\">\n",
       "      <th>epoch</th>\n",
       "      <th>train_loss</th>\n",
       "      <th>valid_loss</th>\n",
       "      <th>accuracy</th>\n",
       "      <th>time</th>\n",
       "    </tr>\n",
       "  </thead>\n",
       "  <tbody>\n",
       "    <tr>\n",
       "      <td>0</td>\n",
       "      <td>1.232312</td>\n",
       "      <td>0.670324</td>\n",
       "      <td>0.988785</td>\n",
       "      <td>1:10:29</td>\n",
       "    </tr>\n",
       "    <tr>\n",
       "      <td>1</td>\n",
       "      <td>1.172647</td>\n",
       "      <td>0.701468</td>\n",
       "      <td>0.984290</td>\n",
       "      <td>1:52:07</td>\n",
       "    </tr>\n",
       "    <tr>\n",
       "      <td>2</td>\n",
       "      <td>1.151835</td>\n",
       "      <td>0.715169</td>\n",
       "      <td>0.981920</td>\n",
       "      <td>55:34</td>\n",
       "    </tr>\n",
       "    <tr>\n",
       "      <td>3</td>\n",
       "      <td>1.102665</td>\n",
       "      <td>0.707120</td>\n",
       "      <td>0.982166</td>\n",
       "      <td>1:32:23</td>\n",
       "    </tr>\n",
       "    <tr>\n",
       "      <td>4</td>\n",
       "      <td>1.088409</td>\n",
       "      <td>0.701276</td>\n",
       "      <td>0.981875</td>\n",
       "      <td>52:30</td>\n",
       "    </tr>\n",
       "    <tr>\n",
       "      <td>5</td>\n",
       "      <td>1.064032</td>\n",
       "      <td>0.701814</td>\n",
       "      <td>0.983664</td>\n",
       "      <td>52:23</td>\n",
       "    </tr>\n",
       "    <tr>\n",
       "      <td>6</td>\n",
       "      <td>1.043089</td>\n",
       "      <td>0.689597</td>\n",
       "      <td>0.983261</td>\n",
       "      <td>52:19</td>\n",
       "    </tr>\n",
       "    <tr>\n",
       "      <td>7</td>\n",
       "      <td>1.032109</td>\n",
       "      <td>0.686046</td>\n",
       "      <td>0.984782</td>\n",
       "      <td>52:23</td>\n",
       "    </tr>\n",
       "    <tr>\n",
       "      <td>8</td>\n",
       "      <td>1.017871</td>\n",
       "      <td>0.679885</td>\n",
       "      <td>0.985565</td>\n",
       "      <td>52:37</td>\n",
       "    </tr>\n",
       "    <tr>\n",
       "      <td>9</td>\n",
       "      <td>1.016628</td>\n",
       "      <td>0.678393</td>\n",
       "      <td>0.985811</td>\n",
       "      <td>52:20</td>\n",
       "    </tr>\n",
       "  </tbody>\n",
       "</table>"
      ],
      "text/plain": [
       "<IPython.core.display.HTML object>"
      ]
     },
     "metadata": {},
     "output_type": "display_data"
    },
    {
     "data": {
      "text/plain": [
       "Path('models/cornet_for_ocr__get_combined_az_and_tmnist_df_aug_sz48_fullds_blur_ep10.pth')"
      ]
     },
     "execution_count": 12,
     "metadata": {},
     "output_type": "execute_result"
    },
    {
     "data": {
      "image/png": "[encoded data removed]",
      "text/plain": [
       "<Figure size 432x288 with 1 Axes>"
      ]
     },
     "metadata": {
      "needs_background": "light"
     },
     "output_type": "display_data"
    }
   ],
   "source": [
    "learn = None; gc.collect()\n",
    "args = dict(arch=cornet_for_ocr, \n",
    "            df=partial(get_combined_az_and_tmnist_df, False))\n",
    "base_fn = \"cornet_for_ocr__get_combined_az_and_tmnist_df_aug_sz48_fullds\"\n",
    "learn_fn = f\"{base_fn}_blur\"\n",
    "learn = get_ocr_learner_3(**args,\n",
    "                            use_xtra_tfms=True, \n",
    "                            tfms_p=.8,\n",
    "                            blur_size=(9, 15),\n",
    "                            blur_sigma=(3., 5.), \n",
    "                            size=48, \n",
    "                            normalize=True,\n",
    "                            load_saved=False,\n",
    "                            bs=256)\n",
    "learn.load(base_fn)\n",
    "lrs = learn.lr_find(suggest_funcs=(minimum, steep, valley, slide), show_plot=True)\n",
    "learn.fit_one_cycle(10, lrs.slide)\n",
    "learn.save(f\"{learn_fn}_ep10\")"
   ]
  },
  {
   "cell_type": "markdown",
   "metadata": {},
   "source": [
    "The training loss looks like it might still go down, so let's train further."
   ]
  },
  {
   "cell_type": "code",
   "execution_count": 13,
   "metadata": {},
   "outputs": [
    {
     "data": {
      "text/html": [
       "<table border=\"1\" class=\"dataframe\">\n",
       "  <thead>\n",
       "    <tr style=\"text-align: left;\">\n",
       "      <th>epoch</th>\n",
       "      <th>train_loss</th>\n",
       "      <th>valid_loss</th>\n",
       "      <th>accuracy</th>\n",
       "      <th>time</th>\n",
       "    </tr>\n",
       "  </thead>\n",
       "  <tbody>\n",
       "    <tr>\n",
       "      <td>0</td>\n",
       "      <td>1.029303</td>\n",
       "      <td>0.689228</td>\n",
       "      <td>0.984939</td>\n",
       "      <td>58:48</td>\n",
       "    </tr>\n",
       "    <tr>\n",
       "      <td>1</td>\n",
       "      <td>1.070492</td>\n",
       "      <td>0.710362</td>\n",
       "      <td>0.981461</td>\n",
       "      <td>1:00:19</td>\n",
       "    </tr>\n",
       "    <tr>\n",
       "      <td>2</td>\n",
       "      <td>1.081075</td>\n",
       "      <td>0.715442</td>\n",
       "      <td>0.978397</td>\n",
       "      <td>1:51:08</td>\n",
       "    </tr>\n",
       "    <tr>\n",
       "      <td>3</td>\n",
       "      <td>1.071163</td>\n",
       "      <td>0.703051</td>\n",
       "      <td>0.981942</td>\n",
       "      <td>1:02:54</td>\n",
       "    </tr>\n",
       "    <tr>\n",
       "      <td>4</td>\n",
       "      <td>1.055097</td>\n",
       "      <td>0.705503</td>\n",
       "      <td>0.981383</td>\n",
       "      <td>1:44:08</td>\n",
       "    </tr>\n",
       "    <tr>\n",
       "      <td>5</td>\n",
       "      <td>1.031040</td>\n",
       "      <td>0.693314</td>\n",
       "      <td>0.983027</td>\n",
       "      <td>3:33:53</td>\n",
       "    </tr>\n",
       "    <tr>\n",
       "      <td>6</td>\n",
       "      <td>1.017131</td>\n",
       "      <td>0.688600</td>\n",
       "      <td>0.984111</td>\n",
       "      <td>2:06:50</td>\n",
       "    </tr>\n",
       "    <tr>\n",
       "      <td>7</td>\n",
       "      <td>0.996041</td>\n",
       "      <td>0.682793</td>\n",
       "      <td>0.984827</td>\n",
       "      <td>56:01</td>\n",
       "    </tr>\n",
       "    <tr>\n",
       "      <td>8</td>\n",
       "      <td>0.987833</td>\n",
       "      <td>0.678232</td>\n",
       "      <td>0.985498</td>\n",
       "      <td>53:06</td>\n",
       "    </tr>\n",
       "    <tr>\n",
       "      <td>9</td>\n",
       "      <td>0.994388</td>\n",
       "      <td>0.677198</td>\n",
       "      <td>0.985878</td>\n",
       "      <td>52:39</td>\n",
       "    </tr>\n",
       "  </tbody>\n",
       "</table>"
      ],
      "text/plain": [
       "<IPython.core.display.HTML object>"
      ]
     },
     "metadata": {},
     "output_type": "display_data"
    },
    {
     "data": {
      "text/plain": [
       "Path('models/cornet_for_ocr__get_combined_az_and_tmnist_df_aug_sz48_fullds_blur_ep20.pth')"
      ]
     },
     "execution_count": 13,
     "metadata": {},
     "output_type": "execute_result"
    }
   ],
   "source": [
    "learn.fit_one_cycle(10, lrs.slide)\n",
    "learn.save(f\"{learn_fn}_ep20\")"
   ]
  },
  {
   "cell_type": "markdown",
   "metadata": {},
   "source": [
    "There might still be room for improvement. Let's see."
   ]
  },
  {
   "cell_type": "code",
   "execution_count": 14,
   "metadata": {},
   "outputs": [
    {
     "data": {
      "text/html": [],
      "text/plain": [
       "<IPython.core.display.HTML object>"
      ]
     },
     "metadata": {},
     "output_type": "display_data"
    },
    {
     "data": {
      "image/png": "[encoded data removed]",
      "text/plain": [
       "<Figure size 432x288 with 1 Axes>"
      ]
     },
     "metadata": {
      "needs_background": "light"
     },
     "output_type": "display_data"
    }
   ],
   "source": [
    "lrs = learn.lr_find(suggest_funcs=(minimum, steep, valley, slide), show_plot=True)"
   ]
  },
  {
   "cell_type": "code",
   "execution_count": 15,
   "metadata": {},
   "outputs": [
    {
     "data": {
      "text/html": [
       "<table border=\"1\" class=\"dataframe\">\n",
       "  <thead>\n",
       "    <tr style=\"text-align: left;\">\n",
       "      <th>epoch</th>\n",
       "      <th>train_loss</th>\n",
       "      <th>valid_loss</th>\n",
       "      <th>accuracy</th>\n",
       "      <th>time</th>\n",
       "    </tr>\n",
       "  </thead>\n",
       "  <tbody>\n",
       "    <tr>\n",
       "      <td>0</td>\n",
       "      <td>0.986214</td>\n",
       "      <td>0.677129</td>\n",
       "      <td>0.985945</td>\n",
       "      <td>1:18:40</td>\n",
       "    </tr>\n",
       "    <tr>\n",
       "      <td>1</td>\n",
       "      <td>0.985756</td>\n",
       "      <td>0.678469</td>\n",
       "      <td>0.985542</td>\n",
       "      <td>1:19:57</td>\n",
       "    </tr>\n",
       "    <tr>\n",
       "      <td>2</td>\n",
       "      <td>0.983248</td>\n",
       "      <td>0.677243</td>\n",
       "      <td>0.985777</td>\n",
       "      <td>1:04:08</td>\n",
       "    </tr>\n",
       "    <tr>\n",
       "      <td>3</td>\n",
       "      <td>0.992181</td>\n",
       "      <td>0.677371</td>\n",
       "      <td>0.985542</td>\n",
       "      <td>1:31:00</td>\n",
       "    </tr>\n",
       "    <tr>\n",
       "      <td>4</td>\n",
       "      <td>0.985921</td>\n",
       "      <td>0.676954</td>\n",
       "      <td>0.985900</td>\n",
       "      <td>8:43:35</td>\n",
       "    </tr>\n",
       "    <tr>\n",
       "      <td>5</td>\n",
       "      <td>0.979848</td>\n",
       "      <td>0.675712</td>\n",
       "      <td>0.986258</td>\n",
       "      <td>53:27</td>\n",
       "    </tr>\n",
       "    <tr>\n",
       "      <td>6</td>\n",
       "      <td>0.983181</td>\n",
       "      <td>0.675143</td>\n",
       "      <td>0.986336</td>\n",
       "      <td>53:16</td>\n",
       "    </tr>\n",
       "    <tr>\n",
       "      <td>7</td>\n",
       "      <td>0.980004</td>\n",
       "      <td>0.674524</td>\n",
       "      <td>0.986157</td>\n",
       "      <td>52:41</td>\n",
       "    </tr>\n",
       "    <tr>\n",
       "      <td>8</td>\n",
       "      <td>0.980921</td>\n",
       "      <td>0.674541</td>\n",
       "      <td>0.986269</td>\n",
       "      <td>52:41</td>\n",
       "    </tr>\n",
       "    <tr>\n",
       "      <td>9</td>\n",
       "      <td>0.988607</td>\n",
       "      <td>0.674363</td>\n",
       "      <td>0.986269</td>\n",
       "      <td>52:43</td>\n",
       "    </tr>\n",
       "  </tbody>\n",
       "</table>"
      ],
      "text/plain": [
       "<IPython.core.display.HTML object>"
      ]
     },
     "metadata": {},
     "output_type": "display_data"
    },
    {
     "data": {
      "text/plain": [
       "Path('models/cornet_for_ocr__get_combined_az_and_tmnist_df_aug_sz48_fullds_blur_ep30.pth')"
      ]
     },
     "execution_count": 15,
     "metadata": {},
     "output_type": "execute_result"
    }
   ],
   "source": [
    "learn.fit_one_cycle(10, 1e-4)\n",
    "learn.save(f\"{learn_fn}_ep30\")"
   ]
  },
  {
   "cell_type": "markdown",
   "metadata": {},
   "source": [
    "Okay, that seems to be the where it converges."
   ]
  },
  {
   "cell_type": "markdown",
   "metadata": {},
   "source": [
    "### Training CorNET with the Full Dataset\n",
    "\n",
    "Let's train the model with the full dataset without balancing the categories, as this would reflect the letters' different real-world frequencies. We'll use fewer epochs to reflect the bigger dataset.\n",
    "\n",
    "> This turned out to be the best-performing model in terms of OCR loss, regardless of the imbalanced categories."
   ]
  },
  {
   "cell_type": "code",
   "execution_count": 12,
   "metadata": {},
   "outputs": [
    {
     "name": "stderr",
     "output_type": "stream",
     "text": [
      "/Users/kallejarvenpaa/opt/miniconda3/envs/ai-font-p3.9/lib/python3.9/site-packages/torch/_tensor.py:1051: UserWarning: torch.solve is deprecated in favor of torch.linalg.solveand will be removed in a future PyTorch release.\n",
      "torch.linalg.solve has its arguments reversed and does not return the LU factorization.\n",
      "To get the LU factorization see torch.lu, which can be used with torch.lu_solve or torch.lu_unpack.\n",
      "X = torch.solve(B, A).solution\n",
      "should be replaced with\n",
      "X = torch.linalg.solve(A, B) (Triggered internally at  /Users/distiller/project/conda/conda-bld/pytorch_1634272478997/work/aten/src/ATen/native/BatchLinearAlgebra.cpp:766.)\n",
      "  ret = func(*args, **kwargs)\n"
     ]
    },
    {
     "data": {
      "text/html": [],
      "text/plain": [
       "<IPython.core.display.HTML object>"
      ]
     },
     "metadata": {},
     "output_type": "display_data"
    },
    {
     "data": {
      "text/html": [
       "<table border=\"1\" class=\"dataframe\">\n",
       "  <thead>\n",
       "    <tr style=\"text-align: left;\">\n",
       "      <th>epoch</th>\n",
       "      <th>train_loss</th>\n",
       "      <th>valid_loss</th>\n",
       "      <th>accuracy</th>\n",
       "      <th>time</th>\n",
       "    </tr>\n",
       "  </thead>\n",
       "  <tbody>\n",
       "    <tr>\n",
       "      <td>0</td>\n",
       "      <td>0.693006</td>\n",
       "      <td>0.666721</td>\n",
       "      <td>0.988181</td>\n",
       "      <td>1:00:43</td>\n",
       "    </tr>\n",
       "    <tr>\n",
       "      <td>1</td>\n",
       "      <td>0.704978</td>\n",
       "      <td>0.672551</td>\n",
       "      <td>0.987141</td>\n",
       "      <td>1:00:57</td>\n",
       "    </tr>\n",
       "    <tr>\n",
       "      <td>2</td>\n",
       "      <td>0.703172</td>\n",
       "      <td>0.673531</td>\n",
       "      <td>0.987108</td>\n",
       "      <td>59:56</td>\n",
       "    </tr>\n",
       "    <tr>\n",
       "      <td>3</td>\n",
       "      <td>0.699107</td>\n",
       "      <td>0.671105</td>\n",
       "      <td>0.987264</td>\n",
       "      <td>2:09:53</td>\n",
       "    </tr>\n",
       "    <tr>\n",
       "      <td>4</td>\n",
       "      <td>0.690743</td>\n",
       "      <td>0.669478</td>\n",
       "      <td>0.987018</td>\n",
       "      <td>54:56</td>\n",
       "    </tr>\n",
       "    <tr>\n",
       "      <td>5</td>\n",
       "      <td>0.688976</td>\n",
       "      <td>0.662986</td>\n",
       "      <td>0.989098</td>\n",
       "      <td>1:27:27</td>\n",
       "    </tr>\n",
       "    <tr>\n",
       "      <td>6</td>\n",
       "      <td>0.680508</td>\n",
       "      <td>0.659670</td>\n",
       "      <td>0.989646</td>\n",
       "      <td>48:59</td>\n",
       "    </tr>\n",
       "    <tr>\n",
       "      <td>7</td>\n",
       "      <td>0.677605</td>\n",
       "      <td>0.656609</td>\n",
       "      <td>0.990496</td>\n",
       "      <td>48:20</td>\n",
       "    </tr>\n",
       "    <tr>\n",
       "      <td>8</td>\n",
       "      <td>0.676568</td>\n",
       "      <td>0.654593</td>\n",
       "      <td>0.990775</td>\n",
       "      <td>48:18</td>\n",
       "    </tr>\n",
       "    <tr>\n",
       "      <td>9</td>\n",
       "      <td>0.673510</td>\n",
       "      <td>0.654190</td>\n",
       "      <td>0.990988</td>\n",
       "      <td>48:10</td>\n",
       "    </tr>\n",
       "  </tbody>\n",
       "</table>"
      ],
      "text/plain": [
       "<IPython.core.display.HTML object>"
      ]
     },
     "metadata": {},
     "output_type": "display_data"
    },
    {
     "data": {
      "text/plain": [
       "Path('models/cornet_for_ocr__get_combined_az_and_tmnist_df_aug_sz48_fullds_ep15.pth')"
      ]
     },
     "execution_count": 12,
     "metadata": {},
     "output_type": "execute_result"
    }
   ],
   "source": [
    "learn = None; gc.collect()\n",
    "args = dict(arch=cornet_for_ocr, \n",
    "            df=partial(get_combined_az_and_tmnist_df, False))\n",
    "learn_fn = \"cornet_for_ocr__get_combined_az_and_tmnist_df_aug_sz48_fullds\"\n",
    "learn = get_ocr_learner_3(**args,\n",
    "                            use_xtra_tfms=True, \n",
    "                            size=48, \n",
    "                            normalize=True,\n",
    "                            load_saved=False,\n",
    "                            bs=256)\n",
    "# lrs = learn.lr_find(suggest_funcs=(minimum, steep, valley, slide), show_plot=False)\n",
    "# learn.fit_one_cycle(5, lrs.valley)\n",
    "# learn.save(f\"{learn_fn}_ep5\")\n",
    "learn.load(f\"{learn_fn}_ep5\")\n",
    "lrs = learn.lr_find(suggest_funcs=(minimum, steep, valley, slide), show_plot=False)\n",
    "learn.fit_one_cycle(10, lrs.slide)\n",
    "learn.save(f\"{learn_fn}_ep15\")"
   ]
  },
  {
   "cell_type": "markdown",
   "metadata": {},
   "source": [
    "### Training Iterations of CORnet\n",
    "\n",
    "Let's train a few iterations of the same model as below to see if there are any differences."
   ]
  },
  {
   "cell_type": "code",
   "execution_count": 52,
   "metadata": {},
   "outputs": [
    {
     "name": "stdout",
     "output_type": "stream",
     "text": [
      "Starting iter aug_sz48_iter2\n"
     ]
    },
    {
     "name": "stderr",
     "output_type": "stream",
     "text": [
      "/var/folders/3p/10hbv0415234v3x5ctp50l4m0000gn/T/ipykernel_3270/433064654.py:57: UserWarning: Undersampled to max 2240 items / category, using 56043 items of 372450.\n",
      "  warn(f\"Undersampled to max {n_min} items / category, using {len(df)} items of {tot}.\")\n"
     ]
    },
    {
     "data": {
      "text/html": [],
      "text/plain": [
       "<IPython.core.display.HTML object>"
      ]
     },
     "metadata": {},
     "output_type": "display_data"
    },
    {
     "data": {
      "text/html": [],
      "text/plain": [
       "<IPython.core.display.HTML object>"
      ]
     },
     "metadata": {},
     "output_type": "display_data"
    },
    {
     "data": {
      "text/html": [],
      "text/plain": [
       "<IPython.core.display.HTML object>"
      ]
     },
     "metadata": {},
     "output_type": "display_data"
    },
    {
     "data": {
      "text/html": [],
      "text/plain": [
       "<IPython.core.display.HTML object>"
      ]
     },
     "metadata": {},
     "output_type": "display_data"
    },
    {
     "name": "stdout",
     "output_type": "stream",
     "text": [
      "98.14935326576233%\n",
      "Starting iter aug_sz48_iter3\n"
     ]
    },
    {
     "name": "stderr",
     "output_type": "stream",
     "text": [
      "/var/folders/3p/10hbv0415234v3x5ctp50l4m0000gn/T/ipykernel_3270/433064654.py:57: UserWarning: Undersampled to max 2240 items / category, using 56043 items of 372450.\n",
      "  warn(f\"Undersampled to max {n_min} items / category, using {len(df)} items of {tot}.\")\n"
     ]
    },
    {
     "data": {
      "text/html": [],
      "text/plain": [
       "<IPython.core.display.HTML object>"
      ]
     },
     "metadata": {},
     "output_type": "display_data"
    },
    {
     "data": {
      "text/html": [],
      "text/plain": [
       "<IPython.core.display.HTML object>"
      ]
     },
     "metadata": {},
     "output_type": "display_data"
    },
    {
     "data": {
      "text/html": [],
      "text/plain": [
       "<IPython.core.display.HTML object>"
      ]
     },
     "metadata": {},
     "output_type": "display_data"
    },
    {
     "data": {
      "text/html": [],
      "text/plain": [
       "<IPython.core.display.HTML object>"
      ]
     },
     "metadata": {},
     "output_type": "display_data"
    },
    {
     "name": "stdout",
     "output_type": "stream",
     "text": [
      "98.5508382320404%\n",
      "Starting iter aug_sz48_iter4\n"
     ]
    },
    {
     "name": "stderr",
     "output_type": "stream",
     "text": [
      "/var/folders/3p/10hbv0415234v3x5ctp50l4m0000gn/T/ipykernel_3270/433064654.py:57: UserWarning: Undersampled to max 2240 items / category, using 56043 items of 372450.\n",
      "  warn(f\"Undersampled to max {n_min} items / category, using {len(df)} items of {tot}.\")\n"
     ]
    },
    {
     "data": {
      "text/html": [],
      "text/plain": [
       "<IPython.core.display.HTML object>"
      ]
     },
     "metadata": {},
     "output_type": "display_data"
    },
    {
     "data": {
      "text/html": [],
      "text/plain": [
       "<IPython.core.display.HTML object>"
      ]
     },
     "metadata": {},
     "output_type": "display_data"
    },
    {
     "data": {
      "text/html": [],
      "text/plain": [
       "<IPython.core.display.HTML object>"
      ]
     },
     "metadata": {},
     "output_type": "display_data"
    },
    {
     "data": {
      "text/html": [],
      "text/plain": [
       "<IPython.core.display.HTML object>"
      ]
     },
     "metadata": {},
     "output_type": "display_data"
    },
    {
     "name": "stdout",
     "output_type": "stream",
     "text": [
      "98.43612313270569%\n",
      "Starting iter aug_sz48_iter5\n"
     ]
    },
    {
     "name": "stderr",
     "output_type": "stream",
     "text": [
      "/var/folders/3p/10hbv0415234v3x5ctp50l4m0000gn/T/ipykernel_3270/433064654.py:57: UserWarning: Undersampled to max 2240 items / category, using 56043 items of 372450.\n",
      "  warn(f\"Undersampled to max {n_min} items / category, using {len(df)} items of {tot}.\")\n"
     ]
    },
    {
     "data": {
      "text/html": [],
      "text/plain": [
       "<IPython.core.display.HTML object>"
      ]
     },
     "metadata": {},
     "output_type": "display_data"
    },
    {
     "data": {
      "text/html": [],
      "text/plain": [
       "<IPython.core.display.HTML object>"
      ]
     },
     "metadata": {},
     "output_type": "display_data"
    },
    {
     "data": {
      "text/html": [],
      "text/plain": [
       "<IPython.core.display.HTML object>"
      ]
     },
     "metadata": {},
     "output_type": "display_data"
    },
    {
     "data": {
      "text/html": [],
      "text/plain": [
       "<IPython.core.display.HTML object>"
      ]
     },
     "metadata": {},
     "output_type": "display_data"
    },
    {
     "name": "stdout",
     "output_type": "stream",
     "text": [
      "98.01170229911804%\n"
     ]
    }
   ],
   "source": [
    "start_i = 6\n",
    "training_log = {}\n",
    "# def save_log(name = \"_\", *args) -> None:\n",
    "#     if name not in training_log: training_log[name] = []\n",
    "#     training_log[name].append(args if len(args) > 1 else args[0])\n",
    "\n",
    "for i in range(start_i, 6):\n",
    "    v = f\"aug_sz48_iter{i}\"\n",
    "    print(f\"Starting iter {v}\")\n",
    "    learn = None; gc.collect()\n",
    "    args = dict(arch=cornet_for_ocr, \n",
    "                df=get_combined_az_and_tmnist_df)\n",
    "    learn_fn = get_learner_filename(**args, version=v)\n",
    "    learn = get_ocr_learner_3(**args,\n",
    "                              use_xtra_tfms=True, \n",
    "                              size=48, \n",
    "                              normalize=True,\n",
    "                              load_saved=False,\n",
    "                              bs=256)\n",
    "    # learn.logger = partial(save_log, v) # Did not work for some reason\n",
    "    # if i == 3: learn.load(\"cornet_for_ocr__get_combined_az_and_tmnist_df_aug_iter3_ep5\")\n",
    "    lrs = learn.lr_find(suggest_funcs=(minimum, steep, valley, slide), show_plot=False)\n",
    "    with learn.no_logging(): learn.fit_one_cycle(5, lrs.valley)\n",
    "    learn.save(f\"{learn_fn}_ep5\")\n",
    "    training_log[v] = [learn.recorder.final_record]\n",
    "    lrs = learn.lr_find(suggest_funcs=(minimum, steep, valley, slide), show_plot=False)\n",
    "    with learn.no_logging(): learn.fit_one_cycle(20, lrs.slide)\n",
    "    learn.save(f\"{learn_fn}_ep25\")\n",
    "    training_log[v] += [learn.recorder.final_record]\n",
    "    dump(training_log, \"models/cornet_for_ocr_training_log\")\n",
    "    print(f\"{training_log[v][-1][-1] * 100}%\")"
   ]
  },
  {
   "cell_type": "markdown",
   "metadata": {},
   "source": [
    "### Augmented CORnet: First Iteration"
   ]
  },
  {
   "cell_type": "code",
   "execution_count": 379,
   "metadata": {},
   "outputs": [
    {
     "name": "stderr",
     "output_type": "stream",
     "text": [
      "/var/folders/3p/10hbv0415234v3x5ctp50l4m0000gn/T/ipykernel_27685/433064654.py:57: UserWarning: Undersampled to max 2240 items / category, using 56043 items of 372450.\n",
      "  warn(f\"Undersampled to max {n_min} items / category, using {len(df)} items of {tot}.\")\n"
     ]
    },
    {
     "data": {
      "text/html": [],
      "text/plain": [
       "<IPython.core.display.HTML object>"
      ]
     },
     "metadata": {},
     "output_type": "display_data"
    },
    {
     "data": {
      "text/plain": [
       "SuggestedLRs(minimum=0.13182567358016967, steep=0.00015848931798245758, valley=0.005248074419796467, slide=0.033113110810518265)"
      ]
     },
     "execution_count": 379,
     "metadata": {},
     "output_type": "execute_result"
    },
    {
     "data": {
      "image/png": "[encoded data removed]",
      "text/plain": [
       "<Figure size 432x288 with 1 Axes>"
      ]
     },
     "metadata": {
      "needs_background": "light"
     },
     "output_type": "display_data"
    }
   ],
   "source": [
    "learn = None; gc.collect()\n",
    "args = dict(arch=cornet_for_ocr, \n",
    "            df=get_combined_az_and_tmnist_df)\n",
    "learn_fn = get_learner_filename(**args, version=\"aug\")\n",
    "learn = get_ocr_learner_3(**args,\n",
    "                          use_xtra_tfms=True, \n",
    "                          size=48, \n",
    "                          normalize=True,\n",
    "                          load_saved=False,\n",
    "                          bs=256)\n",
    "lrs = learn.lr_find(suggest_funcs=(minimum, steep, valley, slide))\n",
    "lrs"
   ]
  },
  {
   "cell_type": "code",
   "execution_count": 380,
   "metadata": {},
   "outputs": [
    {
     "data": {
      "text/html": [
       "<table border=\"1\" class=\"dataframe\">\n",
       "  <thead>\n",
       "    <tr style=\"text-align: left;\">\n",
       "      <th>epoch</th>\n",
       "      <th>train_loss</th>\n",
       "      <th>valid_loss</th>\n",
       "      <th>accuracy</th>\n",
       "      <th>time</th>\n",
       "    </tr>\n",
       "  </thead>\n",
       "  <tbody>\n",
       "    <tr>\n",
       "      <td>0</td>\n",
       "      <td>1.083749</td>\n",
       "      <td>0.922579</td>\n",
       "      <td>0.937636</td>\n",
       "      <td>15:28</td>\n",
       "    </tr>\n",
       "    <tr>\n",
       "      <td>1</td>\n",
       "      <td>0.936820</td>\n",
       "      <td>0.822685</td>\n",
       "      <td>0.951898</td>\n",
       "      <td>15:33</td>\n",
       "    </tr>\n",
       "    <tr>\n",
       "      <td>2</td>\n",
       "      <td>0.850900</td>\n",
       "      <td>0.767840</td>\n",
       "      <td>0.964975</td>\n",
       "      <td>15:24</td>\n",
       "    </tr>\n",
       "    <tr>\n",
       "      <td>3</td>\n",
       "      <td>0.792460</td>\n",
       "      <td>0.719332</td>\n",
       "      <td>0.973464</td>\n",
       "      <td>15:34</td>\n",
       "    </tr>\n",
       "    <tr>\n",
       "      <td>4</td>\n",
       "      <td>0.759481</td>\n",
       "      <td>0.702814</td>\n",
       "      <td>0.976676</td>\n",
       "      <td>14:17</td>\n",
       "    </tr>\n",
       "  </tbody>\n",
       "</table>"
      ],
      "text/plain": [
       "<IPython.core.display.HTML object>"
      ]
     },
     "metadata": {},
     "output_type": "display_data"
    },
    {
     "data": {
      "text/plain": [
       "Path('models/cornet_for_ocr__get_combined_az_and_tmnist_df_aug_ep5.pth')"
      ]
     },
     "execution_count": 380,
     "metadata": {},
     "output_type": "execute_result"
    }
   ],
   "source": [
    "learn.fit_one_cycle(5, lrs.valley)\n",
    "learn.save(f\"{learn_fn}_ep5\")"
   ]
  },
  {
   "cell_type": "code",
   "execution_count": 381,
   "metadata": {},
   "outputs": [
    {
     "data": {
      "text/html": [],
      "text/plain": [
       "<IPython.core.display.HTML object>"
      ]
     },
     "metadata": {},
     "output_type": "display_data"
    },
    {
     "data": {
      "text/plain": [
       "SuggestedLRs(minimum=5.754399353463669e-07, steep=7.585775847473997e-07, valley=2.2908675418875646e-06, slide=0.0010000000474974513)"
      ]
     },
     "execution_count": 381,
     "metadata": {},
     "output_type": "execute_result"
    },
    {
     "data": {
      "image/png": "[encoded data removed]",
      "text/plain": [
       "<Figure size 432x288 with 1 Axes>"
      ]
     },
     "metadata": {
      "needs_background": "light"
     },
     "output_type": "display_data"
    }
   ],
   "source": [
    "lrs = learn.lr_find(suggest_funcs=(minimum, steep, valley, slide))\n",
    "lrs"
   ]
  },
  {
   "cell_type": "code",
   "execution_count": 382,
   "metadata": {},
   "outputs": [
    {
     "data": {
      "text/html": [
       "<table border=\"1\" class=\"dataframe\">\n",
       "  <thead>\n",
       "    <tr style=\"text-align: left;\">\n",
       "      <th>epoch</th>\n",
       "      <th>train_loss</th>\n",
       "      <th>valid_loss</th>\n",
       "      <th>accuracy</th>\n",
       "      <th>time</th>\n",
       "    </tr>\n",
       "  </thead>\n",
       "  <tbody>\n",
       "    <tr>\n",
       "      <td>0</td>\n",
       "      <td>0.764275</td>\n",
       "      <td>0.704266</td>\n",
       "      <td>0.976599</td>\n",
       "      <td>13:57</td>\n",
       "    </tr>\n",
       "    <tr>\n",
       "      <td>1</td>\n",
       "      <td>0.770933</td>\n",
       "      <td>0.708317</td>\n",
       "      <td>0.976599</td>\n",
       "      <td>13:57</td>\n",
       "    </tr>\n",
       "    <tr>\n",
       "      <td>2</td>\n",
       "      <td>0.767738</td>\n",
       "      <td>0.710701</td>\n",
       "      <td>0.975949</td>\n",
       "      <td>13:57</td>\n",
       "    </tr>\n",
       "    <tr>\n",
       "      <td>3</td>\n",
       "      <td>0.762034</td>\n",
       "      <td>0.708666</td>\n",
       "      <td>0.975682</td>\n",
       "      <td>13:58</td>\n",
       "    </tr>\n",
       "    <tr>\n",
       "      <td>4</td>\n",
       "      <td>0.752804</td>\n",
       "      <td>0.701386</td>\n",
       "      <td>0.978090</td>\n",
       "      <td>13:54</td>\n",
       "    </tr>\n",
       "    <tr>\n",
       "      <td>5</td>\n",
       "      <td>0.741536</td>\n",
       "      <td>0.694953</td>\n",
       "      <td>0.979773</td>\n",
       "      <td>13:56</td>\n",
       "    </tr>\n",
       "    <tr>\n",
       "      <td>6</td>\n",
       "      <td>0.738891</td>\n",
       "      <td>0.690866</td>\n",
       "      <td>0.980308</td>\n",
       "      <td>14:00</td>\n",
       "    </tr>\n",
       "    <tr>\n",
       "      <td>7</td>\n",
       "      <td>0.732327</td>\n",
       "      <td>0.687791</td>\n",
       "      <td>0.980691</td>\n",
       "      <td>14:02</td>\n",
       "    </tr>\n",
       "    <tr>\n",
       "      <td>8</td>\n",
       "      <td>0.727856</td>\n",
       "      <td>0.686396</td>\n",
       "      <td>0.981302</td>\n",
       "      <td>13:59</td>\n",
       "    </tr>\n",
       "    <tr>\n",
       "      <td>9</td>\n",
       "      <td>0.728199</td>\n",
       "      <td>0.685276</td>\n",
       "      <td>0.981302</td>\n",
       "      <td>13:59</td>\n",
       "    </tr>\n",
       "  </tbody>\n",
       "</table>"
      ],
      "text/plain": [
       "<IPython.core.display.HTML object>"
      ]
     },
     "metadata": {},
     "output_type": "display_data"
    },
    {
     "data": {
      "text/plain": [
       "Path('models/cornet_for_ocr__get_combined_az_and_tmnist_df_aug_ep15.pth')"
      ]
     },
     "execution_count": 382,
     "metadata": {},
     "output_type": "execute_result"
    }
   ],
   "source": [
    "lr = lrs.slide\n",
    "learn.fit_one_cycle(10, lr) # lr_max=slice(lr/10, lr)\n",
    "learn.save(f\"{learn_fn}_ep15\")"
   ]
  },
  {
   "cell_type": "code",
   "execution_count": 383,
   "metadata": {},
   "outputs": [
    {
     "data": {
      "text/html": [],
      "text/plain": [
       "<IPython.core.display.HTML object>"
      ]
     },
     "metadata": {},
     "output_type": "display_data"
    },
    {
     "data": {
      "text/plain": [
       "SuggestedLRs(minimum=1.584893179824576e-05, steep=2.2908675418875646e-06, valley=3.0199516913853586e-05, slide=0.0010000000474974513)"
      ]
     },
     "execution_count": 383,
     "metadata": {},
     "output_type": "execute_result"
    },
    {
     "data": {
      "image/png": "[encoded data removed]",
      "text/plain": [
       "<Figure size 432x288 with 1 Axes>"
      ]
     },
     "metadata": {
      "needs_background": "light"
     },
     "output_type": "display_data"
    }
   ],
   "source": [
    "lrs = learn.lr_find(suggest_funcs=(minimum, steep, valley, slide))\n",
    "lrs"
   ]
  },
  {
   "cell_type": "code",
   "execution_count": 384,
   "metadata": {},
   "outputs": [
    {
     "data": {
      "text/html": [
       "<table border=\"1\" class=\"dataframe\">\n",
       "  <thead>\n",
       "    <tr style=\"text-align: left;\">\n",
       "      <th>epoch</th>\n",
       "      <th>train_loss</th>\n",
       "      <th>valid_loss</th>\n",
       "      <th>accuracy</th>\n",
       "      <th>time</th>\n",
       "    </tr>\n",
       "  </thead>\n",
       "  <tbody>\n",
       "    <tr>\n",
       "      <td>0</td>\n",
       "      <td>0.729567</td>\n",
       "      <td>0.686354</td>\n",
       "      <td>0.981149</td>\n",
       "      <td>14:04</td>\n",
       "    </tr>\n",
       "    <tr>\n",
       "      <td>1</td>\n",
       "      <td>0.731308</td>\n",
       "      <td>0.688575</td>\n",
       "      <td>0.980423</td>\n",
       "      <td>14:01</td>\n",
       "    </tr>\n",
       "    <tr>\n",
       "      <td>2</td>\n",
       "      <td>0.742931</td>\n",
       "      <td>0.699660</td>\n",
       "      <td>0.977899</td>\n",
       "      <td>14:00</td>\n",
       "    </tr>\n",
       "    <tr>\n",
       "      <td>3</td>\n",
       "      <td>0.746527</td>\n",
       "      <td>0.699617</td>\n",
       "      <td>0.977517</td>\n",
       "      <td>14:01</td>\n",
       "    </tr>\n",
       "    <tr>\n",
       "      <td>4</td>\n",
       "      <td>0.745133</td>\n",
       "      <td>0.701001</td>\n",
       "      <td>0.977632</td>\n",
       "      <td>14:03</td>\n",
       "    </tr>\n",
       "    <tr>\n",
       "      <td>5</td>\n",
       "      <td>0.746833</td>\n",
       "      <td>0.700439</td>\n",
       "      <td>0.977632</td>\n",
       "      <td>14:04</td>\n",
       "    </tr>\n",
       "    <tr>\n",
       "      <td>6</td>\n",
       "      <td>0.748420</td>\n",
       "      <td>0.700990</td>\n",
       "      <td>0.978358</td>\n",
       "      <td>14:07</td>\n",
       "    </tr>\n",
       "    <tr>\n",
       "      <td>7</td>\n",
       "      <td>0.743903</td>\n",
       "      <td>0.695312</td>\n",
       "      <td>0.978473</td>\n",
       "      <td>14:05</td>\n",
       "    </tr>\n",
       "    <tr>\n",
       "      <td>8</td>\n",
       "      <td>0.740839</td>\n",
       "      <td>0.699731</td>\n",
       "      <td>0.976905</td>\n",
       "      <td>14:02</td>\n",
       "    </tr>\n",
       "    <tr>\n",
       "      <td>9</td>\n",
       "      <td>0.732916</td>\n",
       "      <td>0.690035</td>\n",
       "      <td>0.980614</td>\n",
       "      <td>13:57</td>\n",
       "    </tr>\n",
       "    <tr>\n",
       "      <td>10</td>\n",
       "      <td>0.728344</td>\n",
       "      <td>0.687326</td>\n",
       "      <td>0.981302</td>\n",
       "      <td>13:59</td>\n",
       "    </tr>\n",
       "    <tr>\n",
       "      <td>11</td>\n",
       "      <td>0.731339</td>\n",
       "      <td>0.688267</td>\n",
       "      <td>0.980270</td>\n",
       "      <td>14:00</td>\n",
       "    </tr>\n",
       "    <tr>\n",
       "      <td>12</td>\n",
       "      <td>0.724244</td>\n",
       "      <td>0.683705</td>\n",
       "      <td>0.982373</td>\n",
       "      <td>14:01</td>\n",
       "    </tr>\n",
       "    <tr>\n",
       "      <td>13</td>\n",
       "      <td>0.717352</td>\n",
       "      <td>0.680482</td>\n",
       "      <td>0.982641</td>\n",
       "      <td>14:05</td>\n",
       "    </tr>\n",
       "    <tr>\n",
       "      <td>14</td>\n",
       "      <td>0.717194</td>\n",
       "      <td>0.679046</td>\n",
       "      <td>0.983482</td>\n",
       "      <td>14:08</td>\n",
       "    </tr>\n",
       "    <tr>\n",
       "      <td>15</td>\n",
       "      <td>0.712622</td>\n",
       "      <td>0.677248</td>\n",
       "      <td>0.983252</td>\n",
       "      <td>14:04</td>\n",
       "    </tr>\n",
       "    <tr>\n",
       "      <td>16</td>\n",
       "      <td>0.707747</td>\n",
       "      <td>0.676222</td>\n",
       "      <td>0.983902</td>\n",
       "      <td>14:03</td>\n",
       "    </tr>\n",
       "    <tr>\n",
       "      <td>17</td>\n",
       "      <td>0.709321</td>\n",
       "      <td>0.675451</td>\n",
       "      <td>0.984247</td>\n",
       "      <td>14:03</td>\n",
       "    </tr>\n",
       "    <tr>\n",
       "      <td>18</td>\n",
       "      <td>0.708778</td>\n",
       "      <td>0.674656</td>\n",
       "      <td>0.984208</td>\n",
       "      <td>14:03</td>\n",
       "    </tr>\n",
       "    <tr>\n",
       "      <td>19</td>\n",
       "      <td>0.705786</td>\n",
       "      <td>0.674502</td>\n",
       "      <td>0.984323</td>\n",
       "      <td>14:01</td>\n",
       "    </tr>\n",
       "  </tbody>\n",
       "</table>"
      ],
      "text/plain": [
       "<IPython.core.display.HTML object>"
      ]
     },
     "metadata": {},
     "output_type": "display_data"
    },
    {
     "data": {
      "text/plain": [
       "Path('models/cornet_for_ocr__get_combined_az_and_tmnist_df_aug_ep35.pth')"
      ]
     },
     "execution_count": 384,
     "metadata": {},
     "output_type": "execute_result"
    }
   ],
   "source": [
    "lr = lrs.slide\n",
    "learn.fit_one_cycle(20, lr) # lr_max=slice(lr/10, lr)\n",
    "learn.save(f\"{learn_fn}_ep35\")"
   ]
  },
  {
   "cell_type": "code",
   "execution_count": 385,
   "metadata": {},
   "outputs": [
    {
     "data": {
      "text/html": [],
      "text/plain": [
       "<IPython.core.display.HTML object>"
      ]
     },
     "metadata": {},
     "output_type": "display_data"
    },
    {
     "data": {
      "text/plain": [
       "SuggestedLRs(minimum=6.309573450380412e-08, steep=3.981071586167673e-06, valley=0.0002290867705596611, slide=0.0008317637839354575)"
      ]
     },
     "execution_count": 385,
     "metadata": {},
     "output_type": "execute_result"
    },
    {
     "data": {
      "image/png": "[encoded data removed]",
      "text/plain": [
       "<Figure size 432x288 with 1 Axes>"
      ]
     },
     "metadata": {
      "needs_background": "light"
     },
     "output_type": "display_data"
    }
   ],
   "source": [
    "lrs = learn.lr_find(suggest_funcs=(minimum, steep, valley, slide))\n",
    "lrs"
   ]
  },
  {
   "cell_type": "code",
   "execution_count": 386,
   "metadata": {},
   "outputs": [
    {
     "data": {
      "text/html": [
       "<table border=\"1\" class=\"dataframe\">\n",
       "  <thead>\n",
       "    <tr style=\"text-align: left;\">\n",
       "      <th>epoch</th>\n",
       "      <th>train_loss</th>\n",
       "      <th>valid_loss</th>\n",
       "      <th>accuracy</th>\n",
       "      <th>time</th>\n",
       "    </tr>\n",
       "  </thead>\n",
       "  <tbody>\n",
       "    <tr>\n",
       "      <td>0</td>\n",
       "      <td>0.706638</td>\n",
       "      <td>0.674847</td>\n",
       "      <td>0.984208</td>\n",
       "      <td>17:43</td>\n",
       "    </tr>\n",
       "    <tr>\n",
       "      <td>1</td>\n",
       "      <td>0.708647</td>\n",
       "      <td>0.676703</td>\n",
       "      <td>0.983597</td>\n",
       "      <td>16:02</td>\n",
       "    </tr>\n",
       "    <tr>\n",
       "      <td>2</td>\n",
       "      <td>0.717843</td>\n",
       "      <td>0.681373</td>\n",
       "      <td>0.982717</td>\n",
       "      <td>17:31</td>\n",
       "    </tr>\n",
       "    <tr>\n",
       "      <td>3</td>\n",
       "      <td>0.723619</td>\n",
       "      <td>0.687108</td>\n",
       "      <td>0.981149</td>\n",
       "      <td>18:10</td>\n",
       "    </tr>\n",
       "    <tr>\n",
       "      <td>4</td>\n",
       "      <td>0.724996</td>\n",
       "      <td>0.685133</td>\n",
       "      <td>0.982067</td>\n",
       "      <td>16:50</td>\n",
       "    </tr>\n",
       "    <tr>\n",
       "      <td>5</td>\n",
       "      <td>0.730548</td>\n",
       "      <td>0.687718</td>\n",
       "      <td>0.981532</td>\n",
       "      <td>15:18</td>\n",
       "    </tr>\n",
       "    <tr>\n",
       "      <td>6</td>\n",
       "      <td>0.732200</td>\n",
       "      <td>0.692715</td>\n",
       "      <td>0.979123</td>\n",
       "      <td>1:03:13</td>\n",
       "    </tr>\n",
       "    <tr>\n",
       "      <td>7</td>\n",
       "      <td>0.732170</td>\n",
       "      <td>0.689958</td>\n",
       "      <td>0.980691</td>\n",
       "      <td>42:57</td>\n",
       "    </tr>\n",
       "    <tr>\n",
       "      <td>8</td>\n",
       "      <td>0.726086</td>\n",
       "      <td>0.687381</td>\n",
       "      <td>0.980538</td>\n",
       "      <td>15:19</td>\n",
       "    </tr>\n",
       "    <tr>\n",
       "      <td>9</td>\n",
       "      <td>0.726064</td>\n",
       "      <td>0.681939</td>\n",
       "      <td>0.982908</td>\n",
       "      <td>1:47:31</td>\n",
       "    </tr>\n",
       "    <tr>\n",
       "      <td>10</td>\n",
       "      <td>0.725085</td>\n",
       "      <td>0.684010</td>\n",
       "      <td>0.982144</td>\n",
       "      <td>17:24:57</td>\n",
       "    </tr>\n",
       "    <tr>\n",
       "      <td>11</td>\n",
       "      <td>0.717708</td>\n",
       "      <td>0.682680</td>\n",
       "      <td>0.982794</td>\n",
       "      <td>17:50</td>\n",
       "    </tr>\n",
       "    <tr>\n",
       "      <td>12</td>\n",
       "      <td>0.719168</td>\n",
       "      <td>0.681186</td>\n",
       "      <td>0.983405</td>\n",
       "      <td>16:25</td>\n",
       "    </tr>\n",
       "    <tr>\n",
       "      <td>13</td>\n",
       "      <td>0.710283</td>\n",
       "      <td>0.677457</td>\n",
       "      <td>0.983291</td>\n",
       "      <td>16:38</td>\n",
       "    </tr>\n",
       "    <tr>\n",
       "      <td>14</td>\n",
       "      <td>0.715325</td>\n",
       "      <td>0.677926</td>\n",
       "      <td>0.983711</td>\n",
       "      <td>16:19</td>\n",
       "    </tr>\n",
       "    <tr>\n",
       "      <td>15</td>\n",
       "      <td>0.712096</td>\n",
       "      <td>0.676582</td>\n",
       "      <td>0.984055</td>\n",
       "      <td>16:12</td>\n",
       "    </tr>\n",
       "    <tr>\n",
       "      <td>16</td>\n",
       "      <td>0.707743</td>\n",
       "      <td>0.675384</td>\n",
       "      <td>0.984361</td>\n",
       "      <td>16:24</td>\n",
       "    </tr>\n",
       "    <tr>\n",
       "      <td>17</td>\n",
       "      <td>0.703044</td>\n",
       "      <td>0.674845</td>\n",
       "      <td>0.984017</td>\n",
       "      <td>16:11</td>\n",
       "    </tr>\n",
       "    <tr>\n",
       "      <td>18</td>\n",
       "      <td>0.699684</td>\n",
       "      <td>0.672506</td>\n",
       "      <td>0.985202</td>\n",
       "      <td>16:05</td>\n",
       "    </tr>\n",
       "    <tr>\n",
       "      <td>19</td>\n",
       "      <td>0.701945</td>\n",
       "      <td>0.671490</td>\n",
       "      <td>0.985700</td>\n",
       "      <td>15:53</td>\n",
       "    </tr>\n",
       "    <tr>\n",
       "      <td>20</td>\n",
       "      <td>0.699912</td>\n",
       "      <td>0.670654</td>\n",
       "      <td>0.985355</td>\n",
       "      <td>30:59</td>\n",
       "    </tr>\n",
       "    <tr>\n",
       "      <td>21</td>\n",
       "      <td>0.696317</td>\n",
       "      <td>0.670277</td>\n",
       "      <td>0.985700</td>\n",
       "      <td>16:32</td>\n",
       "    </tr>\n",
       "    <tr>\n",
       "      <td>22</td>\n",
       "      <td>0.698853</td>\n",
       "      <td>0.670275</td>\n",
       "      <td>0.985470</td>\n",
       "      <td>15:37</td>\n",
       "    </tr>\n",
       "    <tr>\n",
       "      <td>23</td>\n",
       "      <td>0.700818</td>\n",
       "      <td>0.670013</td>\n",
       "      <td>0.985700</td>\n",
       "      <td>15:49</td>\n",
       "    </tr>\n",
       "    <tr>\n",
       "      <td>24</td>\n",
       "      <td>0.693833</td>\n",
       "      <td>0.669976</td>\n",
       "      <td>0.985738</td>\n",
       "      <td>15:58</td>\n",
       "    </tr>\n",
       "  </tbody>\n",
       "</table>"
      ],
      "text/plain": [
       "<IPython.core.display.HTML object>"
      ]
     },
     "metadata": {},
     "output_type": "display_data"
    },
    {
     "data": {
      "text/plain": [
       "Path('models/cornet_for_ocr__get_combined_az_and_tmnist_df_aug_ep60.pth')"
      ]
     },
     "execution_count": 386,
     "metadata": {},
     "output_type": "execute_result"
    }
   ],
   "source": [
    "lr = lrs.slide\n",
    "learn.fit_one_cycle(25, lr) # lr_max=slice(lr/10, lr)\n",
    "learn.save(f\"{learn_fn}_ep60\")"
   ]
  },
  {
   "cell_type": "markdown",
   "metadata": {},
   "source": [
    "### Augmented very simple CNN with skip connection with A–Z and TMNIST\n",
    "\n",
    "Let's now try to train the model below with extra augmentations: blur, noise and rotations."
   ]
  },
  {
   "cell_type": "code",
   "execution_count": 29,
   "metadata": {},
   "outputs": [
    {
     "name": "stderr",
     "output_type": "stream",
     "text": [
      "/var/folders/3p/10hbv0415234v3x5ctp50l4m0000gn/T/ipykernel_42706/2270344933.py:73: UserWarning: Need to add custom normalisation scheme and check this doesn't expand channels!\n",
      "  warn(\"Need to add custom normalisation scheme and check this doesn't expand channels!\")\n",
      "/var/folders/3p/10hbv0415234v3x5ctp50l4m0000gn/T/ipykernel_42706/3304883756.py:33: UserWarning: Undersampled to max 2240 items / category, using 56043 items of 372450.\n",
      "  warn(f\"Undersampled to max {n_min} items / category, using {len(df)} items of {tot}.\")\n",
      "/var/folders/3p/10hbv0415234v3x5ctp50l4m0000gn/T/ipykernel_42706/3304883756.py:33: UserWarning: Undersampled to max 4311 items / category, using 74724 items of 74724.\n",
      "  warn(f\"Undersampled to max {n_min} items / category, using {len(df)} items of {tot}.\")\n"
     ]
    },
    {
     "data": {
      "text/html": [],
      "text/plain": [
       "<IPython.core.display.HTML object>"
      ]
     },
     "metadata": {},
     "output_type": "display_data"
    },
    {
     "data": {
      "text/plain": [
       "SuggestedLRs(minimum=0.0007585775572806596, steep=9.12010818865383e-07, valley=0.0003311311302240938, slide=0.0006918309954926372)"
      ]
     },
     "execution_count": 29,
     "metadata": {},
     "output_type": "execute_result"
    },
    {
     "data": {
      "image/png": "[encoded data removed]",
      "text/plain": [
       "<Figure size 432x288 with 1 Axes>"
      ]
     },
     "metadata": {
      "needs_background": "light"
     },
     "output_type": "display_data"
    }
   ],
   "source": [
    "learn = None; gc.collect()\n",
    "args = dict(arch=kaggle_cnn_a_with_res, df=get_combined_az_and_tmnist_df)\n",
    "learn_fn = get_learner_filename(**args, version=\"aug\")\n",
    "learn = get_ocr_learner_2(**args,\n",
    "                          use_xtra_tfms=True, # Use extras\n",
    "                          bs=128)\n",
    "lrs = learn.lr_find(suggest_funcs=(minimum, steep, valley, slide))\n",
    "lrs"
   ]
  },
  {
   "cell_type": "code",
   "execution_count": 30,
   "metadata": {},
   "outputs": [
    {
     "data": {
      "text/html": [
       "<table border=\"1\" class=\"dataframe\">\n",
       "  <thead>\n",
       "    <tr style=\"text-align: left;\">\n",
       "      <th>epoch</th>\n",
       "      <th>train_loss</th>\n",
       "      <th>valid_loss</th>\n",
       "      <th>accuracy</th>\n",
       "      <th>time</th>\n",
       "    </tr>\n",
       "  </thead>\n",
       "  <tbody>\n",
       "    <tr>\n",
       "      <td>0</td>\n",
       "      <td>0.897906</td>\n",
       "      <td>0.724192</td>\n",
       "      <td>0.984055</td>\n",
       "      <td>43:44</td>\n",
       "    </tr>\n",
       "    <tr>\n",
       "      <td>1</td>\n",
       "      <td>0.843650</td>\n",
       "      <td>0.710722</td>\n",
       "      <td>0.984094</td>\n",
       "      <td>11:19</td>\n",
       "    </tr>\n",
       "    <tr>\n",
       "      <td>2</td>\n",
       "      <td>0.818181</td>\n",
       "      <td>0.707265</td>\n",
       "      <td>0.984782</td>\n",
       "      <td>11:09</td>\n",
       "    </tr>\n",
       "    <tr>\n",
       "      <td>3</td>\n",
       "      <td>0.817351</td>\n",
       "      <td>0.704900</td>\n",
       "      <td>0.984897</td>\n",
       "      <td>11:01</td>\n",
       "    </tr>\n",
       "    <tr>\n",
       "      <td>4</td>\n",
       "      <td>0.814272</td>\n",
       "      <td>0.702441</td>\n",
       "      <td>0.984897</td>\n",
       "      <td>11:00</td>\n",
       "    </tr>\n",
       "  </tbody>\n",
       "</table>"
      ],
      "text/plain": [
       "<IPython.core.display.HTML object>"
      ]
     },
     "metadata": {},
     "output_type": "display_data"
    },
    {
     "data": {
      "text/plain": [
       "Path('models/kaggle_cnn_a_with_res__get_combined_az_and_tmnist_df_aug_ep5.pth')"
      ]
     },
     "execution_count": 30,
     "metadata": {},
     "output_type": "execute_result"
    }
   ],
   "source": [
    "learn.fit_one_cycle(5, lrs.valley)\n",
    "learn.save(f\"{learn_fn}_ep5\")"
   ]
  },
  {
   "cell_type": "code",
   "execution_count": 31,
   "metadata": {},
   "outputs": [
    {
     "data": {
      "text/html": [],
      "text/plain": [
       "<IPython.core.display.HTML object>"
      ]
     },
     "metadata": {},
     "output_type": "display_data"
    },
    {
     "data": {
      "text/plain": [
       "SuggestedLRs(minimum=9.120108734350651e-06, steep=1.3182567499825382e-06, valley=0.0004786300996784121, slide=0.0010000000474974513)"
      ]
     },
     "execution_count": 31,
     "metadata": {},
     "output_type": "execute_result"
    },
    {
     "data": {
      "image/png": "[encoded data removed]",
      "text/plain": [
       "<Figure size 432x288 with 1 Axes>"
      ]
     },
     "metadata": {
      "needs_background": "light"
     },
     "output_type": "display_data"
    }
   ],
   "source": [
    "lrs = learn.lr_find(suggest_funcs=(minimum, steep, valley, slide))\n",
    "lrs"
   ]
  },
  {
   "cell_type": "code",
   "execution_count": 32,
   "metadata": {},
   "outputs": [
    {
     "data": {
      "text/html": [
       "<table border=\"1\" class=\"dataframe\">\n",
       "  <thead>\n",
       "    <tr style=\"text-align: left;\">\n",
       "      <th>epoch</th>\n",
       "      <th>train_loss</th>\n",
       "      <th>valid_loss</th>\n",
       "      <th>accuracy</th>\n",
       "      <th>time</th>\n",
       "    </tr>\n",
       "  </thead>\n",
       "  <tbody>\n",
       "    <tr>\n",
       "      <td>0</td>\n",
       "      <td>0.829567</td>\n",
       "      <td>0.709552</td>\n",
       "      <td>0.983138</td>\n",
       "      <td>21:47</td>\n",
       "    </tr>\n",
       "    <tr>\n",
       "      <td>1</td>\n",
       "      <td>0.828708</td>\n",
       "      <td>0.716514</td>\n",
       "      <td>0.982602</td>\n",
       "      <td>10:16</td>\n",
       "    </tr>\n",
       "    <tr>\n",
       "      <td>2</td>\n",
       "      <td>0.824481</td>\n",
       "      <td>0.721540</td>\n",
       "      <td>0.981761</td>\n",
       "      <td>09:57</td>\n",
       "    </tr>\n",
       "    <tr>\n",
       "      <td>3</td>\n",
       "      <td>0.813283</td>\n",
       "      <td>0.716303</td>\n",
       "      <td>0.982717</td>\n",
       "      <td>10:04</td>\n",
       "    </tr>\n",
       "    <tr>\n",
       "      <td>4</td>\n",
       "      <td>0.814052</td>\n",
       "      <td>0.721317</td>\n",
       "      <td>0.981914</td>\n",
       "      <td>09:55</td>\n",
       "    </tr>\n",
       "    <tr>\n",
       "      <td>5</td>\n",
       "      <td>0.787556</td>\n",
       "      <td>0.706622</td>\n",
       "      <td>0.983711</td>\n",
       "      <td>10:00</td>\n",
       "    </tr>\n",
       "    <tr>\n",
       "      <td>6</td>\n",
       "      <td>0.785576</td>\n",
       "      <td>0.699826</td>\n",
       "      <td>0.984247</td>\n",
       "      <td>09:59</td>\n",
       "    </tr>\n",
       "    <tr>\n",
       "      <td>7</td>\n",
       "      <td>0.776272</td>\n",
       "      <td>0.696765</td>\n",
       "      <td>0.984629</td>\n",
       "      <td>09:58</td>\n",
       "    </tr>\n",
       "    <tr>\n",
       "      <td>8</td>\n",
       "      <td>0.777319</td>\n",
       "      <td>0.695039</td>\n",
       "      <td>0.984782</td>\n",
       "      <td>09:59</td>\n",
       "    </tr>\n",
       "    <tr>\n",
       "      <td>9</td>\n",
       "      <td>0.769778</td>\n",
       "      <td>0.694118</td>\n",
       "      <td>0.985088</td>\n",
       "      <td>09:56</td>\n",
       "    </tr>\n",
       "  </tbody>\n",
       "</table>"
      ],
      "text/plain": [
       "<IPython.core.display.HTML object>"
      ]
     },
     "metadata": {},
     "output_type": "display_data"
    },
    {
     "data": {
      "text/plain": [
       "Path('models/kaggle_cnn_a_with_res__get_combined_az_and_tmnist_df_aug_ep15.pth')"
      ]
     },
     "execution_count": 32,
     "metadata": {},
     "output_type": "execute_result"
    }
   ],
   "source": [
    "lr = lrs.slide\n",
    "learn.fit_one_cycle(10, lr) # lr_max=slice(lr/10, lr)\n",
    "learn.save(f\"{learn_fn}_ep15\")"
   ]
  },
  {
   "cell_type": "code",
   "execution_count": 33,
   "metadata": {},
   "outputs": [
    {
     "data": {
      "text/html": [],
      "text/plain": [
       "<IPython.core.display.HTML object>"
      ]
     },
     "metadata": {},
     "output_type": "display_data"
    },
    {
     "data": {
      "text/plain": [
       "SuggestedLRs(minimum=6.30957365501672e-06, steep=5.248074739938602e-05, valley=0.0005754399462603033, slide=0.0012022644514217973)"
      ]
     },
     "execution_count": 33,
     "metadata": {},
     "output_type": "execute_result"
    },
    {
     "data": {
      "image/png": "[encoded data removed]",
      "text/plain": [
       "<Figure size 432x288 with 1 Axes>"
      ]
     },
     "metadata": {
      "needs_background": "light"
     },
     "output_type": "display_data"
    }
   ],
   "source": [
    "lrs = learn.lr_find(suggest_funcs=(minimum, steep, valley, slide))\n",
    "lrs"
   ]
  },
  {
   "cell_type": "code",
   "execution_count": 34,
   "metadata": {},
   "outputs": [
    {
     "data": {
      "text/html": [
       "<table border=\"1\" class=\"dataframe\">\n",
       "  <thead>\n",
       "    <tr style=\"text-align: left;\">\n",
       "      <th>epoch</th>\n",
       "      <th>train_loss</th>\n",
       "      <th>valid_loss</th>\n",
       "      <th>accuracy</th>\n",
       "      <th>time</th>\n",
       "    </tr>\n",
       "  </thead>\n",
       "  <tbody>\n",
       "    <tr>\n",
       "      <td>0</td>\n",
       "      <td>0.773541</td>\n",
       "      <td>0.695893</td>\n",
       "      <td>0.984897</td>\n",
       "      <td>09:59</td>\n",
       "    </tr>\n",
       "    <tr>\n",
       "      <td>1</td>\n",
       "      <td>0.779177</td>\n",
       "      <td>0.698127</td>\n",
       "      <td>0.984591</td>\n",
       "      <td>10:01</td>\n",
       "    </tr>\n",
       "    <tr>\n",
       "      <td>2</td>\n",
       "      <td>0.789926</td>\n",
       "      <td>0.709704</td>\n",
       "      <td>0.984170</td>\n",
       "      <td>09:57</td>\n",
       "    </tr>\n",
       "    <tr>\n",
       "      <td>3</td>\n",
       "      <td>0.799184</td>\n",
       "      <td>0.715347</td>\n",
       "      <td>0.983176</td>\n",
       "      <td>09:57</td>\n",
       "    </tr>\n",
       "    <tr>\n",
       "      <td>4</td>\n",
       "      <td>0.797481</td>\n",
       "      <td>0.711481</td>\n",
       "      <td>0.983023</td>\n",
       "      <td>10:01</td>\n",
       "    </tr>\n",
       "    <tr>\n",
       "      <td>5</td>\n",
       "      <td>0.793831</td>\n",
       "      <td>0.706244</td>\n",
       "      <td>0.984094</td>\n",
       "      <td>09:58</td>\n",
       "    </tr>\n",
       "    <tr>\n",
       "      <td>6</td>\n",
       "      <td>0.786947</td>\n",
       "      <td>0.705967</td>\n",
       "      <td>0.982717</td>\n",
       "      <td>09:58</td>\n",
       "    </tr>\n",
       "    <tr>\n",
       "      <td>7</td>\n",
       "      <td>0.784185</td>\n",
       "      <td>0.731831</td>\n",
       "      <td>0.981685</td>\n",
       "      <td>09:57</td>\n",
       "    </tr>\n",
       "    <tr>\n",
       "      <td>8</td>\n",
       "      <td>0.773965</td>\n",
       "      <td>0.728961</td>\n",
       "      <td>0.980805</td>\n",
       "      <td>10:02</td>\n",
       "    </tr>\n",
       "    <tr>\n",
       "      <td>9</td>\n",
       "      <td>0.781666</td>\n",
       "      <td>0.789515</td>\n",
       "      <td>0.971590</td>\n",
       "      <td>09:59</td>\n",
       "    </tr>\n",
       "    <tr>\n",
       "      <td>10</td>\n",
       "      <td>0.766028</td>\n",
       "      <td>0.696404</td>\n",
       "      <td>0.984820</td>\n",
       "      <td>10:00</td>\n",
       "    </tr>\n",
       "    <tr>\n",
       "      <td>11</td>\n",
       "      <td>0.761458</td>\n",
       "      <td>0.693882</td>\n",
       "      <td>0.984552</td>\n",
       "      <td>10:00</td>\n",
       "    </tr>\n",
       "    <tr>\n",
       "      <td>12</td>\n",
       "      <td>0.764976</td>\n",
       "      <td>0.698056</td>\n",
       "      <td>0.984552</td>\n",
       "      <td>09:59</td>\n",
       "    </tr>\n",
       "    <tr>\n",
       "      <td>13</td>\n",
       "      <td>0.755207</td>\n",
       "      <td>0.691903</td>\n",
       "      <td>0.985279</td>\n",
       "      <td>10:01</td>\n",
       "    </tr>\n",
       "    <tr>\n",
       "      <td>14</td>\n",
       "      <td>0.759681</td>\n",
       "      <td>0.690561</td>\n",
       "      <td>0.985279</td>\n",
       "      <td>10:00</td>\n",
       "    </tr>\n",
       "    <tr>\n",
       "      <td>15</td>\n",
       "      <td>0.746816</td>\n",
       "      <td>0.687163</td>\n",
       "      <td>0.985241</td>\n",
       "      <td>10:02</td>\n",
       "    </tr>\n",
       "    <tr>\n",
       "      <td>16</td>\n",
       "      <td>0.751590</td>\n",
       "      <td>0.685441</td>\n",
       "      <td>0.985738</td>\n",
       "      <td>09:59</td>\n",
       "    </tr>\n",
       "    <tr>\n",
       "      <td>17</td>\n",
       "      <td>0.745810</td>\n",
       "      <td>0.685115</td>\n",
       "      <td>0.985776</td>\n",
       "      <td>10:00</td>\n",
       "    </tr>\n",
       "    <tr>\n",
       "      <td>18</td>\n",
       "      <td>0.747106</td>\n",
       "      <td>0.685334</td>\n",
       "      <td>0.985814</td>\n",
       "      <td>10:02</td>\n",
       "    </tr>\n",
       "    <tr>\n",
       "      <td>19</td>\n",
       "      <td>0.745744</td>\n",
       "      <td>0.685066</td>\n",
       "      <td>0.985661</td>\n",
       "      <td>10:00</td>\n",
       "    </tr>\n",
       "  </tbody>\n",
       "</table>"
      ],
      "text/plain": [
       "<IPython.core.display.HTML object>"
      ]
     },
     "metadata": {},
     "output_type": "display_data"
    },
    {
     "data": {
      "text/plain": [
       "Path('models/kaggle_cnn_a_with_res__get_combined_az_and_tmnist_df_aug_ep35.pth')"
      ]
     },
     "execution_count": 34,
     "metadata": {},
     "output_type": "execute_result"
    }
   ],
   "source": [
    "lr = lrs.slide\n",
    "learn.fit_one_cycle(20, lr) # lr_max=slice(lr/10, lr)\n",
    "learn.save(f\"{learn_fn}_ep35\")"
   ]
  },
  {
   "cell_type": "code",
   "execution_count": 35,
   "metadata": {},
   "outputs": [
    {
     "data": {
      "text/html": [],
      "text/plain": [
       "<IPython.core.display.HTML object>"
      ]
     },
     "metadata": {},
     "output_type": "display_data"
    },
    {
     "data": {
      "text/plain": [
       "SuggestedLRs(minimum=1.737800812406931e-06, steep=9.12010818865383e-07, valley=3.981071586167673e-06, slide=0.0020892962347716093)"
      ]
     },
     "execution_count": 35,
     "metadata": {},
     "output_type": "execute_result"
    },
    {
     "data": {
      "image/png": "[encoded data removed]",
      "text/plain": [
       "<Figure size 432x288 with 1 Axes>"
      ]
     },
     "metadata": {
      "needs_background": "light"
     },
     "output_type": "display_data"
    }
   ],
   "source": [
    "lrs = learn.lr_find(suggest_funcs=(minimum, steep, valley, slide))\n",
    "lrs"
   ]
  },
  {
   "cell_type": "markdown",
   "metadata": {},
   "source": [
    "We could still out some improvements for the training loss in the previous bout of training, but the loss increased until the 10th epoch, so it seems a lower learning rate would be better."
   ]
  },
  {
   "cell_type": "code",
   "execution_count": 36,
   "metadata": {},
   "outputs": [
    {
     "data": {
      "text/html": [
       "<table border=\"1\" class=\"dataframe\">\n",
       "  <thead>\n",
       "    <tr style=\"text-align: left;\">\n",
       "      <th>epoch</th>\n",
       "      <th>train_loss</th>\n",
       "      <th>valid_loss</th>\n",
       "      <th>accuracy</th>\n",
       "      <th>time</th>\n",
       "    </tr>\n",
       "  </thead>\n",
       "  <tbody>\n",
       "    <tr>\n",
       "      <td>0</td>\n",
       "      <td>0.745540</td>\n",
       "      <td>0.685110</td>\n",
       "      <td>0.985738</td>\n",
       "      <td>11:51</td>\n",
       "    </tr>\n",
       "    <tr>\n",
       "      <td>1</td>\n",
       "      <td>0.744133</td>\n",
       "      <td>0.684853</td>\n",
       "      <td>0.985585</td>\n",
       "      <td>11:38</td>\n",
       "    </tr>\n",
       "    <tr>\n",
       "      <td>2</td>\n",
       "      <td>0.743686</td>\n",
       "      <td>0.684762</td>\n",
       "      <td>0.985852</td>\n",
       "      <td>11:52</td>\n",
       "    </tr>\n",
       "    <tr>\n",
       "      <td>3</td>\n",
       "      <td>0.745938</td>\n",
       "      <td>0.684878</td>\n",
       "      <td>0.985585</td>\n",
       "      <td>12:12</td>\n",
       "    </tr>\n",
       "    <tr>\n",
       "      <td>4</td>\n",
       "      <td>0.744153</td>\n",
       "      <td>0.684989</td>\n",
       "      <td>0.985470</td>\n",
       "      <td>12:02</td>\n",
       "    </tr>\n",
       "    <tr>\n",
       "      <td>5</td>\n",
       "      <td>0.744060</td>\n",
       "      <td>0.685271</td>\n",
       "      <td>0.985317</td>\n",
       "      <td>11:17</td>\n",
       "    </tr>\n",
       "    <tr>\n",
       "      <td>6</td>\n",
       "      <td>0.743407</td>\n",
       "      <td>0.687045</td>\n",
       "      <td>0.985279</td>\n",
       "      <td>12:43</td>\n",
       "    </tr>\n",
       "    <tr>\n",
       "      <td>7</td>\n",
       "      <td>0.743560</td>\n",
       "      <td>0.685437</td>\n",
       "      <td>0.985776</td>\n",
       "      <td>12:10</td>\n",
       "    </tr>\n",
       "    <tr>\n",
       "      <td>8</td>\n",
       "      <td>0.749588</td>\n",
       "      <td>0.686526</td>\n",
       "      <td>0.986005</td>\n",
       "      <td>12:11</td>\n",
       "    </tr>\n",
       "    <tr>\n",
       "      <td>9</td>\n",
       "      <td>0.743925</td>\n",
       "      <td>0.685846</td>\n",
       "      <td>0.985814</td>\n",
       "      <td>12:26</td>\n",
       "    </tr>\n",
       "    <tr>\n",
       "      <td>10</td>\n",
       "      <td>0.745209</td>\n",
       "      <td>0.685473</td>\n",
       "      <td>0.985967</td>\n",
       "      <td>1:17:32</td>\n",
       "    </tr>\n",
       "    <tr>\n",
       "      <td>11</td>\n",
       "      <td>0.748864</td>\n",
       "      <td>0.686061</td>\n",
       "      <td>0.985394</td>\n",
       "      <td>11:02</td>\n",
       "    </tr>\n",
       "    <tr>\n",
       "      <td>12</td>\n",
       "      <td>0.744202</td>\n",
       "      <td>0.686502</td>\n",
       "      <td>0.985700</td>\n",
       "      <td>10:00</td>\n",
       "    </tr>\n",
       "    <tr>\n",
       "      <td>13</td>\n",
       "      <td>0.749940</td>\n",
       "      <td>0.684405</td>\n",
       "      <td>0.985623</td>\n",
       "      <td>09:56</td>\n",
       "    </tr>\n",
       "    <tr>\n",
       "      <td>14</td>\n",
       "      <td>0.741326</td>\n",
       "      <td>0.684369</td>\n",
       "      <td>0.985814</td>\n",
       "      <td>09:56</td>\n",
       "    </tr>\n",
       "    <tr>\n",
       "      <td>15</td>\n",
       "      <td>0.739296</td>\n",
       "      <td>0.685362</td>\n",
       "      <td>0.985738</td>\n",
       "      <td>09:56</td>\n",
       "    </tr>\n",
       "    <tr>\n",
       "      <td>16</td>\n",
       "      <td>0.743550</td>\n",
       "      <td>0.683482</td>\n",
       "      <td>0.985776</td>\n",
       "      <td>10:02</td>\n",
       "    </tr>\n",
       "    <tr>\n",
       "      <td>17</td>\n",
       "      <td>0.748038</td>\n",
       "      <td>0.685179</td>\n",
       "      <td>0.985585</td>\n",
       "      <td>22:53</td>\n",
       "    </tr>\n",
       "    <tr>\n",
       "      <td>18</td>\n",
       "      <td>0.740642</td>\n",
       "      <td>0.683897</td>\n",
       "      <td>0.985929</td>\n",
       "      <td>12:41</td>\n",
       "    </tr>\n",
       "    <tr>\n",
       "      <td>19</td>\n",
       "      <td>0.743993</td>\n",
       "      <td>0.683628</td>\n",
       "      <td>0.985967</td>\n",
       "      <td>13:19</td>\n",
       "    </tr>\n",
       "    <tr>\n",
       "      <td>20</td>\n",
       "      <td>0.747073</td>\n",
       "      <td>0.684253</td>\n",
       "      <td>0.985891</td>\n",
       "      <td>11:50</td>\n",
       "    </tr>\n",
       "    <tr>\n",
       "      <td>21</td>\n",
       "      <td>0.744502</td>\n",
       "      <td>0.684816</td>\n",
       "      <td>0.985700</td>\n",
       "      <td>12:18</td>\n",
       "    </tr>\n",
       "    <tr>\n",
       "      <td>22</td>\n",
       "      <td>0.741170</td>\n",
       "      <td>0.682444</td>\n",
       "      <td>0.986273</td>\n",
       "      <td>18:37</td>\n",
       "    </tr>\n",
       "    <tr>\n",
       "      <td>23</td>\n",
       "      <td>0.741845</td>\n",
       "      <td>0.682904</td>\n",
       "      <td>0.986120</td>\n",
       "      <td>10:04</td>\n",
       "    </tr>\n",
       "    <tr>\n",
       "      <td>24</td>\n",
       "      <td>0.741913</td>\n",
       "      <td>0.683338</td>\n",
       "      <td>0.986082</td>\n",
       "      <td>09:57</td>\n",
       "    </tr>\n",
       "    <tr>\n",
       "      <td>25</td>\n",
       "      <td>0.728312</td>\n",
       "      <td>0.682681</td>\n",
       "      <td>0.986541</td>\n",
       "      <td>09:58</td>\n",
       "    </tr>\n",
       "    <tr>\n",
       "      <td>26</td>\n",
       "      <td>0.744209</td>\n",
       "      <td>0.682539</td>\n",
       "      <td>0.985852</td>\n",
       "      <td>09:57</td>\n",
       "    </tr>\n",
       "    <tr>\n",
       "      <td>27</td>\n",
       "      <td>0.738110</td>\n",
       "      <td>0.682321</td>\n",
       "      <td>0.986350</td>\n",
       "      <td>09:56</td>\n",
       "    </tr>\n",
       "    <tr>\n",
       "      <td>28</td>\n",
       "      <td>0.741486</td>\n",
       "      <td>0.681739</td>\n",
       "      <td>0.986808</td>\n",
       "      <td>09:57</td>\n",
       "    </tr>\n",
       "    <tr>\n",
       "      <td>29</td>\n",
       "      <td>0.740148</td>\n",
       "      <td>0.682485</td>\n",
       "      <td>0.986197</td>\n",
       "      <td>09:58</td>\n",
       "    </tr>\n",
       "    <tr>\n",
       "      <td>30</td>\n",
       "      <td>0.738425</td>\n",
       "      <td>0.682451</td>\n",
       "      <td>0.986426</td>\n",
       "      <td>09:56</td>\n",
       "    </tr>\n",
       "    <tr>\n",
       "      <td>31</td>\n",
       "      <td>0.740423</td>\n",
       "      <td>0.682684</td>\n",
       "      <td>0.986235</td>\n",
       "      <td>10:00</td>\n",
       "    </tr>\n",
       "    <tr>\n",
       "      <td>32</td>\n",
       "      <td>0.737079</td>\n",
       "      <td>0.681531</td>\n",
       "      <td>0.986426</td>\n",
       "      <td>09:58</td>\n",
       "    </tr>\n",
       "    <tr>\n",
       "      <td>33</td>\n",
       "      <td>0.735483</td>\n",
       "      <td>0.681839</td>\n",
       "      <td>0.986847</td>\n",
       "      <td>09:58</td>\n",
       "    </tr>\n",
       "    <tr>\n",
       "      <td>34</td>\n",
       "      <td>0.743426</td>\n",
       "      <td>0.681579</td>\n",
       "      <td>0.986388</td>\n",
       "      <td>09:56</td>\n",
       "    </tr>\n",
       "    <tr>\n",
       "      <td>35</td>\n",
       "      <td>0.740063</td>\n",
       "      <td>0.681016</td>\n",
       "      <td>0.986770</td>\n",
       "      <td>09:58</td>\n",
       "    </tr>\n",
       "    <tr>\n",
       "      <td>36</td>\n",
       "      <td>0.740326</td>\n",
       "      <td>0.681230</td>\n",
       "      <td>0.986732</td>\n",
       "      <td>09:59</td>\n",
       "    </tr>\n",
       "    <tr>\n",
       "      <td>37</td>\n",
       "      <td>0.737337</td>\n",
       "      <td>0.680601</td>\n",
       "      <td>0.986732</td>\n",
       "      <td>09:58</td>\n",
       "    </tr>\n",
       "    <tr>\n",
       "      <td>38</td>\n",
       "      <td>0.739212</td>\n",
       "      <td>0.680852</td>\n",
       "      <td>0.986732</td>\n",
       "      <td>09:57</td>\n",
       "    </tr>\n",
       "    <tr>\n",
       "      <td>39</td>\n",
       "      <td>0.741800</td>\n",
       "      <td>0.680737</td>\n",
       "      <td>0.986732</td>\n",
       "      <td>09:59</td>\n",
       "    </tr>\n",
       "    <tr>\n",
       "      <td>40</td>\n",
       "      <td>0.733497</td>\n",
       "      <td>0.681071</td>\n",
       "      <td>0.986770</td>\n",
       "      <td>09:57</td>\n",
       "    </tr>\n",
       "    <tr>\n",
       "      <td>41</td>\n",
       "      <td>0.732284</td>\n",
       "      <td>0.680799</td>\n",
       "      <td>0.986732</td>\n",
       "      <td>10:00</td>\n",
       "    </tr>\n",
       "    <tr>\n",
       "      <td>42</td>\n",
       "      <td>0.733841</td>\n",
       "      <td>0.680593</td>\n",
       "      <td>0.986923</td>\n",
       "      <td>10:00</td>\n",
       "    </tr>\n",
       "    <tr>\n",
       "      <td>43</td>\n",
       "      <td>0.731298</td>\n",
       "      <td>0.680699</td>\n",
       "      <td>0.986770</td>\n",
       "      <td>10:03</td>\n",
       "    </tr>\n",
       "    <tr>\n",
       "      <td>44</td>\n",
       "      <td>0.733558</td>\n",
       "      <td>0.680802</td>\n",
       "      <td>0.986617</td>\n",
       "      <td>09:59</td>\n",
       "    </tr>\n",
       "    <tr>\n",
       "      <td>45</td>\n",
       "      <td>0.734233</td>\n",
       "      <td>0.680352</td>\n",
       "      <td>0.986732</td>\n",
       "      <td>10:00</td>\n",
       "    </tr>\n",
       "    <tr>\n",
       "      <td>46</td>\n",
       "      <td>0.740333</td>\n",
       "      <td>0.680274</td>\n",
       "      <td>0.986579</td>\n",
       "      <td>10:04</td>\n",
       "    </tr>\n",
       "    <tr>\n",
       "      <td>47</td>\n",
       "      <td>0.736982</td>\n",
       "      <td>0.680698</td>\n",
       "      <td>0.986694</td>\n",
       "      <td>09:57</td>\n",
       "    </tr>\n",
       "    <tr>\n",
       "      <td>48</td>\n",
       "      <td>0.734237</td>\n",
       "      <td>0.680730</td>\n",
       "      <td>0.986694</td>\n",
       "      <td>09:57</td>\n",
       "    </tr>\n",
       "    <tr>\n",
       "      <td>49</td>\n",
       "      <td>0.742220</td>\n",
       "      <td>0.680718</td>\n",
       "      <td>0.986655</td>\n",
       "      <td>09:57</td>\n",
       "    </tr>\n",
       "  </tbody>\n",
       "</table>"
      ],
      "text/plain": [
       "<IPython.core.display.HTML object>"
      ]
     },
     "metadata": {},
     "output_type": "display_data"
    },
    {
     "data": {
      "text/plain": [
       "Path('models/kaggle_cnn_a_with_res__get_combined_az_and_tmnist_df_aug_ep85.pth')"
      ]
     },
     "execution_count": 36,
     "metadata": {},
     "output_type": "execute_result"
    }
   ],
   "source": [
    "lr = 2e-4 #lrs.slide\n",
    "learn.fit_one_cycle(50, lr) # lr_max=slice(lr/10, lr)\n",
    "learn.save(f\"{learn_fn}_ep85\")"
   ]
  },
  {
   "cell_type": "markdown",
   "metadata": {},
   "source": [
    "### Very simple CNN with skip connection with A–Z and TMNIST\n",
    "\n",
    "Let's finally try to add residual connections to an otherwise very simple CNN. We get a very similar accuracy to the baseline one, 0.987114 after 15 epochs, but we are more interested in the smoothness of the predictions, of course."
   ]
  },
  {
   "cell_type": "code",
   "execution_count": 69,
   "metadata": {},
   "outputs": [
    {
     "name": "stdout",
     "output_type": "stream",
     "text": [
      "WARNING! Need to add custom normalisation scheme and check this doesn't expand channels!\n",
      "WARNING! Undersampled to max 2240 items / category, using 56043 items of 372450.\n",
      "WARNING! Undersampled to max 4311 items / category, using 74724 items of 74724.\n"
     ]
    },
    {
     "data": {
      "text/html": [],
      "text/plain": [
       "<IPython.core.display.HTML object>"
      ]
     },
     "metadata": {},
     "output_type": "display_data"
    },
    {
     "data": {
      "text/plain": [
       "SuggestedLRs(minimum=0.03630780577659607, steep=0.002511886414140463, valley=0.0006918309954926372, slide=0.009120108559727669)"
      ]
     },
     "execution_count": 69,
     "metadata": {},
     "output_type": "execute_result"
    },
    {
     "data": {
      "image/png": "[encoded data removed]",
      "text/plain": [
       "<Figure size 432x288 with 1 Axes>"
      ]
     },
     "metadata": {
      "needs_background": "light"
     },
     "output_type": "display_data"
    }
   ],
   "source": [
    "learn = None; gc.collect()\n",
    "learn = get_ocr_learner_2(arch=kaggle_cnn_a_with_res, bs=128, df=get_combined_az_and_tmnist_df)\n",
    "lrs = learn.lr_find(suggest_funcs=(minimum, steep, valley, slide))\n",
    "lrs"
   ]
  },
  {
   "cell_type": "code",
   "execution_count": 71,
   "metadata": {},
   "outputs": [
    {
     "data": {
      "text/plain": [
       "832922"
      ]
     },
     "execution_count": 71,
     "metadata": {},
     "output_type": "execute_result"
    }
   ],
   "source": [
    "count_params(learn.model)"
   ]
  },
  {
   "cell_type": "markdown",
   "metadata": {},
   "source": [
    "Let's train the model using the same suggest LR type as for the non-Res model."
   ]
  },
  {
   "cell_type": "code",
   "execution_count": 73,
   "metadata": {},
   "outputs": [
    {
     "data": {
      "text/plain": [
       "Path('models/AZ_TMNIST_KaggleASkip_ep5.pth')"
      ]
     },
     "execution_count": 73,
     "metadata": {},
     "output_type": "execute_result"
    }
   ],
   "source": [
    "learn.fit_one_cycle(5, lrs.valley)\n",
    "learn.save(\"AZ_TMNIST_KaggleASkip_ep5\")"
   ]
  },
  {
   "cell_type": "markdown",
   "metadata": {},
   "source": [
    "The accuracy is very similar to the version without a skip connection. Let's train a bit more."
   ]
  },
  {
   "cell_type": "code",
   "execution_count": 74,
   "metadata": {},
   "outputs": [
    {
     "data": {
      "text/html": [],
      "text/plain": [
       "<IPython.core.display.HTML object>"
      ]
     },
     "metadata": {},
     "output_type": "display_data"
    },
    {
     "data": {
      "text/plain": [
       "SuggestedLRs(minimum=6.309573450380412e-08, steep=1.2022644114040304e-05, valley=0.0003981071640737355, slide=0.0008317637839354575)"
      ]
     },
     "execution_count": 74,
     "metadata": {},
     "output_type": "execute_result"
    },
    {
     "data": {
      "image/png": "[encoded data removed]",
      "text/plain": [
       "<Figure size 432x288 with 1 Axes>"
      ]
     },
     "metadata": {
      "needs_background": "light"
     },
     "output_type": "display_data"
    }
   ],
   "source": [
    "lrs = learn.lr_find(suggest_funcs=(minimum, steep, valley, slide))\n",
    "lrs"
   ]
  },
  {
   "cell_type": "markdown",
   "metadata": {},
   "source": [
    "Let's train a bit. This time we don't bother with the slice."
   ]
  },
  {
   "cell_type": "code",
   "execution_count": 75,
   "metadata": {},
   "outputs": [
    {
     "data": {
      "text/html": [
       "<table border=\"1\" class=\"dataframe\">\n",
       "  <thead>\n",
       "    <tr style=\"text-align: left;\">\n",
       "      <th>epoch</th>\n",
       "      <th>train_loss</th>\n",
       "      <th>valid_loss</th>\n",
       "      <th>accuracy</th>\n",
       "      <th>time</th>\n",
       "    </tr>\n",
       "  </thead>\n",
       "  <tbody>\n",
       "    <tr>\n",
       "      <td>0</td>\n",
       "      <td>0.752015</td>\n",
       "      <td>0.733117</td>\n",
       "      <td>0.979276</td>\n",
       "      <td>10:52</td>\n",
       "    </tr>\n",
       "    <tr>\n",
       "      <td>1</td>\n",
       "      <td>0.754821</td>\n",
       "      <td>0.732697</td>\n",
       "      <td>0.977402</td>\n",
       "      <td>10:50</td>\n",
       "    </tr>\n",
       "    <tr>\n",
       "      <td>2</td>\n",
       "      <td>0.743354</td>\n",
       "      <td>0.718717</td>\n",
       "      <td>0.981188</td>\n",
       "      <td>10:42</td>\n",
       "    </tr>\n",
       "    <tr>\n",
       "      <td>3</td>\n",
       "      <td>0.731470</td>\n",
       "      <td>0.710342</td>\n",
       "      <td>0.983291</td>\n",
       "      <td>10:17</td>\n",
       "    </tr>\n",
       "    <tr>\n",
       "      <td>4</td>\n",
       "      <td>0.715429</td>\n",
       "      <td>0.710938</td>\n",
       "      <td>0.984247</td>\n",
       "      <td>10:04</td>\n",
       "    </tr>\n",
       "    <tr>\n",
       "      <td>5</td>\n",
       "      <td>0.708392</td>\n",
       "      <td>0.697737</td>\n",
       "      <td>0.985317</td>\n",
       "      <td>10:18</td>\n",
       "    </tr>\n",
       "    <tr>\n",
       "      <td>6</td>\n",
       "      <td>0.700707</td>\n",
       "      <td>0.695120</td>\n",
       "      <td>0.986464</td>\n",
       "      <td>10:12</td>\n",
       "    </tr>\n",
       "    <tr>\n",
       "      <td>7</td>\n",
       "      <td>0.695938</td>\n",
       "      <td>0.687887</td>\n",
       "      <td>0.987229</td>\n",
       "      <td>10:09</td>\n",
       "    </tr>\n",
       "    <tr>\n",
       "      <td>8</td>\n",
       "      <td>0.690961</td>\n",
       "      <td>0.686370</td>\n",
       "      <td>0.987000</td>\n",
       "      <td>09:50</td>\n",
       "    </tr>\n",
       "    <tr>\n",
       "      <td>9</td>\n",
       "      <td>0.687047</td>\n",
       "      <td>0.686307</td>\n",
       "      <td>0.987114</td>\n",
       "      <td>09:24</td>\n",
       "    </tr>\n",
       "  </tbody>\n",
       "</table>"
      ],
      "text/plain": [
       "<IPython.core.display.HTML object>"
      ]
     },
     "metadata": {},
     "output_type": "display_data"
    },
    {
     "data": {
      "text/plain": [
       "Path('models/AZ_TMNIST_KaggleASkip_ep15.pth')"
      ]
     },
     "execution_count": 75,
     "metadata": {},
     "output_type": "execute_result"
    }
   ],
   "source": [
    "lr = lrs.slide\n",
    "learn.fit_one_cycle(10, lr) # lr_max=slice(lr/10, lr)\n",
    "learn.save(\"AZ_TMNIST_KaggleASkip_ep15\")"
   ]
  },
  {
   "cell_type": "markdown",
   "metadata": {},
   "source": [
    "### Kaggle CNN A with A–Z and TMNIST\n",
    "\n",
    "Let's try the same Kaggle learner A as below, with the bigger dataset of handwritten and font glyphs. Accuracy 0.980767 after 20 epochs, which might still be improved."
   ]
  },
  {
   "cell_type": "code",
   "execution_count": 417,
   "metadata": {},
   "outputs": [
    {
     "name": "stdout",
     "output_type": "stream",
     "text": [
      "WARN! Need to add custom normalisation scheme and check this doesn't expand channels!\n",
      "WARNING! Undersampled to max 2240 items / category, using 56043 items of 372450.\n",
      "WARNING! Undersampled to max 4311 items / category, using 74724 items of 74724.\n"
     ]
    },
    {
     "data": {
      "text/html": [],
      "text/plain": [
       "<IPython.core.display.HTML object>"
      ]
     },
     "metadata": {},
     "output_type": "display_data"
    },
    {
     "data": {
      "text/plain": [
       "SuggestedLRs(minimum=0.04365158379077912, steep=0.001737800776027143, valley=0.0006918309954926372, slide=0.02290867641568184)"
      ]
     },
     "execution_count": 417,
     "metadata": {},
     "output_type": "execute_result"
    },
    {
     "data": {
      "image/png": "[encoded data removed]",
      "text/plain": [
       "<Figure size 432x288 with 1 Axes>"
      ]
     },
     "metadata": {
      "needs_background": "light"
     },
     "output_type": "display_data"
    }
   ],
   "source": [
    "learn = None; gc.collect()\n",
    "learn = get_ocr_learner_2(bs=128, df=get_combined_az_and_tmnist_df)\n",
    "lrs = learn.lr_find(suggest_funcs=(minimum, steep, valley, slide))\n",
    "lrs"
   ]
  },
  {
   "cell_type": "code",
   "execution_count": 429,
   "metadata": {},
   "outputs": [
    {
     "data": {
      "text/html": [
       "<table border=\"1\" class=\"dataframe\">\n",
       "  <thead>\n",
       "    <tr style=\"text-align: left;\">\n",
       "      <th>epoch</th>\n",
       "      <th>train_loss</th>\n",
       "      <th>valid_loss</th>\n",
       "      <th>accuracy</th>\n",
       "      <th>time</th>\n",
       "    </tr>\n",
       "  </thead>\n",
       "  <tbody>\n",
       "    <tr>\n",
       "      <td>0</td>\n",
       "      <td>1.140398</td>\n",
       "      <td>0.985390</td>\n",
       "      <td>0.922533</td>\n",
       "      <td>06:08</td>\n",
       "    </tr>\n",
       "    <tr>\n",
       "      <td>1</td>\n",
       "      <td>0.920577</td>\n",
       "      <td>0.846004</td>\n",
       "      <td>0.956487</td>\n",
       "      <td>06:02</td>\n",
       "    </tr>\n",
       "    <tr>\n",
       "      <td>2</td>\n",
       "      <td>0.855568</td>\n",
       "      <td>0.795332</td>\n",
       "      <td>0.968493</td>\n",
       "      <td>05:57</td>\n",
       "    </tr>\n",
       "    <tr>\n",
       "      <td>3</td>\n",
       "      <td>0.825790</td>\n",
       "      <td>0.774382</td>\n",
       "      <td>0.972967</td>\n",
       "      <td>06:01</td>\n",
       "    </tr>\n",
       "    <tr>\n",
       "      <td>4</td>\n",
       "      <td>0.809739</td>\n",
       "      <td>0.769602</td>\n",
       "      <td>0.973081</td>\n",
       "      <td>05:30</td>\n",
       "    </tr>\n",
       "  </tbody>\n",
       "</table>"
      ],
      "text/plain": [
       "<IPython.core.display.HTML object>"
      ]
     },
     "metadata": {},
     "output_type": "display_data"
    },
    {
     "data": {
      "text/plain": [
       "Path('models/AZ_TMNIST_KaggleA_Adam_ep5.pth')"
      ]
     },
     "execution_count": 429,
     "metadata": {},
     "output_type": "execute_result"
    }
   ],
   "source": [
    "learn.fit_one_cycle(5, lrs.valley)\n",
    "learn.save(\"AZ_TMNIST_KaggleA_Adam_ep5\")"
   ]
  },
  {
   "cell_type": "markdown",
   "metadata": {},
   "source": [
    "The accuracy is very high, which might partly be due to the assumedly easier-to-categorize font glyphs being overrepresented in the dataset. Let's still train it a bit further."
   ]
  },
  {
   "cell_type": "code",
   "execution_count": 434,
   "metadata": {},
   "outputs": [
    {
     "data": {
      "text/html": [],
      "text/plain": [
       "<IPython.core.display.HTML object>"
      ]
     },
     "metadata": {},
     "output_type": "display_data"
    },
    {
     "data": {
      "text/plain": [
       "SuggestedLRs(minimum=8.31763736641733e-07, steep=6.309573450380412e-07, valley=3.630780702224001e-05, slide=0.0008317637839354575)"
      ]
     },
     "execution_count": 434,
     "metadata": {},
     "output_type": "execute_result"
    },
    {
     "data": {
      "image/png": "[encoded data removed]",
      "text/plain": [
       "<Figure size 432x288 with 1 Axes>"
      ]
     },
     "metadata": {
      "needs_background": "light"
     },
     "output_type": "display_data"
    }
   ],
   "source": [
    "lrs = learn.lr_find(suggest_funcs=(minimum, steep, valley, slide))\n",
    "lrs"
   ]
  },
  {
   "cell_type": "code",
   "execution_count": 435,
   "metadata": {},
   "outputs": [
    {
     "data": {
      "text/html": [
       "<table border=\"1\" class=\"dataframe\">\n",
       "  <thead>\n",
       "    <tr style=\"text-align: left;\">\n",
       "      <th>epoch</th>\n",
       "      <th>train_loss</th>\n",
       "      <th>valid_loss</th>\n",
       "      <th>accuracy</th>\n",
       "      <th>time</th>\n",
       "    </tr>\n",
       "  </thead>\n",
       "  <tbody>\n",
       "    <tr>\n",
       "      <td>0</td>\n",
       "      <td>0.832674</td>\n",
       "      <td>0.792543</td>\n",
       "      <td>0.967690</td>\n",
       "      <td>05:42</td>\n",
       "    </tr>\n",
       "    <tr>\n",
       "      <td>1</td>\n",
       "      <td>0.833426</td>\n",
       "      <td>0.779722</td>\n",
       "      <td>0.971743</td>\n",
       "      <td>05:28</td>\n",
       "    </tr>\n",
       "    <tr>\n",
       "      <td>2</td>\n",
       "      <td>0.798860</td>\n",
       "      <td>0.761932</td>\n",
       "      <td>0.974649</td>\n",
       "      <td>05:29</td>\n",
       "    </tr>\n",
       "    <tr>\n",
       "      <td>3</td>\n",
       "      <td>0.786865</td>\n",
       "      <td>0.748617</td>\n",
       "      <td>0.976676</td>\n",
       "      <td>05:45</td>\n",
       "    </tr>\n",
       "    <tr>\n",
       "      <td>4</td>\n",
       "      <td>0.773154</td>\n",
       "      <td>0.745129</td>\n",
       "      <td>0.977517</td>\n",
       "      <td>05:40</td>\n",
       "    </tr>\n",
       "  </tbody>\n",
       "</table>"
      ],
      "text/plain": [
       "<IPython.core.display.HTML object>"
      ]
     },
     "metadata": {},
     "output_type": "display_data"
    },
    {
     "data": {
      "text/plain": [
       "Path('models/AZ_TMNIST_KaggleA_Adam_ep10.pth')"
      ]
     },
     "execution_count": 435,
     "metadata": {},
     "output_type": "execute_result"
    }
   ],
   "source": [
    "lr = lrs.slide\n",
    "learn.fit_one_cycle(5, lr_max=slice(lr/10, lr))\n",
    "learn.save(\"AZ_TMNIST_KaggleA_Adam_ep10\")"
   ]
  },
  {
   "cell_type": "markdown",
   "metadata": {},
   "source": [
    "There isn't much change in accuracy, but let's still try."
   ]
  },
  {
   "cell_type": "code",
   "execution_count": 437,
   "metadata": {},
   "outputs": [
    {
     "data": {
      "text/html": [],
      "text/plain": [
       "<IPython.core.display.HTML object>"
      ]
     },
     "metadata": {},
     "output_type": "display_data"
    },
    {
     "data": {
      "text/plain": [
       "SuggestedLRs(minimum=1.584893179824576e-05, steep=3.311311274956097e-06, valley=0.00010964782268274575, slide=0.0012022644514217973)"
      ]
     },
     "execution_count": 437,
     "metadata": {},
     "output_type": "execute_result"
    },
    {
     "data": {
      "image/png": "[encoded data removed]",
      "text/plain": [
       "<Figure size 432x288 with 1 Axes>"
      ]
     },
     "metadata": {
      "needs_background": "light"
     },
     "output_type": "display_data"
    }
   ],
   "source": [
    "lrs = learn.lr_find(suggest_funcs=(minimum, steep, valley, slide))\n",
    "lrs"
   ]
  },
  {
   "cell_type": "markdown",
   "metadata": {},
   "source": [
    "Just to see if there's any difference, let's try with a flat LR and train a bit longer. We are getting some accuracy gains, but 0.980767 is good enough for now."
   ]
  },
  {
   "cell_type": "code",
   "execution_count": 65,
   "metadata": {},
   "outputs": [
    {
     "ename": "AttributeError",
     "evalue": "'NoneType' object has no attribute 'fit_one_cycle'",
     "output_type": "error",
     "traceback": [
      "\u001b[0;31m---------------------------------------------------------------------------\u001b[0m",
      "\u001b[0;31mAttributeError\u001b[0m                            Traceback (most recent call last)",
      "\u001b[1;32m/Users/kallejarvenpaa/Desktop/AI-fontti/aifont/02_ocrlearner.ipynb Cell 30'\u001b[0m in \u001b[0;36m<cell line: 2>\u001b[0;34m()\u001b[0m\n\u001b[1;32m      <a href='vscode-notebook-cell:/Users/kallejarvenpaa/Desktop/AI-fontti/aifont/02_ocrlearner.ipynb#ch0000028?line=0'>1</a>\u001b[0m lr \u001b[39m=\u001b[39m lrs\u001b[39m.\u001b[39mslide\n\u001b[0;32m----> <a href='vscode-notebook-cell:/Users/kallejarvenpaa/Desktop/AI-fontti/aifont/02_ocrlearner.ipynb#ch0000028?line=1'>2</a>\u001b[0m learn\u001b[39m.\u001b[39;49mfit_one_cycle(\u001b[39m10\u001b[39m, lr)\n\u001b[1;32m      <a href='vscode-notebook-cell:/Users/kallejarvenpaa/Desktop/AI-fontti/aifont/02_ocrlearner.ipynb#ch0000028?line=2'>3</a>\u001b[0m learn\u001b[39m.\u001b[39msave(\u001b[39m\"\u001b[39m\u001b[39mAZ_TMNIST_KaggleA_Adam_ep20\u001b[39m\u001b[39m\"\u001b[39m)\n",
      "\u001b[0;31mAttributeError\u001b[0m: 'NoneType' object has no attribute 'fit_one_cycle'"
     ]
    }
   ],
   "source": [
    "lr = lrs.slide\n",
    "learn.fit_one_cycle(10, lr)\n",
    "learn.save(\"AZ_TMNIST_KaggleA_Adam_ep20\")"
   ]
  },
  {
   "cell_type": "markdown",
   "metadata": {},
   "source": [
    "### Kaggle CNN A with A–Z\n",
    "\n",
    "Let's try with Kaggle learner A, with 807,162 params. Note that the original author used RMSProp.\n",
    "\n",
    "In the end we got to about 0.975 in ~12 epochs."
   ]
  },
  {
   "cell_type": "code",
   "execution_count": 381,
   "metadata": {},
   "outputs": [
    {
     "name": "stdout",
     "output_type": "stream",
     "text": [
      "WARN! Need to add custom normalisation scheme and check this doesn't expand channels!\n",
      "Warning! Undersampled to max 2240 items / category, using 56043 items of 372450.\n"
     ]
    },
    {
     "data": {
      "text/html": [],
      "text/plain": [
       "<IPython.core.display.HTML object>"
      ]
     },
     "metadata": {},
     "output_type": "display_data"
    },
    {
     "data": {
      "text/plain": [
       "SuggestedLRs(minimum=0.04365158379077912, steep=1.9054607152938843, valley=0.0005754399462603033, slide=0.0014454397605732083)"
      ]
     },
     "execution_count": 381,
     "metadata": {},
     "output_type": "execute_result"
    },
    {
     "data": {
      "image/png": "[encoded data removed]",
      "text/plain": [
       "<Figure size 432x288 with 1 Axes>"
      ]
     },
     "metadata": {
      "needs_background": "light"
     },
     "output_type": "display_data"
    }
   ],
   "source": [
    "learn = get_ocr_learner_2(bs=128)\n",
    "lrs = learn.lr_find(suggest_funcs=(minimum, steep, valley, slide))\n",
    "lrs"
   ]
  },
  {
   "cell_type": "code",
   "execution_count": 384,
   "metadata": {},
   "outputs": [
    {
     "data": {
      "text/html": [
       "<table border=\"1\" class=\"dataframe\">\n",
       "  <thead>\n",
       "    <tr style=\"text-align: left;\">\n",
       "      <th>epoch</th>\n",
       "      <th>train_loss</th>\n",
       "      <th>valid_loss</th>\n",
       "      <th>accuracy</th>\n",
       "      <th>time</th>\n",
       "    </tr>\n",
       "  </thead>\n",
       "  <tbody>\n",
       "    <tr>\n",
       "      <td>0</td>\n",
       "      <td>1.427275</td>\n",
       "      <td>1.147221</td>\n",
       "      <td>0.863847</td>\n",
       "      <td>01:30</td>\n",
       "    </tr>\n",
       "    <tr>\n",
       "      <td>1</td>\n",
       "      <td>1.073666</td>\n",
       "      <td>0.955968</td>\n",
       "      <td>0.931656</td>\n",
       "      <td>01:30</td>\n",
       "    </tr>\n",
       "    <tr>\n",
       "      <td>2</td>\n",
       "      <td>0.950433</td>\n",
       "      <td>0.877948</td>\n",
       "      <td>0.954764</td>\n",
       "      <td>01:25</td>\n",
       "    </tr>\n",
       "    <tr>\n",
       "      <td>3</td>\n",
       "      <td>0.899174</td>\n",
       "      <td>0.837020</td>\n",
       "      <td>0.964400</td>\n",
       "      <td>01:25</td>\n",
       "    </tr>\n",
       "    <tr>\n",
       "      <td>4</td>\n",
       "      <td>0.887624</td>\n",
       "      <td>0.828624</td>\n",
       "      <td>0.966096</td>\n",
       "      <td>01:25</td>\n",
       "    </tr>\n",
       "  </tbody>\n",
       "</table>"
      ],
      "text/plain": [
       "<IPython.core.display.HTML object>"
      ]
     },
     "metadata": {},
     "output_type": "display_data"
    },
    {
     "data": {
      "text/plain": [
       "Path('models/AZ_KaggleA_Adam_ep5.pth')"
      ]
     },
     "execution_count": 384,
     "metadata": {},
     "output_type": "execute_result"
    }
   ],
   "source": [
    "learn.fit_one_cycle(5, lrs.valley)\n",
    "learn.save(\"AZ_KaggleA_Adam_ep5\")"
   ]
  },
  {
   "cell_type": "code",
   "execution_count": 385,
   "metadata": {},
   "outputs": [
    {
     "data": {
      "text/html": [],
      "text/plain": [
       "<IPython.core.display.HTML object>"
      ]
     },
     "metadata": {},
     "output_type": "display_data"
    },
    {
     "data": {
      "text/plain": [
       "SuggestedLRs(minimum=1.737800812406931e-06, steep=1.0964781722577754e-06, valley=3.981071586167673e-06, slide=0.0003311311302240938)"
      ]
     },
     "execution_count": 385,
     "metadata": {},
     "output_type": "execute_result"
    },
    {
     "data": {
      "image/png": "[encoded data removed]",
      "text/plain": [
       "<Figure size 432x288 with 1 Axes>"
      ]
     },
     "metadata": {
      "needs_background": "light"
     },
     "output_type": "display_data"
    }
   ],
   "source": [
    "lrs_ep5 = learn.lr_find(suggest_funcs=(minimum, steep, valley, slide))\n",
    "lrs_ep5"
   ]
  },
  {
   "cell_type": "code",
   "execution_count": 386,
   "metadata": {},
   "outputs": [
    {
     "data": {
      "text/html": [
       "<table border=\"1\" class=\"dataframe\">\n",
       "  <thead>\n",
       "    <tr style=\"text-align: left;\">\n",
       "      <th>epoch</th>\n",
       "      <th>train_loss</th>\n",
       "      <th>valid_loss</th>\n",
       "      <th>accuracy</th>\n",
       "      <th>time</th>\n",
       "    </tr>\n",
       "  </thead>\n",
       "  <tbody>\n",
       "    <tr>\n",
       "      <td>0</td>\n",
       "      <td>0.887532</td>\n",
       "      <td>0.828507</td>\n",
       "      <td>0.966453</td>\n",
       "      <td>01:26</td>\n",
       "    </tr>\n",
       "    <tr>\n",
       "      <td>1</td>\n",
       "      <td>0.889081</td>\n",
       "      <td>0.827440</td>\n",
       "      <td>0.967345</td>\n",
       "      <td>01:23</td>\n",
       "    </tr>\n",
       "    <tr>\n",
       "      <td>2</td>\n",
       "      <td>0.887363</td>\n",
       "      <td>0.826695</td>\n",
       "      <td>0.967077</td>\n",
       "      <td>01:26</td>\n",
       "    </tr>\n",
       "    <tr>\n",
       "      <td>3</td>\n",
       "      <td>0.882653</td>\n",
       "      <td>0.825991</td>\n",
       "      <td>0.966899</td>\n",
       "      <td>01:26</td>\n",
       "    </tr>\n",
       "    <tr>\n",
       "      <td>4</td>\n",
       "      <td>0.882872</td>\n",
       "      <td>0.825622</td>\n",
       "      <td>0.966988</td>\n",
       "      <td>01:25</td>\n",
       "    </tr>\n",
       "    <tr>\n",
       "      <td>5</td>\n",
       "      <td>0.884416</td>\n",
       "      <td>0.825499</td>\n",
       "      <td>0.967434</td>\n",
       "      <td>01:24</td>\n",
       "    </tr>\n",
       "    <tr>\n",
       "      <td>6</td>\n",
       "      <td>0.881002</td>\n",
       "      <td>0.825093</td>\n",
       "      <td>0.967077</td>\n",
       "      <td>01:25</td>\n",
       "    </tr>\n",
       "    <tr>\n",
       "      <td>7</td>\n",
       "      <td>0.880805</td>\n",
       "      <td>0.825239</td>\n",
       "      <td>0.967434</td>\n",
       "      <td>01:25</td>\n",
       "    </tr>\n",
       "    <tr>\n",
       "      <td>8</td>\n",
       "      <td>0.881626</td>\n",
       "      <td>0.824835</td>\n",
       "      <td>0.967523</td>\n",
       "      <td>01:23</td>\n",
       "    </tr>\n",
       "    <tr>\n",
       "      <td>9</td>\n",
       "      <td>0.888233</td>\n",
       "      <td>0.825037</td>\n",
       "      <td>0.967166</td>\n",
       "      <td>01:23</td>\n",
       "    </tr>\n",
       "  </tbody>\n",
       "</table>"
      ],
      "text/plain": [
       "<IPython.core.display.HTML object>"
      ]
     },
     "metadata": {},
     "output_type": "display_data"
    },
    {
     "data": {
      "text/plain": [
       "Path('models/AZ_KaggleA_Adam_ep15.pth')"
      ]
     },
     "execution_count": 386,
     "metadata": {},
     "output_type": "execute_result"
    }
   ],
   "source": [
    "lr = lrs_ep5.valley\n",
    "learn.fit_one_cycle(10, lr_max=slice(lr/50, lr))\n",
    "learn.save(\"AZ_KaggleA_Adam_ep15\")"
   ]
  },
  {
   "cell_type": "markdown",
   "metadata": {},
   "source": [
    "The lr was obviously too low, so let's pick a higher one."
   ]
  },
  {
   "cell_type": "code",
   "execution_count": 387,
   "metadata": {},
   "outputs": [
    {
     "data": {
      "text/html": [
       "<table border=\"1\" class=\"dataframe\">\n",
       "  <thead>\n",
       "    <tr style=\"text-align: left;\">\n",
       "      <th>epoch</th>\n",
       "      <th>train_loss</th>\n",
       "      <th>valid_loss</th>\n",
       "      <th>accuracy</th>\n",
       "      <th>time</th>\n",
       "    </tr>\n",
       "  </thead>\n",
       "  <tbody>\n",
       "    <tr>\n",
       "      <td>0</td>\n",
       "      <td>0.888399</td>\n",
       "      <td>0.830050</td>\n",
       "      <td>0.963419</td>\n",
       "      <td>01:22</td>\n",
       "    </tr>\n",
       "    <tr>\n",
       "      <td>1</td>\n",
       "      <td>0.897186</td>\n",
       "      <td>0.832146</td>\n",
       "      <td>0.963687</td>\n",
       "      <td>01:22</td>\n",
       "    </tr>\n",
       "    <tr>\n",
       "      <td>2</td>\n",
       "      <td>0.884049</td>\n",
       "      <td>0.815374</td>\n",
       "      <td>0.968594</td>\n",
       "      <td>01:22</td>\n",
       "    </tr>\n",
       "    <tr>\n",
       "      <td>3</td>\n",
       "      <td>0.859040</td>\n",
       "      <td>0.811283</td>\n",
       "      <td>0.966720</td>\n",
       "      <td>01:24</td>\n",
       "    </tr>\n",
       "    <tr>\n",
       "      <td>4</td>\n",
       "      <td>0.852477</td>\n",
       "      <td>0.796069</td>\n",
       "      <td>0.970914</td>\n",
       "      <td>01:26</td>\n",
       "    </tr>\n",
       "    <tr>\n",
       "      <td>5</td>\n",
       "      <td>0.842758</td>\n",
       "      <td>0.788758</td>\n",
       "      <td>0.972163</td>\n",
       "      <td>01:22</td>\n",
       "    </tr>\n",
       "    <tr>\n",
       "      <td>6</td>\n",
       "      <td>0.840113</td>\n",
       "      <td>0.784477</td>\n",
       "      <td>0.973590</td>\n",
       "      <td>01:27</td>\n",
       "    </tr>\n",
       "    <tr>\n",
       "      <td>7</td>\n",
       "      <td>0.821083</td>\n",
       "      <td>0.776635</td>\n",
       "      <td>0.974661</td>\n",
       "      <td>01:19</td>\n",
       "    </tr>\n",
       "    <tr>\n",
       "      <td>8</td>\n",
       "      <td>0.810697</td>\n",
       "      <td>0.774374</td>\n",
       "      <td>0.974929</td>\n",
       "      <td>01:17</td>\n",
       "    </tr>\n",
       "    <tr>\n",
       "      <td>9</td>\n",
       "      <td>0.818089</td>\n",
       "      <td>0.773496</td>\n",
       "      <td>0.975286</td>\n",
       "      <td>01:17</td>\n",
       "    </tr>\n",
       "  </tbody>\n",
       "</table>"
      ],
      "text/plain": [
       "<IPython.core.display.HTML object>"
      ]
     },
     "metadata": {},
     "output_type": "display_data"
    },
    {
     "data": {
      "text/plain": [
       "Path('models/AZ_KaggleA_Adam_ep25.pth')"
      ]
     },
     "execution_count": 387,
     "metadata": {},
     "output_type": "execute_result"
    }
   ],
   "source": [
    "lr = lrs_ep5.slide\n",
    "learn.fit_one_cycle(10, lr_max=slice(lr/50, lr))\n",
    "learn.save(\"AZ_KaggleA_Adam_ep25\")"
   ]
  },
  {
   "cell_type": "markdown",
   "metadata": {},
   "source": [
    "This is pretty good but much less than our example of 99.9% accuracy. That seems the be calculated on the imbalanced dataset without smoothing, so it might be skewed. Let's train more."
   ]
  },
  {
   "cell_type": "code",
   "execution_count": 388,
   "metadata": {},
   "outputs": [
    {
     "data": {
      "text/html": [],
      "text/plain": [
       "<IPython.core.display.HTML object>"
      ]
     },
     "metadata": {},
     "output_type": "display_data"
    },
    {
     "data": {
      "text/plain": [
       "SuggestedLRs(minimum=6.30957365501672e-06, steep=1.5848931980144698e-06, valley=4.365158383734524e-05, slide=0.010964781977236271)"
      ]
     },
     "execution_count": 388,
     "metadata": {},
     "output_type": "execute_result"
    },
    {
     "data": {
      "image/png": "[encoded data removed]",
      "text/plain": [
       "<Figure size 432x288 with 1 Axes>"
      ]
     },
     "metadata": {
      "needs_background": "light"
     },
     "output_type": "display_data"
    }
   ],
   "source": [
    "lrs_ep25 = learn.lr_find(suggest_funcs=(minimum, steep, valley, slide))\n",
    "lrs_ep25"
   ]
  },
  {
   "cell_type": "markdown",
   "metadata": {},
   "source": [
    "We can keep the learning rate same as with the previous."
   ]
  },
  {
   "cell_type": "code",
   "execution_count": 394,
   "metadata": {},
   "outputs": [
    {
     "data": {
      "text/html": [
       "<table border=\"1\" class=\"dataframe\">\n",
       "  <thead>\n",
       "    <tr style=\"text-align: left;\">\n",
       "      <th>epoch</th>\n",
       "      <th>train_loss</th>\n",
       "      <th>valid_loss</th>\n",
       "      <th>accuracy</th>\n",
       "      <th>time</th>\n",
       "    </tr>\n",
       "  </thead>\n",
       "  <tbody>\n",
       "    <tr>\n",
       "      <td>0</td>\n",
       "      <td>0.819499</td>\n",
       "      <td>0.778946</td>\n",
       "      <td>0.975107</td>\n",
       "      <td>01:43</td>\n",
       "    </tr>\n",
       "    <tr>\n",
       "      <td>1</td>\n",
       "      <td>0.838656</td>\n",
       "      <td>0.789813</td>\n",
       "      <td>0.971717</td>\n",
       "      <td>01:32</td>\n",
       "    </tr>\n",
       "    <tr>\n",
       "      <td>2</td>\n",
       "      <td>0.835209</td>\n",
       "      <td>0.784419</td>\n",
       "      <td>0.971717</td>\n",
       "      <td>01:41</td>\n",
       "    </tr>\n",
       "    <tr>\n",
       "      <td>3</td>\n",
       "      <td>0.832525</td>\n",
       "      <td>0.781969</td>\n",
       "      <td>0.971717</td>\n",
       "      <td>01:37</td>\n",
       "    </tr>\n",
       "    <tr>\n",
       "      <td>4</td>\n",
       "      <td>0.824483</td>\n",
       "      <td>0.778975</td>\n",
       "      <td>0.973680</td>\n",
       "      <td>01:36</td>\n",
       "    </tr>\n",
       "    <tr>\n",
       "      <td>5</td>\n",
       "      <td>0.812837</td>\n",
       "      <td>0.772739</td>\n",
       "      <td>0.974393</td>\n",
       "      <td>01:37</td>\n",
       "    </tr>\n",
       "    <tr>\n",
       "      <td>6</td>\n",
       "      <td>0.809515</td>\n",
       "      <td>0.767931</td>\n",
       "      <td>0.978051</td>\n",
       "      <td>01:41</td>\n",
       "    </tr>\n",
       "    <tr>\n",
       "      <td>7</td>\n",
       "      <td>0.798968</td>\n",
       "      <td>0.760776</td>\n",
       "      <td>0.976535</td>\n",
       "      <td>01:28</td>\n",
       "    </tr>\n",
       "    <tr>\n",
       "      <td>8</td>\n",
       "      <td>0.797000</td>\n",
       "      <td>0.759097</td>\n",
       "      <td>0.978051</td>\n",
       "      <td>01:32</td>\n",
       "    </tr>\n",
       "    <tr>\n",
       "      <td>9</td>\n",
       "      <td>0.791847</td>\n",
       "      <td>0.758594</td>\n",
       "      <td>0.978051</td>\n",
       "      <td>01:35</td>\n",
       "    </tr>\n",
       "  </tbody>\n",
       "</table>"
      ],
      "text/plain": [
       "<IPython.core.display.HTML object>"
      ]
     },
     "metadata": {},
     "output_type": "display_data"
    },
    {
     "data": {
      "text/plain": [
       "Path('models/AZ_KaggleA_Adam_ep35.pth')"
      ]
     },
     "execution_count": 394,
     "metadata": {},
     "output_type": "execute_result"
    }
   ],
   "source": [
    "learn.load(\"AZ_KaggleA_Adam_ep25\")\n",
    "lr = lrs_ep5.slide\n",
    "learn.fit_one_cycle(10, lr_max=slice(lr/50, lr))\n",
    "learn.save(\"AZ_KaggleA_Adam_ep35\")"
   ]
  },
  {
   "cell_type": "markdown",
   "metadata": {},
   "source": [
    "### First Resnet type attempts"
   ]
  },
  {
   "cell_type": "code",
   "execution_count": 166,
   "metadata": {},
   "outputs": [],
   "source": [
    "#export\n",
    "\n",
    "def create_nist_learner(path = NIST_PATH, model_path = MODELS_PATH, vocab = None,\n",
    "                        cut = 5, size = 128) -> Learner:\n",
    "\n",
    "    enable_global_greyscale()\n",
    "\n",
    "    fnames = get_nist_images(vocab=vocab, \n",
    "                             path=path,\n",
    "                             show_stats=False)\n",
    "    tfms = aug_transforms(mult=1.0, do_flip=False, flip_vert=False, max_rotate=5.0, \n",
    "                          min_zoom=0.85, max_zoom=1.15, max_warp=0.1, p_affine=.5, \n",
    "                          p_lighting=0., xtra_tfms=None, size=size, mode='bilinear', \n",
    "                          pad_mode='reflection', align_corners=True, batch=False, \n",
    "                          min_scale=1.0)\n",
    "    del(tfms[1]) # Remove lighting tfm\n",
    "    print(\"WARN! Need to add custom normalisation scheme and check this doesn't expand channels!\")\n",
    "    # Normalize.from_stats(mean,std)\n",
    "    # https://docs.fast.ai/data.transforms.html#Normalize\n",
    "    # X_train_mean = X_train.mean().astype(np.float32)\n",
    "    # X_train_std = X_train.std().astype(np.float32)\n",
    "    # X_test_mean = X_test.mean().astype(np.float32)\n",
    "    # X_test_std = X_test.std().astype(np.float32)\n",
    "\n",
    "    # X_train = (X_train - X_train_mean)/X_train_std\n",
    "    # X_test = (X_test - X_test_mean)/X_test_std\n",
    "    dls = ImageDataLoaders.from_name_func(path, fnames, nist_from_name_func, \n",
    "                                          num_workers=0,   # Needed for Mac\n",
    "                                          valid_pct=0.2, \n",
    "                                          batch_tfms=tfms, # This raises if used as item_tfms\n",
    "                                          seed=42)\n",
    "\n",
    "\n",
    "    \n",
    "    learn = cnn_learner(dls, resnet18, \n",
    "                        n_in=1,\n",
    "                        normalize=False, # ImageNet norm makes image 3-channel\n",
    "                        path=\".\", \n",
    "                        model_dir=model_path, \n",
    "                        loss_func=CrossEntropyLossFlat(), \n",
    "                        metrics=accuracy,\n",
    "                        cut=cut)\n",
    "    return learn"
   ]
  },
  {
   "cell_type": "markdown",
   "metadata": {},
   "source": [
    "Let's create a NIST model now for testing. With cut=5 and size=128, the performance was not stellar.\n",
    "\n",
    "Let's try one with no cut and downsize inputs for testing."
   ]
  },
  {
   "cell_type": "code",
   "execution_count": 169,
   "metadata": {},
   "outputs": [
    {
     "name": "stdout",
     "output_type": "stream",
     "text": [
      "WARNING! Enabling global grayscale behaviour for PILImages! To undo, call disable_global_greyscale.\n",
      "Warning! Undersampled to max 3840 items / category, using 212372 items of 731668.\n"
     ]
    },
    {
     "data": {
      "text/html": [],
      "text/plain": [
       "<IPython.core.display.HTML object>"
      ]
     },
     "metadata": {},
     "output_type": "display_data"
    },
    {
     "data": {
      "text/plain": [
       "Sequential (Input shape: 64 x 1 x 64 x 64)\n",
       "============================================================================\n",
       "Layer (type)         Output Shape         Param #    Trainable \n",
       "============================================================================\n",
       "                     64 x 64 x 32 x 32   \n",
       "Conv2d                                    3136       False     \n",
       "BatchNorm2d                               128        True      \n",
       "ReLU                                                           \n",
       "____________________________________________________________________________\n",
       "                     64 x 64 x 16 x 16   \n",
       "MaxPool2d                                                      \n",
       "Conv2d                                    36864      False     \n",
       "BatchNorm2d                               128        True      \n",
       "ReLU                                                           \n",
       "Conv2d                                    36864      False     \n",
       "BatchNorm2d                               128        True      \n",
       "Conv2d                                    36864      False     \n",
       "BatchNorm2d                               128        True      \n",
       "ReLU                                                           \n",
       "Conv2d                                    36864      False     \n",
       "BatchNorm2d                               128        True      \n",
       "____________________________________________________________________________\n",
       "                     64 x 128 x 8 x 8    \n",
       "Conv2d                                    73728      False     \n",
       "BatchNorm2d                               256        True      \n",
       "ReLU                                                           \n",
       "Conv2d                                    147456     False     \n",
       "BatchNorm2d                               256        True      \n",
       "Conv2d                                    8192       False     \n",
       "BatchNorm2d                               256        True      \n",
       "Conv2d                                    147456     False     \n",
       "BatchNorm2d                               256        True      \n",
       "ReLU                                                           \n",
       "Conv2d                                    147456     False     \n",
       "BatchNorm2d                               256        True      \n",
       "____________________________________________________________________________\n",
       "                     64 x 128 x 1 x 1    \n",
       "AdaptiveAvgPool2d                                              \n",
       "AdaptiveMaxPool2d                                              \n",
       "____________________________________________________________________________\n",
       "                     64 x 256            \n",
       "Flatten                                                        \n",
       "BatchNorm1d                               512        True      \n",
       "Dropout                                                        \n",
       "____________________________________________________________________________\n",
       "                     64 x 512            \n",
       "Linear                                    131072     True      \n",
       "ReLU                                                           \n",
       "BatchNorm1d                               1024       True      \n",
       "Dropout                                                        \n",
       "____________________________________________________________________________\n",
       "                     64 x 62             \n",
       "Linear                                    31744      True      \n",
       "____________________________________________________________________________\n",
       "\n",
       "Total params: 841,152\n",
       "Total trainable params: 166,272\n",
       "Total non-trainable params: 674,880\n",
       "\n",
       "Optimizer used: <function Adam at 0x148d5f700>\n",
       "Loss function: <function cross_entropy at 0x143375ee0>\n",
       "\n",
       "Model frozen up to parameter group #2\n",
       "\n",
       "Callbacks:\n",
       "  - TrainEvalCallback\n",
       "  - Recorder\n",
       "  - ProgressCallback"
      ]
     },
     "execution_count": 169,
     "metadata": {},
     "output_type": "execute_result"
    }
   ],
   "source": [
    "# learn = create_nist_learner(cut = 5, size = 128)\n",
    "# learn.load(\"OCR_NIST_resnet18_ep3\")\n",
    "\n",
    "learn.summary()"
   ]
  },
  {
   "cell_type": "code",
   "execution_count": 175,
   "metadata": {},
   "outputs": [
    {
     "data": {
      "text/plain": [
       "583126"
      ]
     },
     "execution_count": 175,
     "metadata": {},
     "output_type": "execute_result"
    }
   ],
   "source": [
    "learn = None\n",
    "gc.collect()"
   ]
  },
  {
   "cell_type": "markdown",
   "metadata": {},
   "source": [
    "### Previous Results"
   ]
  },
  {
   "cell_type": "markdown",
   "metadata": {},
   "source": [
    "Cut=6, size=64, 841,152 params, accuracy after 1 epoch at lr 1e-2 is 0.673612"
   ]
  },
  {
   "cell_type": "markdown",
   "metadata": {},
   "source": [
    "Note that the model is frozen, even though it's not pretrained, which is quite strange... Let's unfreeze the model and plot LR again. (Well, the plot is very similar to the previous one.)"
   ]
  },
  {
   "cell_type": "code",
   "execution_count": 170,
   "metadata": {},
   "outputs": [
    {
     "data": {
      "text/html": [],
      "text/plain": [
       "<IPython.core.display.HTML object>"
      ]
     },
     "metadata": {},
     "output_type": "display_data"
    },
    {
     "data": {
      "text/plain": [
       "SuggestedLRs(minimum=0.005754399299621582, steep=0.033113110810518265, valley=0.0006918309954926372, slide=0.001737800776027143)"
      ]
     },
     "execution_count": 170,
     "metadata": {},
     "output_type": "execute_result"
    },
    {
     "data": {
      "image/png": "[encoded data removed]",
      "text/plain": [
       "<Figure size 432x288 with 1 Axes>"
      ]
     },
     "metadata": {
      "needs_background": "light"
     },
     "output_type": "display_data"
    }
   ],
   "source": [
    "learn = create_nist_learner(cut = 6, size = 128 // 2)\n",
    "learn.unfreeze()\n",
    "lrs = learn.lr_find(suggest_funcs=(minimum, steep, valley, slide))\n",
    "lrs"
   ]
  },
  {
   "cell_type": "code",
   "execution_count": 171,
   "metadata": {},
   "outputs": [
    {
     "data": {
      "text/html": [
       "<table border=\"1\" class=\"dataframe\">\n",
       "  <thead>\n",
       "    <tr style=\"text-align: left;\">\n",
       "      <th>epoch</th>\n",
       "      <th>train_loss</th>\n",
       "      <th>valid_loss</th>\n",
       "      <th>accuracy</th>\n",
       "      <th>time</th>\n",
       "    </tr>\n",
       "  </thead>\n",
       "  <tbody>\n",
       "    <tr>\n",
       "      <td>0</td>\n",
       "      <td>0.821686</td>\n",
       "      <td>0.917308</td>\n",
       "      <td>0.673612</td>\n",
       "      <td>2:09:09</td>\n",
       "    </tr>\n",
       "    <tr>\n",
       "      <td>1</td>\n",
       "      <td>0.611677</td>\n",
       "      <td>0.503927</td>\n",
       "      <td>0.790460</td>\n",
       "      <td>58:27</td>\n",
       "    </tr>\n",
       "    <tr>\n",
       "      <td>2</td>\n",
       "      <td>0.503300</td>\n",
       "      <td>0.445421</td>\n",
       "      <td>0.821915</td>\n",
       "      <td>39:39</td>\n",
       "    </tr>\n",
       "  </tbody>\n",
       "</table>"
      ],
      "text/plain": [
       "<IPython.core.display.HTML object>"
      ]
     },
     "metadata": {},
     "output_type": "display_data"
    },
    {
     "data": {
      "image/png": "[encoded data removed]",
      "text/plain": [
       "<Figure size 432x288 with 1 Axes>"
      ]
     },
     "metadata": {
      "needs_background": "light"
     },
     "output_type": "display_data"
    }
   ],
   "source": [
    "learn.fit_one_cycle(3, 1e-2)\n",
    "learn.save(\"OCR_NIST_resnet18_cut6_size62_ep3\")\n",
    "learn.recorder.plot_loss()"
   ]
  },
  {
   "cell_type": "markdown",
   "metadata": {},
   "source": [
    "For cut=5, size=128, accuracy after 3 epochs at lr 1e-2 is 0.801573"
   ]
  },
  {
   "cell_type": "code",
   "execution_count": 151,
   "metadata": {},
   "outputs": [
    {
     "data": {
      "text/html": [
       "<table border=\"1\" class=\"dataframe\">\n",
       "  <thead>\n",
       "    <tr style=\"text-align: left;\">\n",
       "      <th>epoch</th>\n",
       "      <th>train_loss</th>\n",
       "      <th>valid_loss</th>\n",
       "      <th>accuracy</th>\n",
       "      <th>time</th>\n",
       "    </tr>\n",
       "  </thead>\n",
       "  <tbody>\n",
       "    <tr>\n",
       "      <td>0</td>\n",
       "      <td>0.849524</td>\n",
       "      <td>2.152726</td>\n",
       "      <td>0.380444</td>\n",
       "      <td>1:27:59</td>\n",
       "    </tr>\n",
       "    <tr>\n",
       "      <td>1</td>\n",
       "      <td>0.668341</td>\n",
       "      <td>0.670599</td>\n",
       "      <td>0.725832</td>\n",
       "      <td>1:23:16</td>\n",
       "    </tr>\n",
       "    <tr>\n",
       "      <td>2</td>\n",
       "      <td>0.545992</td>\n",
       "      <td>0.475553</td>\n",
       "      <td>0.801573</td>\n",
       "      <td>1:22:36</td>\n",
       "    </tr>\n",
       "  </tbody>\n",
       "</table>"
      ],
      "text/plain": [
       "<IPython.core.display.HTML object>"
      ]
     },
     "metadata": {},
     "output_type": "display_data"
    },
    {
     "data": {
      "image/png": "[encoded data removed]",
      "text/plain": [
       "<Figure size 432x288 with 1 Axes>"
      ]
     },
     "metadata": {
      "needs_background": "light"
     },
     "output_type": "display_data"
    }
   ],
   "source": [
    "learn.fit_one_cycle(3, 1e-2)\n",
    "# learn.save(\"OCR_NIST_resnet18_ep3\")\n",
    "learn.recorder.plot_loss()"
   ]
  },
  {
   "cell_type": "code",
   "execution_count": 59,
   "metadata": {},
   "outputs": [],
   "source": [
    "#hide\n",
    "\n",
    "# It would be nice to have an oversampling method ready, but the code below is for Fast.ai v1\n",
    "# and would have to be converted to probably something tied to the DataLoader.\n",
    "\n",
    "from torch.utils.data.sampler import WeightedRandomSampler\n",
    "\n",
    "class OverSamplingCallback(Callback):\n",
    "    \"\"\"Oversampling to correct unbalanced dataset.\n",
    "       By Tanishq Mathew Abraham, https://www.kaggle.com/code/tanlikesmath/oversampling-mnist-with-fastai/notebook\"\"\"\n",
    "    def __init__(self,learn:Learner):\n",
    "        super().__init__(learn)\n",
    "        ds = self.learn.data.train_dl.dataset\n",
    "        self.labels = ds.y.items\n",
    "        _, counts = np.unique(self.labels, return_counts=True)\n",
    "        self.weights = torch.DoubleTensor((1/counts)[self.labels])\n",
    "        self.label_counts = np.bincount([self.learn.data.train_dl.dataset.y[i].data \\\n",
    "                                         for i in range(len(ds))])\n",
    "        self.total_len_oversample = int(self.learn.data.c * np.max(self.label_counts))\n",
    "        \n",
    "    def before_train(self, **kwargs):\n",
    "        self.learn.data.train_dl.dl.batch_sampler = BatchSampler(WeightedRandomSampler(self.weights, self.total_len_oversample), \n",
    "                                                                 self.learn.data.train_dl.batch_size,\n",
    "                                                                 False)"
   ]
  },
  {
   "cell_type": "markdown",
   "metadata": {},
   "source": [
    "## Older Models"
   ]
  },
  {
   "cell_type": "code",
   "execution_count": 45,
   "metadata": {},
   "outputs": [],
   "source": [
    "#export\n",
    "\n",
    "def create_ocr_model(epochs=1, save_as = \"OCR_resnet18_wip\", \n",
    "                     load_from: str = None, cut: int = None,\n",
    "                     resize: int = None) -> Learner:\n",
    "    \"\"\"Create a simple resnet18-based OCR model cut at `cut` with images \n",
    "       optionally resized to `resize` and fine-tuning for `epochs`, \n",
    "       or load one from `load_from`.\"\"\"\n",
    "    path = GOOGLE_FONT_PATH\n",
    "    model_path = \"models\"\n",
    "    fnames = get_image_files(path)\n",
    "    pat = r\"^([^_]+)_.+$\"\n",
    "    for f in fnames: assert re.search(pat, str(f)) is not None\n",
    "\n",
    "    dls = ImageDataLoaders.from_name_re(path, fnames, pat, \n",
    "                                        num_workers=0, # NEEDED FOR MAC!\n",
    "                                        valid_pct=0.2, \n",
    "                                        item_tfms=Resize(resize, method=ResizeMethod.Squish) if resize is not None else None,\n",
    "                                        seed=42)\n",
    "    learn = cnn_learner(dls, resnet18, \n",
    "                        path=\".\", \n",
    "                        model_dir=model_path, \n",
    "                        loss_func=F.cross_entropy, \n",
    "                        metrics=accuracy,\n",
    "                        cut=cut)\n",
    "\n",
    "    if load_from is not None: \n",
    "        learn.load(load_from)\n",
    "    elif epochs is not None:\n",
    "        learn.fine_tune(epochs)\n",
    "        learn.save(save_as)\n",
    "\n",
    "    return learn\n",
    "\n",
    "def get_ocr_model(cut: int = None, img_size: int = None) -> Learner:\n",
    "    \"\"\"Get a basic pretrained ocr model cut at `cut` and with input \n",
    "       at `img_size`.\"\"\"\n",
    "    file = \"OCR_resnet18\"\n",
    "    if cut is not None: file += f\"_cut{cut}\"\n",
    "    if img_size is not None: file += f\"_imgsize{img_size}\"\n",
    "    return create_ocr_model(load_from=file, cut=cut, resize=img_size)"
   ]
  },
  {
   "cell_type": "markdown",
   "metadata": {},
   "source": [
    "Create OCR learner versions with different body-head cuts. Cut 8 equals the default with parameter numbers as follows:\n",
    "\n",
    "|Cut     | Total params | Trainable  |\n",
    "|-------:|-------------:|-----------:|\n",
    "| 5      |      237,632 |     80,768 |\n",
    "| 6      |      828,992 |    147,840 |\n",
    "| 7      |    3,060,288 |    281,984 |\n",
    "| 8/None |   11,717,184 |    550,272 |"
   ]
  },
  {
   "cell_type": "code",
   "execution_count": 33,
   "metadata": {},
   "outputs": [
    {
     "name": "stdout",
     "output_type": "stream",
     "text": [
      "Generating OCR_resnet18_cut_5_ep_\n"
     ]
    },
    {
     "data": {
      "text/html": [
       "<table border=\"1\" class=\"dataframe\">\n",
       "  <thead>\n",
       "    <tr style=\"text-align: left;\">\n",
       "      <th>epoch</th>\n",
       "      <th>train_loss</th>\n",
       "      <th>valid_loss</th>\n",
       "      <th>accuracy</th>\n",
       "      <th>time</th>\n",
       "    </tr>\n",
       "  </thead>\n",
       "  <tbody>\n",
       "    <tr>\n",
       "      <td>0</td>\n",
       "      <td>1.605312</td>\n",
       "      <td>0.484268</td>\n",
       "      <td>0.867357</td>\n",
       "      <td>12:59</td>\n",
       "    </tr>\n",
       "  </tbody>\n",
       "</table>"
      ],
      "text/plain": [
       "<IPython.core.display.HTML object>"
      ]
     },
     "metadata": {},
     "output_type": "display_data"
    },
    {
     "data": {
      "text/html": [
       "<table border=\"1\" class=\"dataframe\">\n",
       "  <thead>\n",
       "    <tr style=\"text-align: left;\">\n",
       "      <th>epoch</th>\n",
       "      <th>train_loss</th>\n",
       "      <th>valid_loss</th>\n",
       "      <th>accuracy</th>\n",
       "      <th>time</th>\n",
       "    </tr>\n",
       "  </thead>\n",
       "  <tbody>\n",
       "    <tr>\n",
       "      <td>0</td>\n",
       "      <td>0.716697</td>\n",
       "      <td>0.353588</td>\n",
       "      <td>0.908749</td>\n",
       "      <td>16:04</td>\n",
       "    </tr>\n",
       "  </tbody>\n",
       "</table>"
      ],
      "text/plain": [
       "<IPython.core.display.HTML object>"
      ]
     },
     "metadata": {},
     "output_type": "display_data"
    },
    {
     "data": {
      "text/html": [
       "<table border=\"1\" class=\"dataframe\">\n",
       "  <thead>\n",
       "    <tr style=\"text-align: left;\">\n",
       "      <th>epoch</th>\n",
       "      <th>train_loss</th>\n",
       "      <th>valid_loss</th>\n",
       "      <th>accuracy</th>\n",
       "      <th>time</th>\n",
       "    </tr>\n",
       "  </thead>\n",
       "  <tbody>\n",
       "    <tr>\n",
       "      <td>0</td>\n",
       "      <td>0.566932</td>\n",
       "      <td>0.291424</td>\n",
       "      <td>0.922389</td>\n",
       "      <td>11:52</td>\n",
       "    </tr>\n",
       "  </tbody>\n",
       "</table>"
      ],
      "text/plain": [
       "<IPython.core.display.HTML object>"
      ]
     },
     "metadata": {},
     "output_type": "display_data"
    },
    {
     "data": {
      "text/html": [
       "<table border=\"1\" class=\"dataframe\">\n",
       "  <thead>\n",
       "    <tr style=\"text-align: left;\">\n",
       "      <th>epoch</th>\n",
       "      <th>train_loss</th>\n",
       "      <th>valid_loss</th>\n",
       "      <th>accuracy</th>\n",
       "      <th>time</th>\n",
       "    </tr>\n",
       "  </thead>\n",
       "  <tbody>\n",
       "    <tr>\n",
       "      <td>0</td>\n",
       "      <td>0.460128</td>\n",
       "      <td>0.259752</td>\n",
       "      <td>0.931326</td>\n",
       "      <td>18:02</td>\n",
       "    </tr>\n",
       "  </tbody>\n",
       "</table>"
      ],
      "text/plain": [
       "<IPython.core.display.HTML object>"
      ]
     },
     "metadata": {},
     "output_type": "display_data"
    },
    {
     "data": {
      "text/html": [
       "<table border=\"1\" class=\"dataframe\">\n",
       "  <thead>\n",
       "    <tr style=\"text-align: left;\">\n",
       "      <th>epoch</th>\n",
       "      <th>train_loss</th>\n",
       "      <th>valid_loss</th>\n",
       "      <th>accuracy</th>\n",
       "      <th>time</th>\n",
       "    </tr>\n",
       "  </thead>\n",
       "  <tbody>\n",
       "    <tr>\n",
       "      <td>0</td>\n",
       "      <td>0.449595</td>\n",
       "      <td>0.255861</td>\n",
       "      <td>0.935089</td>\n",
       "      <td>13:07</td>\n",
       "    </tr>\n",
       "  </tbody>\n",
       "</table>"
      ],
      "text/plain": [
       "<IPython.core.display.HTML object>"
      ]
     },
     "metadata": {},
     "output_type": "display_data"
    },
    {
     "data": {
      "text/html": [
       "<table border=\"1\" class=\"dataframe\">\n",
       "  <thead>\n",
       "    <tr style=\"text-align: left;\">\n",
       "      <th>epoch</th>\n",
       "      <th>train_loss</th>\n",
       "      <th>valid_loss</th>\n",
       "      <th>accuracy</th>\n",
       "      <th>time</th>\n",
       "    </tr>\n",
       "  </thead>\n",
       "  <tbody>\n",
       "    <tr>\n",
       "      <td>0</td>\n",
       "      <td>0.382626</td>\n",
       "      <td>0.224435</td>\n",
       "      <td>0.947319</td>\n",
       "      <td>16:06</td>\n",
       "    </tr>\n",
       "  </tbody>\n",
       "</table>"
      ],
      "text/plain": [
       "<IPython.core.display.HTML object>"
      ]
     },
     "metadata": {},
     "output_type": "display_data"
    },
    {
     "data": {
      "text/html": [
       "<table border=\"1\" class=\"dataframe\">\n",
       "  <thead>\n",
       "    <tr style=\"text-align: left;\">\n",
       "      <th>epoch</th>\n",
       "      <th>train_loss</th>\n",
       "      <th>valid_loss</th>\n",
       "      <th>accuracy</th>\n",
       "      <th>time</th>\n",
       "    </tr>\n",
       "  </thead>\n",
       "  <tbody>\n",
       "    <tr>\n",
       "      <td>0</td>\n",
       "      <td>0.363155</td>\n",
       "      <td>0.214040</td>\n",
       "      <td>0.945437</td>\n",
       "      <td>12:05</td>\n",
       "    </tr>\n",
       "  </tbody>\n",
       "</table>"
      ],
      "text/plain": [
       "<IPython.core.display.HTML object>"
      ]
     },
     "metadata": {},
     "output_type": "display_data"
    },
    {
     "data": {
      "text/html": [
       "<table border=\"1\" class=\"dataframe\">\n",
       "  <thead>\n",
       "    <tr style=\"text-align: left;\">\n",
       "      <th>epoch</th>\n",
       "      <th>train_loss</th>\n",
       "      <th>valid_loss</th>\n",
       "      <th>accuracy</th>\n",
       "      <th>time</th>\n",
       "    </tr>\n",
       "  </thead>\n",
       "  <tbody>\n",
       "    <tr>\n",
       "      <td>0</td>\n",
       "      <td>0.306389</td>\n",
       "      <td>0.199166</td>\n",
       "      <td>0.952963</td>\n",
       "      <td>16:50</td>\n",
       "    </tr>\n",
       "  </tbody>\n",
       "</table>"
      ],
      "text/plain": [
       "<IPython.core.display.HTML object>"
      ]
     },
     "metadata": {},
     "output_type": "display_data"
    },
    {
     "data": {
      "text/html": [
       "<table border=\"1\" class=\"dataframe\">\n",
       "  <thead>\n",
       "    <tr style=\"text-align: left;\">\n",
       "      <th>epoch</th>\n",
       "      <th>train_loss</th>\n",
       "      <th>valid_loss</th>\n",
       "      <th>accuracy</th>\n",
       "      <th>time</th>\n",
       "    </tr>\n",
       "  </thead>\n",
       "  <tbody>\n",
       "    <tr>\n",
       "      <td>0</td>\n",
       "      <td>0.303421</td>\n",
       "      <td>0.205631</td>\n",
       "      <td>0.948260</td>\n",
       "      <td>11:46</td>\n",
       "    </tr>\n",
       "  </tbody>\n",
       "</table>"
      ],
      "text/plain": [
       "<IPython.core.display.HTML object>"
      ]
     },
     "metadata": {},
     "output_type": "display_data"
    },
    {
     "data": {
      "text/html": [
       "<table border=\"1\" class=\"dataframe\">\n",
       "  <thead>\n",
       "    <tr style=\"text-align: left;\">\n",
       "      <th>epoch</th>\n",
       "      <th>train_loss</th>\n",
       "      <th>valid_loss</th>\n",
       "      <th>accuracy</th>\n",
       "      <th>time</th>\n",
       "    </tr>\n",
       "  </thead>\n",
       "  <tbody>\n",
       "    <tr>\n",
       "      <td>0</td>\n",
       "      <td>0.266260</td>\n",
       "      <td>0.186818</td>\n",
       "      <td>0.952023</td>\n",
       "      <td>15:56</td>\n",
       "    </tr>\n",
       "  </tbody>\n",
       "</table>"
      ],
      "text/plain": [
       "<IPython.core.display.HTML object>"
      ]
     },
     "metadata": {},
     "output_type": "display_data"
    },
    {
     "data": {
      "text/html": [
       "<table border=\"1\" class=\"dataframe\">\n",
       "  <thead>\n",
       "    <tr style=\"text-align: left;\">\n",
       "      <th>epoch</th>\n",
       "      <th>train_loss</th>\n",
       "      <th>valid_loss</th>\n",
       "      <th>accuracy</th>\n",
       "      <th>time</th>\n",
       "    </tr>\n",
       "  </thead>\n",
       "  <tbody>\n",
       "    <tr>\n",
       "      <td>0</td>\n",
       "      <td>0.276060</td>\n",
       "      <td>0.184563</td>\n",
       "      <td>0.951552</td>\n",
       "      <td>11:44</td>\n",
       "    </tr>\n",
       "  </tbody>\n",
       "</table>"
      ],
      "text/plain": [
       "<IPython.core.display.HTML object>"
      ]
     },
     "metadata": {},
     "output_type": "display_data"
    },
    {
     "data": {
      "text/html": [
       "<table border=\"1\" class=\"dataframe\">\n",
       "  <thead>\n",
       "    <tr style=\"text-align: left;\">\n",
       "      <th>epoch</th>\n",
       "      <th>train_loss</th>\n",
       "      <th>valid_loss</th>\n",
       "      <th>accuracy</th>\n",
       "      <th>time</th>\n",
       "    </tr>\n",
       "  </thead>\n",
       "  <tbody>\n",
       "    <tr>\n",
       "      <td>0</td>\n",
       "      <td>0.245104</td>\n",
       "      <td>0.167335</td>\n",
       "      <td>0.960960</td>\n",
       "      <td>15:58</td>\n",
       "    </tr>\n",
       "  </tbody>\n",
       "</table>"
      ],
      "text/plain": [
       "<IPython.core.display.HTML object>"
      ]
     },
     "metadata": {},
     "output_type": "display_data"
    },
    {
     "data": {
      "text/html": [
       "<table border=\"1\" class=\"dataframe\">\n",
       "  <thead>\n",
       "    <tr style=\"text-align: left;\">\n",
       "      <th>epoch</th>\n",
       "      <th>train_loss</th>\n",
       "      <th>valid_loss</th>\n",
       "      <th>accuracy</th>\n",
       "      <th>time</th>\n",
       "    </tr>\n",
       "  </thead>\n",
       "  <tbody>\n",
       "    <tr>\n",
       "      <td>0</td>\n",
       "      <td>0.249963</td>\n",
       "      <td>0.187017</td>\n",
       "      <td>0.954374</td>\n",
       "      <td>11:47</td>\n",
       "    </tr>\n",
       "  </tbody>\n",
       "</table>"
      ],
      "text/plain": [
       "<IPython.core.display.HTML object>"
      ]
     },
     "metadata": {},
     "output_type": "display_data"
    },
    {
     "data": {
      "text/html": [
       "<table border=\"1\" class=\"dataframe\">\n",
       "  <thead>\n",
       "    <tr style=\"text-align: left;\">\n",
       "      <th>epoch</th>\n",
       "      <th>train_loss</th>\n",
       "      <th>valid_loss</th>\n",
       "      <th>accuracy</th>\n",
       "      <th>time</th>\n",
       "    </tr>\n",
       "  </thead>\n",
       "  <tbody>\n",
       "    <tr>\n",
       "      <td>0</td>\n",
       "      <td>0.232916</td>\n",
       "      <td>0.160296</td>\n",
       "      <td>0.956726</td>\n",
       "      <td>15:56</td>\n",
       "    </tr>\n",
       "  </tbody>\n",
       "</table>"
      ],
      "text/plain": [
       "<IPython.core.display.HTML object>"
      ]
     },
     "metadata": {},
     "output_type": "display_data"
    },
    {
     "data": {
      "text/html": [
       "<table border=\"1\" class=\"dataframe\">\n",
       "  <thead>\n",
       "    <tr style=\"text-align: left;\">\n",
       "      <th>epoch</th>\n",
       "      <th>train_loss</th>\n",
       "      <th>valid_loss</th>\n",
       "      <th>accuracy</th>\n",
       "      <th>time</th>\n",
       "    </tr>\n",
       "  </thead>\n",
       "  <tbody>\n",
       "    <tr>\n",
       "      <td>0</td>\n",
       "      <td>0.242837</td>\n",
       "      <td>0.180903</td>\n",
       "      <td>0.956726</td>\n",
       "      <td>11:47</td>\n",
       "    </tr>\n",
       "  </tbody>\n",
       "</table>"
      ],
      "text/plain": [
       "<IPython.core.display.HTML object>"
      ]
     },
     "metadata": {},
     "output_type": "display_data"
    },
    {
     "data": {
      "text/html": [
       "<table border=\"1\" class=\"dataframe\">\n",
       "  <thead>\n",
       "    <tr style=\"text-align: left;\">\n",
       "      <th>epoch</th>\n",
       "      <th>train_loss</th>\n",
       "      <th>valid_loss</th>\n",
       "      <th>accuracy</th>\n",
       "      <th>time</th>\n",
       "    </tr>\n",
       "  </thead>\n",
       "  <tbody>\n",
       "    <tr>\n",
       "      <td>0</td>\n",
       "      <td>0.216217</td>\n",
       "      <td>0.150158</td>\n",
       "      <td>0.961900</td>\n",
       "      <td>16:19</td>\n",
       "    </tr>\n",
       "  </tbody>\n",
       "</table>"
      ],
      "text/plain": [
       "<IPython.core.display.HTML object>"
      ]
     },
     "metadata": {},
     "output_type": "display_data"
    },
    {
     "data": {
      "text/html": [
       "<table border=\"1\" class=\"dataframe\">\n",
       "  <thead>\n",
       "    <tr style=\"text-align: left;\">\n",
       "      <th>epoch</th>\n",
       "      <th>train_loss</th>\n",
       "      <th>valid_loss</th>\n",
       "      <th>accuracy</th>\n",
       "      <th>time</th>\n",
       "    </tr>\n",
       "  </thead>\n",
       "  <tbody>\n",
       "    <tr>\n",
       "      <td>0</td>\n",
       "      <td>0.217640</td>\n",
       "      <td>0.156174</td>\n",
       "      <td>0.959078</td>\n",
       "      <td>11:42</td>\n",
       "    </tr>\n",
       "  </tbody>\n",
       "</table>"
      ],
      "text/plain": [
       "<IPython.core.display.HTML object>"
      ]
     },
     "metadata": {},
     "output_type": "display_data"
    },
    {
     "data": {
      "text/html": [
       "<table border=\"1\" class=\"dataframe\">\n",
       "  <thead>\n",
       "    <tr style=\"text-align: left;\">\n",
       "      <th>epoch</th>\n",
       "      <th>train_loss</th>\n",
       "      <th>valid_loss</th>\n",
       "      <th>accuracy</th>\n",
       "      <th>time</th>\n",
       "    </tr>\n",
       "  </thead>\n",
       "  <tbody>\n",
       "    <tr>\n",
       "      <td>0</td>\n",
       "      <td>0.197112</td>\n",
       "      <td>0.148186</td>\n",
       "      <td>0.964252</td>\n",
       "      <td>16:00</td>\n",
       "    </tr>\n",
       "  </tbody>\n",
       "</table>"
      ],
      "text/plain": [
       "<IPython.core.display.HTML object>"
      ]
     },
     "metadata": {},
     "output_type": "display_data"
    },
    {
     "name": "stdout",
     "output_type": "stream",
     "text": [
      "Generating OCR_resnet18_cut_6_ep_\n"
     ]
    },
    {
     "data": {
      "text/html": [
       "<table border=\"1\" class=\"dataframe\">\n",
       "  <thead>\n",
       "    <tr style=\"text-align: left;\">\n",
       "      <th>epoch</th>\n",
       "      <th>train_loss</th>\n",
       "      <th>valid_loss</th>\n",
       "      <th>accuracy</th>\n",
       "      <th>time</th>\n",
       "    </tr>\n",
       "  </thead>\n",
       "  <tbody>\n",
       "    <tr>\n",
       "      <td>0</td>\n",
       "      <td>1.340487</td>\n",
       "      <td>0.304608</td>\n",
       "      <td>0.927563</td>\n",
       "      <td>17:37</td>\n",
       "    </tr>\n",
       "  </tbody>\n",
       "</table>"
      ],
      "text/plain": [
       "<IPython.core.display.HTML object>"
      ]
     },
     "metadata": {},
     "output_type": "display_data"
    },
    {
     "data": {
      "text/html": [
       "<table border=\"1\" class=\"dataframe\">\n",
       "  <thead>\n",
       "    <tr style=\"text-align: left;\">\n",
       "      <th>epoch</th>\n",
       "      <th>train_loss</th>\n",
       "      <th>valid_loss</th>\n",
       "      <th>accuracy</th>\n",
       "      <th>time</th>\n",
       "    </tr>\n",
       "  </thead>\n",
       "  <tbody>\n",
       "    <tr>\n",
       "      <td>0</td>\n",
       "      <td>0.403672</td>\n",
       "      <td>0.209140</td>\n",
       "      <td>0.951552</td>\n",
       "      <td>24:15</td>\n",
       "    </tr>\n",
       "  </tbody>\n",
       "</table>"
      ],
      "text/plain": [
       "<IPython.core.display.HTML object>"
      ]
     },
     "metadata": {},
     "output_type": "display_data"
    },
    {
     "data": {
      "text/html": [
       "<table border=\"1\" class=\"dataframe\">\n",
       "  <thead>\n",
       "    <tr style=\"text-align: left;\">\n",
       "      <th>epoch</th>\n",
       "      <th>train_loss</th>\n",
       "      <th>valid_loss</th>\n",
       "      <th>accuracy</th>\n",
       "      <th>time</th>\n",
       "    </tr>\n",
       "  </thead>\n",
       "  <tbody>\n",
       "    <tr>\n",
       "      <td>0</td>\n",
       "      <td>0.343246</td>\n",
       "      <td>0.172163</td>\n",
       "      <td>0.960960</td>\n",
       "      <td>17:37</td>\n",
       "    </tr>\n",
       "  </tbody>\n",
       "</table>"
      ],
      "text/plain": [
       "<IPython.core.display.HTML object>"
      ]
     },
     "metadata": {},
     "output_type": "display_data"
    },
    {
     "data": {
      "text/html": [
       "<table border=\"1\" class=\"dataframe\">\n",
       "  <thead>\n",
       "    <tr style=\"text-align: left;\">\n",
       "      <th>epoch</th>\n",
       "      <th>train_loss</th>\n",
       "      <th>valid_loss</th>\n",
       "      <th>accuracy</th>\n",
       "      <th>time</th>\n",
       "    </tr>\n",
       "  </thead>\n",
       "  <tbody>\n",
       "    <tr>\n",
       "      <td>0</td>\n",
       "      <td>0.222726</td>\n",
       "      <td>0.148525</td>\n",
       "      <td>0.965193</td>\n",
       "      <td>24:20</td>\n",
       "    </tr>\n",
       "  </tbody>\n",
       "</table>"
      ],
      "text/plain": [
       "<IPython.core.display.HTML object>"
      ]
     },
     "metadata": {},
     "output_type": "display_data"
    },
    {
     "data": {
      "text/html": [
       "<table border=\"1\" class=\"dataframe\">\n",
       "  <thead>\n",
       "    <tr style=\"text-align: left;\">\n",
       "      <th>epoch</th>\n",
       "      <th>train_loss</th>\n",
       "      <th>valid_loss</th>\n",
       "      <th>accuracy</th>\n",
       "      <th>time</th>\n",
       "    </tr>\n",
       "  </thead>\n",
       "  <tbody>\n",
       "    <tr>\n",
       "      <td>0</td>\n",
       "      <td>0.199566</td>\n",
       "      <td>0.143396</td>\n",
       "      <td>0.966604</td>\n",
       "      <td>17:37</td>\n",
       "    </tr>\n",
       "  </tbody>\n",
       "</table>"
      ],
      "text/plain": [
       "<IPython.core.display.HTML object>"
      ]
     },
     "metadata": {},
     "output_type": "display_data"
    },
    {
     "data": {
      "text/html": [
       "<table border=\"1\" class=\"dataframe\">\n",
       "  <thead>\n",
       "    <tr style=\"text-align: left;\">\n",
       "      <th>epoch</th>\n",
       "      <th>train_loss</th>\n",
       "      <th>valid_loss</th>\n",
       "      <th>accuracy</th>\n",
       "      <th>time</th>\n",
       "    </tr>\n",
       "  </thead>\n",
       "  <tbody>\n",
       "    <tr>\n",
       "      <td>0</td>\n",
       "      <td>0.183443</td>\n",
       "      <td>0.120399</td>\n",
       "      <td>0.972719</td>\n",
       "      <td>24:16</td>\n",
       "    </tr>\n",
       "  </tbody>\n",
       "</table>"
      ],
      "text/plain": [
       "<IPython.core.display.HTML object>"
      ]
     },
     "metadata": {},
     "output_type": "display_data"
    },
    {
     "data": {
      "text/html": [
       "<table border=\"1\" class=\"dataframe\">\n",
       "  <thead>\n",
       "    <tr style=\"text-align: left;\">\n",
       "      <th>epoch</th>\n",
       "      <th>train_loss</th>\n",
       "      <th>valid_loss</th>\n",
       "      <th>accuracy</th>\n",
       "      <th>time</th>\n",
       "    </tr>\n",
       "  </thead>\n",
       "  <tbody>\n",
       "    <tr>\n",
       "      <td>0</td>\n",
       "      <td>0.164150</td>\n",
       "      <td>0.128926</td>\n",
       "      <td>0.969426</td>\n",
       "      <td>17:38</td>\n",
       "    </tr>\n",
       "  </tbody>\n",
       "</table>"
      ],
      "text/plain": [
       "<IPython.core.display.HTML object>"
      ]
     },
     "metadata": {},
     "output_type": "display_data"
    },
    {
     "data": {
      "text/html": [
       "<table border=\"1\" class=\"dataframe\">\n",
       "  <thead>\n",
       "    <tr style=\"text-align: left;\">\n",
       "      <th>epoch</th>\n",
       "      <th>train_loss</th>\n",
       "      <th>valid_loss</th>\n",
       "      <th>accuracy</th>\n",
       "      <th>time</th>\n",
       "    </tr>\n",
       "  </thead>\n",
       "  <tbody>\n",
       "    <tr>\n",
       "      <td>0</td>\n",
       "      <td>0.130288</td>\n",
       "      <td>0.109580</td>\n",
       "      <td>0.973189</td>\n",
       "      <td>24:14</td>\n",
       "    </tr>\n",
       "  </tbody>\n",
       "</table>"
      ],
      "text/plain": [
       "<IPython.core.display.HTML object>"
      ]
     },
     "metadata": {},
     "output_type": "display_data"
    },
    {
     "data": {
      "text/html": [
       "<table border=\"1\" class=\"dataframe\">\n",
       "  <thead>\n",
       "    <tr style=\"text-align: left;\">\n",
       "      <th>epoch</th>\n",
       "      <th>train_loss</th>\n",
       "      <th>valid_loss</th>\n",
       "      <th>accuracy</th>\n",
       "      <th>time</th>\n",
       "    </tr>\n",
       "  </thead>\n",
       "  <tbody>\n",
       "    <tr>\n",
       "      <td>0</td>\n",
       "      <td>0.136742</td>\n",
       "      <td>0.104211</td>\n",
       "      <td>0.975071</td>\n",
       "      <td>17:37</td>\n",
       "    </tr>\n",
       "  </tbody>\n",
       "</table>"
      ],
      "text/plain": [
       "<IPython.core.display.HTML object>"
      ]
     },
     "metadata": {},
     "output_type": "display_data"
    },
    {
     "data": {
      "text/html": [
       "<table border=\"1\" class=\"dataframe\">\n",
       "  <thead>\n",
       "    <tr style=\"text-align: left;\">\n",
       "      <th>epoch</th>\n",
       "      <th>train_loss</th>\n",
       "      <th>valid_loss</th>\n",
       "      <th>accuracy</th>\n",
       "      <th>time</th>\n",
       "    </tr>\n",
       "  </thead>\n",
       "  <tbody>\n",
       "    <tr>\n",
       "      <td>0</td>\n",
       "      <td>0.110741</td>\n",
       "      <td>0.101772</td>\n",
       "      <td>0.975071</td>\n",
       "      <td>24:15</td>\n",
       "    </tr>\n",
       "  </tbody>\n",
       "</table>"
      ],
      "text/plain": [
       "<IPython.core.display.HTML object>"
      ]
     },
     "metadata": {},
     "output_type": "display_data"
    },
    {
     "data": {
      "text/html": [
       "<table border=\"1\" class=\"dataframe\">\n",
       "  <thead>\n",
       "    <tr style=\"text-align: left;\">\n",
       "      <th>epoch</th>\n",
       "      <th>train_loss</th>\n",
       "      <th>valid_loss</th>\n",
       "      <th>accuracy</th>\n",
       "      <th>time</th>\n",
       "    </tr>\n",
       "  </thead>\n",
       "  <tbody>\n",
       "    <tr>\n",
       "      <td>0</td>\n",
       "      <td>0.102026</td>\n",
       "      <td>0.108892</td>\n",
       "      <td>0.973659</td>\n",
       "      <td>17:38</td>\n",
       "    </tr>\n",
       "  </tbody>\n",
       "</table>"
      ],
      "text/plain": [
       "<IPython.core.display.HTML object>"
      ]
     },
     "metadata": {},
     "output_type": "display_data"
    },
    {
     "data": {
      "text/html": [
       "<table border=\"1\" class=\"dataframe\">\n",
       "  <thead>\n",
       "    <tr style=\"text-align: left;\">\n",
       "      <th>epoch</th>\n",
       "      <th>train_loss</th>\n",
       "      <th>valid_loss</th>\n",
       "      <th>accuracy</th>\n",
       "      <th>time</th>\n",
       "    </tr>\n",
       "  </thead>\n",
       "  <tbody>\n",
       "    <tr>\n",
       "      <td>0</td>\n",
       "      <td>0.074477</td>\n",
       "      <td>0.093923</td>\n",
       "      <td>0.977422</td>\n",
       "      <td>24:18</td>\n",
       "    </tr>\n",
       "  </tbody>\n",
       "</table>"
      ],
      "text/plain": [
       "<IPython.core.display.HTML object>"
      ]
     },
     "metadata": {},
     "output_type": "display_data"
    },
    {
     "data": {
      "text/html": [
       "<table border=\"1\" class=\"dataframe\">\n",
       "  <thead>\n",
       "    <tr style=\"text-align: left;\">\n",
       "      <th>epoch</th>\n",
       "      <th>train_loss</th>\n",
       "      <th>valid_loss</th>\n",
       "      <th>accuracy</th>\n",
       "      <th>time</th>\n",
       "    </tr>\n",
       "  </thead>\n",
       "  <tbody>\n",
       "    <tr>\n",
       "      <td>0</td>\n",
       "      <td>0.094133</td>\n",
       "      <td>0.099922</td>\n",
       "      <td>0.975541</td>\n",
       "      <td>17:37</td>\n",
       "    </tr>\n",
       "  </tbody>\n",
       "</table>"
      ],
      "text/plain": [
       "<IPython.core.display.HTML object>"
      ]
     },
     "metadata": {},
     "output_type": "display_data"
    },
    {
     "data": {
      "text/html": [
       "<table border=\"1\" class=\"dataframe\">\n",
       "  <thead>\n",
       "    <tr style=\"text-align: left;\">\n",
       "      <th>epoch</th>\n",
       "      <th>train_loss</th>\n",
       "      <th>valid_loss</th>\n",
       "      <th>accuracy</th>\n",
       "      <th>time</th>\n",
       "    </tr>\n",
       "  </thead>\n",
       "  <tbody>\n",
       "    <tr>\n",
       "      <td>0</td>\n",
       "      <td>0.071028</td>\n",
       "      <td>0.088766</td>\n",
       "      <td>0.977422</td>\n",
       "      <td>24:10</td>\n",
       "    </tr>\n",
       "  </tbody>\n",
       "</table>"
      ],
      "text/plain": [
       "<IPython.core.display.HTML object>"
      ]
     },
     "metadata": {},
     "output_type": "display_data"
    },
    {
     "name": "stdout",
     "output_type": "stream",
     "text": [
      "Generating OCR_resnet18_cut_7_ep_\n"
     ]
    },
    {
     "data": {
      "text/html": [
       "<table border=\"1\" class=\"dataframe\">\n",
       "  <thead>\n",
       "    <tr style=\"text-align: left;\">\n",
       "      <th>epoch</th>\n",
       "      <th>train_loss</th>\n",
       "      <th>valid_loss</th>\n",
       "      <th>accuracy</th>\n",
       "      <th>time</th>\n",
       "    </tr>\n",
       "  </thead>\n",
       "  <tbody>\n",
       "    <tr>\n",
       "      <td>0</td>\n",
       "      <td>0.824907</td>\n",
       "      <td>0.128713</td>\n",
       "      <td>0.967074</td>\n",
       "      <td>22:46</td>\n",
       "    </tr>\n",
       "  </tbody>\n",
       "</table>"
      ],
      "text/plain": [
       "<IPython.core.display.HTML object>"
      ]
     },
     "metadata": {},
     "output_type": "display_data"
    },
    {
     "data": {
      "text/html": [
       "<table border=\"1\" class=\"dataframe\">\n",
       "  <thead>\n",
       "    <tr style=\"text-align: left;\">\n",
       "      <th>epoch</th>\n",
       "      <th>train_loss</th>\n",
       "      <th>valid_loss</th>\n",
       "      <th>accuracy</th>\n",
       "      <th>time</th>\n",
       "    </tr>\n",
       "  </thead>\n",
       "  <tbody>\n",
       "    <tr>\n",
       "      <td>0</td>\n",
       "      <td>0.136488</td>\n",
       "      <td>0.066519</td>\n",
       "      <td>0.983537</td>\n",
       "      <td>31:41</td>\n",
       "    </tr>\n",
       "  </tbody>\n",
       "</table>"
      ],
      "text/plain": [
       "<IPython.core.display.HTML object>"
      ]
     },
     "metadata": {},
     "output_type": "display_data"
    },
    {
     "data": {
      "text/html": [
       "<table border=\"1\" class=\"dataframe\">\n",
       "  <thead>\n",
       "    <tr style=\"text-align: left;\">\n",
       "      <th>epoch</th>\n",
       "      <th>train_loss</th>\n",
       "      <th>valid_loss</th>\n",
       "      <th>accuracy</th>\n",
       "      <th>time</th>\n",
       "    </tr>\n",
       "  </thead>\n",
       "  <tbody>\n",
       "    <tr>\n",
       "      <td>0</td>\n",
       "      <td>0.090889</td>\n",
       "      <td>0.060237</td>\n",
       "      <td>0.985419</td>\n",
       "      <td>22:46</td>\n",
       "    </tr>\n",
       "  </tbody>\n",
       "</table>"
      ],
      "text/plain": [
       "<IPython.core.display.HTML object>"
      ]
     },
     "metadata": {},
     "output_type": "display_data"
    },
    {
     "data": {
      "text/html": [
       "<table border=\"1\" class=\"dataframe\">\n",
       "  <thead>\n",
       "    <tr style=\"text-align: left;\">\n",
       "      <th>epoch</th>\n",
       "      <th>train_loss</th>\n",
       "      <th>valid_loss</th>\n",
       "      <th>accuracy</th>\n",
       "      <th>time</th>\n",
       "    </tr>\n",
       "  </thead>\n",
       "  <tbody>\n",
       "    <tr>\n",
       "      <td>0</td>\n",
       "      <td>0.053797</td>\n",
       "      <td>0.052439</td>\n",
       "      <td>0.986830</td>\n",
       "      <td>31:42</td>\n",
       "    </tr>\n",
       "  </tbody>\n",
       "</table>"
      ],
      "text/plain": [
       "<IPython.core.display.HTML object>"
      ]
     },
     "metadata": {},
     "output_type": "display_data"
    },
    {
     "data": {
      "text/html": [
       "<table border=\"1\" class=\"dataframe\">\n",
       "  <thead>\n",
       "    <tr style=\"text-align: left;\">\n",
       "      <th>epoch</th>\n",
       "      <th>train_loss</th>\n",
       "      <th>valid_loss</th>\n",
       "      <th>accuracy</th>\n",
       "      <th>time</th>\n",
       "    </tr>\n",
       "  </thead>\n",
       "  <tbody>\n",
       "    <tr>\n",
       "      <td>0</td>\n",
       "      <td>0.045052</td>\n",
       "      <td>0.056773</td>\n",
       "      <td>0.985889</td>\n",
       "      <td>22:52</td>\n",
       "    </tr>\n",
       "  </tbody>\n",
       "</table>"
      ],
      "text/plain": [
       "<IPython.core.display.HTML object>"
      ]
     },
     "metadata": {},
     "output_type": "display_data"
    },
    {
     "data": {
      "text/html": [
       "<table border=\"1\" class=\"dataframe\">\n",
       "  <thead>\n",
       "    <tr style=\"text-align: left;\">\n",
       "      <th>epoch</th>\n",
       "      <th>train_loss</th>\n",
       "      <th>valid_loss</th>\n",
       "      <th>accuracy</th>\n",
       "      <th>time</th>\n",
       "    </tr>\n",
       "  </thead>\n",
       "  <tbody>\n",
       "    <tr>\n",
       "      <td>0</td>\n",
       "      <td>0.035270</td>\n",
       "      <td>0.042861</td>\n",
       "      <td>0.989182</td>\n",
       "      <td>31:51</td>\n",
       "    </tr>\n",
       "  </tbody>\n",
       "</table>"
      ],
      "text/plain": [
       "<IPython.core.display.HTML object>"
      ]
     },
     "metadata": {},
     "output_type": "display_data"
    },
    {
     "data": {
      "text/html": [
       "<table border=\"1\" class=\"dataframe\">\n",
       "  <thead>\n",
       "    <tr style=\"text-align: left;\">\n",
       "      <th>epoch</th>\n",
       "      <th>train_loss</th>\n",
       "      <th>valid_loss</th>\n",
       "      <th>accuracy</th>\n",
       "      <th>time</th>\n",
       "    </tr>\n",
       "  </thead>\n",
       "  <tbody>\n",
       "    <tr>\n",
       "      <td>0</td>\n",
       "      <td>0.021533</td>\n",
       "      <td>0.051969</td>\n",
       "      <td>0.985889</td>\n",
       "      <td>22:47</td>\n",
       "    </tr>\n",
       "  </tbody>\n",
       "</table>"
      ],
      "text/plain": [
       "<IPython.core.display.HTML object>"
      ]
     },
     "metadata": {},
     "output_type": "display_data"
    },
    {
     "data": {
      "text/html": [
       "<table border=\"1\" class=\"dataframe\">\n",
       "  <thead>\n",
       "    <tr style=\"text-align: left;\">\n",
       "      <th>epoch</th>\n",
       "      <th>train_loss</th>\n",
       "      <th>valid_loss</th>\n",
       "      <th>accuracy</th>\n",
       "      <th>time</th>\n",
       "    </tr>\n",
       "  </thead>\n",
       "  <tbody>\n",
       "    <tr>\n",
       "      <td>0</td>\n",
       "      <td>0.022024</td>\n",
       "      <td>0.039496</td>\n",
       "      <td>0.989652</td>\n",
       "      <td>31:46</td>\n",
       "    </tr>\n",
       "  </tbody>\n",
       "</table>"
      ],
      "text/plain": [
       "<IPython.core.display.HTML object>"
      ]
     },
     "metadata": {},
     "output_type": "display_data"
    },
    {
     "data": {
      "text/html": [
       "<table border=\"1\" class=\"dataframe\">\n",
       "  <thead>\n",
       "    <tr style=\"text-align: left;\">\n",
       "      <th>epoch</th>\n",
       "      <th>train_loss</th>\n",
       "      <th>valid_loss</th>\n",
       "      <th>accuracy</th>\n",
       "      <th>time</th>\n",
       "    </tr>\n",
       "  </thead>\n",
       "  <tbody>\n",
       "    <tr>\n",
       "      <td>0</td>\n",
       "      <td>0.017432</td>\n",
       "      <td>0.051527</td>\n",
       "      <td>0.986830</td>\n",
       "      <td>1:00:11</td>\n",
       "    </tr>\n",
       "  </tbody>\n",
       "</table>"
      ],
      "text/plain": [
       "<IPython.core.display.HTML object>"
      ]
     },
     "metadata": {},
     "output_type": "display_data"
    },
    {
     "data": {
      "text/html": [
       "<table border=\"1\" class=\"dataframe\">\n",
       "  <thead>\n",
       "    <tr style=\"text-align: left;\">\n",
       "      <th>epoch</th>\n",
       "      <th>train_loss</th>\n",
       "      <th>valid_loss</th>\n",
       "      <th>accuracy</th>\n",
       "      <th>time</th>\n",
       "    </tr>\n",
       "  </thead>\n",
       "  <tbody>\n",
       "    <tr>\n",
       "      <td>0</td>\n",
       "      <td>0.018832</td>\n",
       "      <td>0.040182</td>\n",
       "      <td>0.990593</td>\n",
       "      <td>36:13</td>\n",
       "    </tr>\n",
       "  </tbody>\n",
       "</table>"
      ],
      "text/plain": [
       "<IPython.core.display.HTML object>"
      ]
     },
     "metadata": {},
     "output_type": "display_data"
    }
   ],
   "source": [
    "def create_ocr_models():\n",
    "    # This uses a silly way of setting epochs\n",
    "    # Todo: convert to one fine_tune call and add a callback to save model \n",
    "    # afte each epoch\n",
    "    for cut in range(5, 8):\n",
    "        epochs = 1 + (9 - cut) * 2\n",
    "        save_as = f\"OCR_resnet18_cut_{cut}_ep_\"\n",
    "        print(f\"Generating {save_as}\")\n",
    "        create_ocr_model(epochs=epochs, \n",
    "                        cut=cut,\n",
    "                        save_as=save_as)"
   ]
  },
  {
   "cell_type": "code",
   "execution_count": 10,
   "metadata": {},
   "outputs": [
    {
     "data": {
      "text/html": [],
      "text/plain": [
       "<IPython.core.display.HTML object>"
      ]
     },
     "metadata": {},
     "output_type": "display_data"
    },
    {
     "name": "stdout",
     "output_type": "stream",
     "text": [
      "torch.Size([1, 26]) torch.Size([1]) TensorCategory([17])\n"
     ]
    },
    {
     "data": {
      "text/plain": [
       "TensorCategory(8.3446e-07, grad_fn=<AliasBackward0>)"
      ]
     },
     "execution_count": 10,
     "metadata": {},
     "output_type": "execute_result"
    }
   ],
   "source": [
    "learn = get_ocr_model()\n",
    "dls = learn.dls\n",
    "img,y = dls.train.dataset[0]\n",
    "batch,_ = dls.train.one_batch()\n",
    "res = learn.predict(img)\n",
    "y_1h = F.one_hot(y, num_classes=dls.c).float()\n",
    "pred = res[1]\n",
    "pred.requires_grad_()\n",
    "inp = torch.reshape(pred, (1, -1))\n",
    "tar = torch.reshape(y, (-1,))\n",
    "print(inp.shape, tar.shape, tar)\n",
    "F.cross_entropy(inp, tar)"
   ]
  },
  {
   "cell_type": "markdown",
   "metadata": {},
   "source": [
    "## Export"
   ]
  },
  {
   "cell_type": "code",
   "execution_count": 21,
   "metadata": {},
   "outputs": [
    {
     "name": "stdout",
     "output_type": "stream",
     "text": [
      "Converted 01_fontlearnertests.ipynb.\n",
      "Converted 02_first_letter_and_optim_tests.ipynb.\n",
      "Converted 03_vector_models.ipynb.\n",
      "Converted 04_font_statistics.ipynb.\n",
      "Converted 05_full_aphabet_optimisation.ipynb.\n",
      "Converted 06_data_augmentation.ipynb.\n",
      "Converted 07_optimising_with_augmentation.ipynb.\n",
      "Converted 08_comparing_existing_fonts.ipynb.\n",
      "Converted 09_optimise_to_match_font.ipynb.\n",
      "Converted 10_optimising_with_aug_run_2.ipynb.\n",
      "Converted 11_optimise_to_match_font_multires.ipynb.\n",
      "Converted 12_optimising_with_aug_with_multiple_ocr_models.ipynb.\n",
      "Converted 13_analysing_ocr_models.ipynb.\n",
      "Converted aifont_core.ipynb.\n",
      "Converted aifont_fontlearner.ipynb.\n",
      "Converted aifont_fontsampler.ipynb.\n",
      "Converted aifont_ocrlearner.ipynb.\n",
      "Converted index.ipynb.\n"
     ]
    }
   ],
   "source": [
    "#hide\n",
    "from nbdev.export import notebook2script; notebook2script()"
   ]
  }
 ],
 "metadata": {
  "interpreter": {
   "hash": "5710b12fb88680bf60c169aecc91e9487b0350ee3a6536206b6750ffeed12b61"
  },
  "kernelspec": {
   "display_name": "Python 3.9.7 ('ai-font-p3.9')",
   "language": "python",
   "name": "python3"
  },
  "language_info": {
   "codemirror_mode": {
    "name": "ipython",
    "version": 3
   },
   "file_extension": ".py",
   "mimetype": "text/x-python",
   "name": "python",
   "nbconvert_exporter": "python",
   "pygments_lexer": "ipython3",
   "version": "3.9.12"
  },
  "orig_nbformat": 4
 },
 "nbformat": 4,
 "nbformat_minor": 2
}
